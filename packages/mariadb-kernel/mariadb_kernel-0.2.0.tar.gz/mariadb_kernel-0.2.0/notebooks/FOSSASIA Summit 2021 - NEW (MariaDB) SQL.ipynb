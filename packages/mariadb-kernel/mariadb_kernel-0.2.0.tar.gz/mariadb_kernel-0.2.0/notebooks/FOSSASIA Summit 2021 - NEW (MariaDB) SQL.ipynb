{
 "cells": [
  {
   "cell_type": "markdown",
   "metadata": {},
   "source": [
    "# **FOSSASIA Summit 2021**\n",
    "# NEW (MariaDB) SQL\n",
    "## Practical Examples of Modern SQL to solve harder problems"
   ]
  },
  {
   "cell_type": "markdown",
   "metadata": {},
   "source": [
    "Code Examples:\n",
    "\n",
    "* [CTEs](https://dbfiddle.uk/?rdbms=mariadb_10.3&fiddle=3ca4c4f811ac12f2d0e8b3b6c11799a8)\n",
    "* [Recursive CTEs](https://dbfiddle.uk/?rdbms=mariadb_10.3&fiddle=939a43cfcd7396b1ad00c7d8cda867dc)\n",
    "* [Recursive CTEs CYCLES RESTRICT](https://dbfiddle.uk/?rdbms=mariadb_10.5&fiddle=84813c2f2eb4f76938c50fe9f58ea586)\n",
    "* [INSERT RETURNING](https://dbfiddle.uk/?rdbms=mariadb_10.5&fiddle=d44138556fbe1872e06fe6cb36dbeda8)\n",
    "* [System Versioned Tables - time](https://dbfiddle.uk/?rdbms=mariadb_10.3&fiddle=42260ada361656a76b59d4999f559247)\n",
    "* [System Versioned Tables - transaction](https://dbfiddle.uk/?rdbms=mariadb_10.3&fiddle=35435ec490bcbd351a6dfd91e8964f57)\n",
    "* [System Versioned Tables - partitioning](https://dbfiddle.uk/?rdbms=mariadb_10.5&fiddle=e6658a5663747ebbc71113a2e0f7103c)\n",
    "* [IPv6 - INET6 Datatype](https://dbfiddle.uk/?rdbms=mariadb_10.5&fiddle=6cb350bfa716d577e1c1af03a54a2ee5)\n",
    "* [Application Time Periods](https://dbfiddle.uk/?rdbms=mariadb_10.4&fiddle=2625f132da5536e748be6b72211c4afd)\n",
    "* [Application Time Periods - without Overlaps](https://dbfiddle.uk/?rdbms=mariadb_10.5&fiddle=e7cf6718bec732f3e01505ea25e8cd7d)"
   ]
  },
  {
   "cell_type": "markdown",
   "metadata": {},
   "source": [
    "## *Common Table Expressions - CTEs - MariaDB 10.2+*"
   ]
  },
  {
   "cell_type": "code",
   "execution_count": 1,
   "metadata": {},
   "outputs": [
    {
     "data": {
      "text/html": [
       "<TABLE BORDER=1><TR><TH>version()</TH></TR><TR><TD>10.5.10-MariaDB</TD></TR></TABLE>"
      ]
     },
     "metadata": {},
     "output_type": "display_data"
    }
   ],
   "source": [
    "select version();"
   ]
  },
  {
   "cell_type": "code",
   "execution_count": 2,
   "metadata": {},
   "outputs": [
    {
     "data": {
      "text/html": []
     },
     "metadata": {},
     "output_type": "display_data"
    }
   ],
   "source": [
    "create database if not exists ctetests;"
   ]
  },
  {
   "cell_type": "code",
   "execution_count": 3,
   "metadata": {},
   "outputs": [
    {
     "data": {
      "text/html": []
     },
     "metadata": {},
     "output_type": "display_data"
    }
   ],
   "source": [
    "use ctetests;"
   ]
  },
  {
   "cell_type": "code",
   "execution_count": 4,
   "metadata": {},
   "outputs": [
    {
     "data": {
      "text/html": []
     },
     "metadata": {},
     "output_type": "display_data"
    }
   ],
   "source": [
    "create or replace table student_tests (\n",
    " name CHAR(10), test CHAR(10), \n",
    " score TINYINT, test_date DATE\n",
    ");"
   ]
  },
  {
   "cell_type": "markdown",
   "metadata": {},
   "source": [
    "### **Adding some data into the table**"
   ]
  },
  {
   "cell_type": "code",
   "execution_count": 5,
   "metadata": {},
   "outputs": [
    {
     "data": {
      "text/html": []
     },
     "metadata": {},
     "output_type": "display_data"
    }
   ],
   "source": [
    "INSERT INTO student_tests \n",
    " (name, test, score, test_date) VALUES\n",
    " ('Chun', 'SQL', 75, '2012-11-05'), \n",
    " ('Chun', 'Tuning', 73, '2013-06-14'),\n",
    " ('Esben', 'SQL', 43, '2014-02-11'), \n",
    " ('Esben', 'Tuning', 31, '2014-02-09'), \n",
    " ('Kaolin', 'SQL', 56, '2014-01-01'),\n",
    " ('Kaolin', 'Tuning', 88, '2013-12-29'), \n",
    " ('Tatiana', 'SQL', 75, '2012-04-28'), \n",
    " ('Tatiana', 'Tuning', 83, '2013-09-30');"
   ]
  },
  {
   "cell_type": "markdown",
   "metadata": {},
   "source": [
    "### **Running a CTE**"
   ]
  },
  {
   "cell_type": "code",
   "execution_count": 6,
   "metadata": {
    "scrolled": true
   },
   "outputs": [
    {
     "data": {
      "text/html": [
       "<TABLE BORDER=1><TR><TH>name</TH><TH>test</TH><TH>score</TH><TH>test_date</TH></TR><TR><TD>Chun</TD><TD>SQL</TD><TD>75</TD><TD>2012-11-05</TD></TR><TR><TD>Esben</TD><TD>SQL</TD><TD>43</TD><TD>2014-02-11</TD></TR><TR><TD>Kaolin</TD><TD>SQL</TD><TD>56</TD><TD>2014-01-01</TD></TR><TR><TD>Tatiana</TD><TD>SQL</TD><TD>75</TD><TD>2012-04-28</TD></TR></TABLE>"
      ]
     },
     "metadata": {},
     "output_type": "display_data"
    }
   ],
   "source": [
    "WITH sqltest AS \n",
    "   ( SELECT *\n",
    "     FROM student_tests\n",
    "     WHERE test = 'SQL'\n",
    ")\n",
    "SELECT *\n",
    "FROM sqltest;"
   ]
  },
  {
   "cell_type": "code",
   "execution_count": 7,
   "metadata": {},
   "outputs": [
    {
     "data": {
      "text/html": [
       "<TABLE BORDER=1><TR><TH>name</TH><TH>test</TH><TH>score</TH><TH>test_date</TH><TH>name</TH><TH>test</TH><TH>score</TH><TH>test_date</TH></TR><TR><TD>Chun</TD><TD>SQL</TD><TD>75</TD><TD>2012-11-05</TD><TD>Tatiana</TD><TD>SQL</TD><TD>75</TD><TD>2012-04-28</TD></TR></TABLE>"
      ]
     },
     "metadata": {},
     "output_type": "display_data"
    }
   ],
   "source": [
    "WITH sqltest AS \n",
    "   ( SELECT *\n",
    "     FROM student_tests\n",
    "     WHERE test = 'SQL'\n",
    ")\n",
    "SELECT *\n",
    "FROM sqltest t1\n",
    "JOIN sqltest t2 ON t1.score=t2.score\n",
    "WHERE  t1.name != t2.name\n",
    "AND t1.name < t2.name;"
   ]
  },
  {
   "cell_type": "markdown",
   "metadata": {},
   "source": [
    "# **Recursive CTEs** (MariaDB-10.2+)"
   ]
  },
  {
   "cell_type": "code",
   "execution_count": 8,
   "metadata": {},
   "outputs": [
    {
     "data": {
      "text/html": []
     },
     "metadata": {},
     "output_type": "display_data"
    }
   ],
   "source": [
    "use ctetests;"
   ]
  },
  {
   "cell_type": "code",
   "execution_count": 9,
   "metadata": {
    "scrolled": true
   },
   "outputs": [
    {
     "data": {
      "text/html": []
     },
     "metadata": {},
     "output_type": "display_data"
    }
   ],
   "source": [
    "CREATE OR REPLACE TABLE bus_routes (origin varchar(50), dst varchar(50));"
   ]
  },
  {
   "cell_type": "code",
   "execution_count": 17,
   "metadata": {},
   "outputs": [
    {
     "data": {
      "text/html": []
     },
     "metadata": {},
     "output_type": "display_data"
    }
   ],
   "source": [
    "INSERT INTO bus_routes VALUES \n",
    "  ('New York', 'Boston'), \n",
    "  ('Boston', 'New York'), \n",
    "  ('New York', 'Washington'), \n",
    "  ('Washington', 'Boston'), \n",
    "  ('Washington', 'Raleigh'),\n",
    "  ('Boston', 'Sydney');"
   ]
  },
  {
   "cell_type": "code",
   "execution_count": 11,
   "metadata": {},
   "outputs": [
    {
     "data": {
      "text/html": []
     },
     "metadata": {},
     "output_type": "display_data"
    }
   ],
   "source": [
    "set max_recursive_iterations = 20;"
   ]
  },
  {
   "cell_type": "markdown",
   "metadata": {},
   "source": [
    "## Form of Recursive CTEs \n",
    "\n"
   ]
  },
  {
   "cell_type": "code",
   "execution_count": 12,
   "metadata": {},
   "outputs": [
    {
     "data": {
      "text/html": []
     },
     "metadata": {},
     "output_type": "display_data"
    }
   ],
   "source": [
    "WITH RECURSIVE cte AS (\n",
    "   SELECT anchor_data    -- This deterimines types, field names, and initial data of `cte`\n",
    "   FROM ....\n",
    "   UNION [ALL]\n",
    "   SELECT recursive_part\n",
    "   FROM .....\n",
    ")\n",
    "SELECT ... FROM cte;"
   ]
  },
  {
   "cell_type": "markdown",
   "metadata": {},
   "source": [
    "### Where can I go from New York"
   ]
  },
  {
   "cell_type": "code",
   "execution_count": 18,
   "metadata": {},
   "outputs": [
    {
     "data": {
      "text/html": [
       "<TABLE BORDER=1><TR><TH>dst</TH></TR><TR><TD>New York</TD></TR><TR><TD>Boston</TD></TR><TR><TD>Washington</TD></TR><TR><TD>Raleigh</TD></TR><TR><TD>Sydney</TD></TR></TABLE>"
      ]
     },
     "metadata": {},
     "output_type": "display_data"
    }
   ],
   "source": [
    "WITH RECURSIVE bus_dst AS ( \n",
    "    SELECT origin as dst\n",
    "    FROM bus_routes\n",
    "    WHERE origin='New York' \n",
    "  UNION\n",
    "    SELECT bus_routes.dst\n",
    "    FROM bus_routes\n",
    "    JOIN bus_dst ON bus_dst.dst= bus_routes.origin \n",
    ") \n",
    "SELECT * FROM bus_dst;"
   ]
  },
  {
   "cell_type": "markdown",
   "metadata": {},
   "source": [
    "### Watch out for casting"
   ]
  },
  {
   "cell_type": "code",
   "execution_count": 26,
   "metadata": {},
   "outputs": [
    {
     "data": {
      "text/html": [
       "<TABLE BORDER=1><TR><TH>col</TH></TR><TR><TD>NULL</TD></TR><TR><TD></TD></TR></TABLE>"
      ]
     },
     "metadata": {},
     "output_type": "display_data"
    }
   ],
   "source": [
    "WITH RECURSIVE tbl AS (\n",
    "  SELECT NULL AS col\n",
    "  UNION\n",
    "  SELECT \"THIS NEVER SHOWS UP\" AS col FROM tbl\n",
    ")\n",
    "SELECT col FROM tbl;"
   ]
  },
  {
   "cell_type": "code",
   "execution_count": 28,
   "metadata": {},
   "outputs": [
    {
     "data": {
      "text/html": [
       "<TABLE BORDER=1><TR><TH>col</TH></TR><TR><TD>NULL</TD></TR><TR><TD>THIS WILL SHOW UP</TD></TR></TABLE>"
      ]
     },
     "metadata": {},
     "output_type": "display_data"
    }
   ],
   "source": [
    "WITH RECURSIVE tbl AS (\n",
    "  SELECT CAST(NULL AS CHAR(50)) AS col\n",
    "  UNION SELECT \"THIS WILL SHOW UP\" AS col FROM tbl\n",
    ")  \n",
    "SELECT col FROM tbl;"
   ]
  },
  {
   "cell_type": "markdown",
   "metadata": {},
   "source": [
    "# Recursive CTEs CYCLE RESTRICT (MariaDB 10.5+)"
   ]
  },
  {
   "cell_type": "code",
   "execution_count": 29,
   "metadata": {},
   "outputs": [
    {
     "data": {
      "text/html": []
     },
     "metadata": {},
     "output_type": "display_data"
    }
   ],
   "source": [
    "CREATE TABLE t1 (from_ int, to_ int);"
   ]
  },
  {
   "cell_type": "code",
   "execution_count": 31,
   "metadata": {},
   "outputs": [
    {
     "data": {
      "text/html": []
     },
     "metadata": {},
     "output_type": "display_data"
    }
   ],
   "source": [
    "INSERT INTO t1 VALUES (1,2), (1,100), (2,3), (3,4), (4,1);"
   ]
  },
  {
   "cell_type": "code",
   "execution_count": 32,
   "metadata": {},
   "outputs": [
    {
     "data": {
      "text/html": [
       "<TABLE BORDER=1><TR><TH>from_</TH><TH>to_</TH></TR><TR><TD>1</TD><TD>2</TD></TR><TR><TD>1</TD><TD>100</TD></TR><TR><TD>2</TD><TD>3</TD></TR><TR><TD>3</TD><TD>4</TD></TR><TR><TD>4</TD><TD>1</TD></TR></TABLE>"
      ]
     },
     "metadata": {},
     "output_type": "display_data"
    }
   ],
   "source": [
    "SELECT * FROM t1;"
   ]
  },
  {
   "cell_type": "code",
   "execution_count": 35,
   "metadata": {},
   "outputs": [
    {
     "data": {
      "text/html": [
       "<TABLE BORDER=1><TR><TH>depth</TH><TH>distance</TH><TH>from_</TH><TH>to_</TH></TR><TR><TD>0</TD><TD>0</TD><TD>1</TD><TD>1</TD></TR><TR><TD>1</TD><TD>1</TD><TD>1</TD><TD>2</TD></TR><TR><TD>1</TD><TD>99</TD><TD>1</TD><TD>100</TD></TR><TR><TD>2</TD><TD>2</TD><TD>2</TD><TD>3</TD></TR><TR><TD>3</TD><TD>3</TD><TD>3</TD><TD>4</TD></TR><TR><TD>4</TD><TD>6</TD><TD>4</TD><TD>1</TD></TR><TR><TD>5</TD><TD>7</TD><TD>1</TD><TD>2</TD></TR><TR><TD>5</TD><TD>105</TD><TD>1</TD><TD>100</TD></TR><TR><TD>6</TD><TD>8</TD><TD>2</TD><TD>3</TD></TR><TR><TD>7</TD><TD>9</TD><TD>3</TD><TD>4</TD></TR><TR><TD>8</TD><TD>12</TD><TD>4</TD><TD>1</TD></TR><TR><TD>9</TD><TD>13</TD><TD>1</TD><TD>2</TD></TR><TR><TD>9</TD><TD>111</TD><TD>1</TD><TD>100</TD></TR><TR><TD>10</TD><TD>14</TD><TD>2</TD><TD>3</TD></TR><TR><TD>11</TD><TD>15</TD><TD>3</TD><TD>4</TD></TR><TR><TD>12</TD><TD>18</TD><TD>4</TD><TD>1</TD></TR><TR><TD>13</TD><TD>19</TD><TD>1</TD><TD>2</TD></TR><TR><TD>13</TD><TD>117</TD><TD>1</TD><TD>100</TD></TR><TR><TD>14</TD><TD>20</TD><TD>2</TD><TD>3</TD></TR><TR><TD>15</TD><TD>21</TD><TD>3</TD><TD>4</TD></TR><TR><TD>16</TD><TD>24</TD><TD>4</TD><TD>1</TD></TR><TR><TD>17</TD><TD>25</TD><TD>1</TD><TD>2</TD></TR><TR><TD>17</TD><TD>123</TD><TD>1</TD><TD>100</TD></TR><TR><TD>18</TD><TD>26</TD><TD>2</TD><TD>3</TD></TR><TR><TD>19</TD><TD>27</TD><TD>3</TD><TD>4</TD></TR><TR><TD>20</TD><TD>30</TD><TD>4</TD><TD>1</TD></TR></TABLE>"
      ]
     },
     "metadata": {},
     "output_type": "display_data"
    }
   ],
   "source": [
    "WITH RECURSIVE cte (depth, distance, from_, to_) AS ( \n",
    "  SELECT 0,0,1,1\n",
    "  UNION DISTINCT\n",
    "  SELECT depth+1, distance + abs(t1.from_ - t1.to_), t1.from_, t1.to_ \n",
    "    FROM t1\n",
    "    JOIN cte ON t1.from_ = cte.to_ \n",
    ") \n",
    "SELECT * FROM cte;"
   ]
  },
  {
   "cell_type": "code",
   "execution_count": 36,
   "metadata": {},
   "outputs": [
    {
     "data": {
      "text/html": [
       "<TABLE BORDER=1><TR><TH>depth</TH><TH>distance</TH><TH>from_</TH><TH>to_</TH></TR><TR><TD>0</TD><TD>0</TD><TD>1</TD><TD>1</TD></TR><TR><TD>1</TD><TD>1</TD><TD>1</TD><TD>2</TD></TR><TR><TD>1</TD><TD>99</TD><TD>1</TD><TD>100</TD></TR><TR><TD>2</TD><TD>2</TD><TD>2</TD><TD>3</TD></TR><TR><TD>3</TD><TD>3</TD><TD>3</TD><TD>4</TD></TR><TR><TD>4</TD><TD>6</TD><TD>4</TD><TD>1</TD></TR><TR><TD>5</TD><TD>7</TD><TD>1</TD><TD>2</TD></TR><TR><TD>5</TD><TD>105</TD><TD>1</TD><TD>100</TD></TR><TR><TD>6</TD><TD>8</TD><TD>2</TD><TD>3</TD></TR><TR><TD>7</TD><TD>9</TD><TD>3</TD><TD>4</TD></TR><TR><TD>8</TD><TD>12</TD><TD>4</TD><TD>1</TD></TR><TR><TD>9</TD><TD>13</TD><TD>1</TD><TD>2</TD></TR><TR><TD>9</TD><TD>111</TD><TD>1</TD><TD>100</TD></TR><TR><TD>10</TD><TD>14</TD><TD>2</TD><TD>3</TD></TR><TR><TD>11</TD><TD>15</TD><TD>3</TD><TD>4</TD></TR><TR><TD>12</TD><TD>18</TD><TD>4</TD><TD>1</TD></TR><TR><TD>13</TD><TD>19</TD><TD>1</TD><TD>2</TD></TR><TR><TD>13</TD><TD>117</TD><TD>1</TD><TD>100</TD></TR><TR><TD>14</TD><TD>20</TD><TD>2</TD><TD>3</TD></TR><TR><TD>15</TD><TD>21</TD><TD>3</TD><TD>4</TD></TR><TR><TD>16</TD><TD>24</TD><TD>4</TD><TD>1</TD></TR><TR><TD>17</TD><TD>25</TD><TD>1</TD><TD>2</TD></TR><TR><TD>17</TD><TD>123</TD><TD>1</TD><TD>100</TD></TR><TR><TD>18</TD><TD>26</TD><TD>2</TD><TD>3</TD></TR><TR><TD>19</TD><TD>27</TD><TD>3</TD><TD>4</TD></TR><TR><TD>20</TD><TD>30</TD><TD>4</TD><TD>1</TD></TR></TABLE>"
      ]
     },
     "metadata": {},
     "output_type": "display_data"
    }
   ],
   "source": [
    "WITH RECURSIVE cte (depth, distance, from_, to_) AS ( \n",
    "  SELECT 0,0,1,1\n",
    "  UNION DISTINCT\n",
    "  SELECT depth+1, distance + abs(t1.from_ - t1.to_), t1.from_, t1.to_ \n",
    "    FROM t1\n",
    "    JOIN cte ON t1.from_ = cte.to_ \n",
    ")\n",
    "SELECT * FROM cte;"
   ]
  },
  {
   "cell_type": "code",
   "execution_count": 37,
   "metadata": {},
   "outputs": [
    {
     "data": {
      "text/html": [
       "<TABLE BORDER=1><TR><TH>depth</TH><TH>distance</TH><TH>from_</TH><TH>to_</TH></TR><TR><TD>0</TD><TD>0</TD><TD>1</TD><TD>1</TD></TR><TR><TD>1</TD><TD>1</TD><TD>1</TD><TD>2</TD></TR><TR><TD>1</TD><TD>99</TD><TD>1</TD><TD>100</TD></TR><TR><TD>2</TD><TD>2</TD><TD>2</TD><TD>3</TD></TR><TR><TD>3</TD><TD>3</TD><TD>3</TD><TD>4</TD></TR><TR><TD>4</TD><TD>6</TD><TD>4</TD><TD>1</TD></TR></TABLE>"
      ]
     },
     "metadata": {},
     "output_type": "display_data"
    }
   ],
   "source": [
    "WITH RECURSIVE cte (depth, distance, from_, to_) AS ( \n",
    "  SELECT 0,0,1,1\n",
    "  UNION DISTINCT\n",
    "  SELECT depth+1, distance + abs(t1.from_ - t1.to_), t1.from_, t1.to_ \n",
    "    FROM t1\n",
    "    JOIN cte ON t1.from_ = cte.to_ \n",
    ")\n",
    "CYCLE from_, to_ RESTRICT\n",
    "SELECT * FROM cte;"
   ]
  },
  {
   "cell_type": "markdown",
   "metadata": {},
   "source": [
    "# Insert RETURNING (MariaDB 10.5+)\n",
    "`RELACE ... RETURNING`  (MariaDB 10.5+)\n",
    "`DELETE ... RETURNING`  (MariaDB 10.3+)"
   ]
  },
  {
   "cell_type": "code",
   "execution_count": 101,
   "metadata": {},
   "outputs": [
    {
     "name": "stderr",
     "output_type": "stream",
     "text": [
      "ERROR 1007 (HY000): Can't create database 'ins'; database exists\n"
     ]
    }
   ],
   "source": [
    "create database ins;"
   ]
  },
  {
   "cell_type": "code",
   "execution_count": 102,
   "metadata": {},
   "outputs": [
    {
     "data": {
      "text/html": []
     },
     "metadata": {},
     "output_type": "display_data"
    }
   ],
   "source": [
    "use ins;"
   ]
  },
  {
   "cell_type": "code",
   "execution_count": 103,
   "metadata": {},
   "outputs": [
    {
     "data": {
      "text/html": []
     },
     "metadata": {},
     "output_type": "display_data"
    }
   ],
   "source": [
    "create or replace table users (\n",
    "id int unsigned not null auto_increment primary key,\n",
    "name varchar(30));"
   ]
  },
  {
   "cell_type": "code",
   "execution_count": 104,
   "metadata": {},
   "outputs": [
    {
     "data": {
      "text/html": [
       "<TABLE BORDER=1><TR><TH>id</TH></TR><TR><TD>1</TD></TR><TR><TD>2</TD></TR><TR><TD>3</TD></TR><TR><TD>4</TD></TR></TABLE>"
      ]
     },
     "metadata": {},
     "output_type": "display_data"
    }
   ],
   "source": [
    "insert into users (name) values ('bob'), ('jane'), ('fred'), ('harry')\n",
    "returning id;"
   ]
  },
  {
   "cell_type": "code",
   "execution_count": 105,
   "metadata": {},
   "outputs": [
    {
     "data": {
      "text/html": []
     },
     "metadata": {},
     "output_type": "display_data"
    }
   ],
   "source": [
    "alter table users add unique key(name);"
   ]
  },
  {
   "cell_type": "code",
   "execution_count": 106,
   "metadata": {},
   "outputs": [
    {
     "data": {
      "text/html": [
       "<TABLE BORDER=1><TR><TH>id</TH><TH>name</TH></TR><TR><TD>5</TD><TD>john</TD></TR><TR><TD>6</TD><TD>sarah</TD></TR><TR><TD>7</TD><TD>carmel</TD></TR></TABLE>"
      ]
     },
     "metadata": {},
     "output_type": "display_data"
    }
   ],
   "source": [
    "insert /* ignore */ into users (name)\n",
    "values ('john'), ('bob'), ('sarah'), ('carmel')\n",
    "returning id,name;"
   ]
  },
  {
   "cell_type": "markdown",
   "metadata": {},
   "source": [
    "# System Versioned Tables (MariaDB-10.3)"
   ]
  },
  {
   "cell_type": "code",
   "execution_count": 70,
   "metadata": {},
   "outputs": [
    {
     "data": {
      "text/html": []
     },
     "metadata": {},
     "output_type": "display_data"
    }
   ],
   "source": [
    "create database sv;"
   ]
  },
  {
   "cell_type": "code",
   "execution_count": 115,
   "metadata": {},
   "outputs": [
    {
     "data": {
      "text/html": []
     },
     "metadata": {},
     "output_type": "display_data"
    }
   ],
   "source": [
    "use sv;\n"
   ]
  },
  {
   "cell_type": "markdown",
   "metadata": {},
   "source": [
    "SQL:2011 standard form"
   ]
  },
  {
   "cell_type": "code",
   "execution_count": 116,
   "metadata": {},
   "outputs": [
    {
     "data": {
      "text/html": []
     },
     "metadata": {},
     "output_type": "display_data"
    }
   ],
   "source": [
    "CREATE OR REPLACE TABLE t(\n",
    "   x INT,\n",
    "   start_timestamp TIMESTAMP(6) GENERATED ALWAYS AS ROW START,\n",
    "   end_timestamp TIMESTAMP(6) GENERATED ALWAYS AS ROW END,\n",
    "   PERIOD FOR SYSTEM_TIME(start_timestamp, end_timestamp)\n",
    ") WITH SYSTEM VERSIONING;"
   ]
  },
  {
   "cell_type": "code",
   "execution_count": 123,
   "metadata": {},
   "outputs": [
    {
     "data": {
      "text/html": []
     },
     "metadata": {},
     "output_type": "display_data"
    }
   ],
   "source": [
    "CREATE OR REPLACE TABLE t (\n",
    "x INT\n",
    ") WITH SYSTEM VERSIONING;"
   ]
  },
  {
   "cell_type": "code",
   "execution_count": 124,
   "metadata": {},
   "outputs": [
    {
     "data": {
      "text/html": []
     },
     "metadata": {},
     "output_type": "display_data"
    }
   ],
   "source": [
    "INSERT INTO t VALUES (1),(3),(5);"
   ]
  },
  {
   "cell_type": "code",
   "execution_count": 125,
   "metadata": {},
   "outputs": [
    {
     "data": {
      "text/html": []
     },
     "metadata": {},
     "output_type": "display_data"
    }
   ],
   "source": [
    "INSERT INTO t VALUES (5),(6),(8);"
   ]
  },
  {
   "cell_type": "code",
   "execution_count": 6,
   "metadata": {},
   "outputs": [
    {
     "data": {
      "text/html": [
       "<TABLE BORDER=1><TR><TH>x</TH></TR><TR><TD>1</TD></TR><TR><TD>3</TD></TR><TR><TD>5</TD></TR><TR><TD>5</TD></TR><TR><TD>6</TD></TR><TR><TD>8</TD></TR></TABLE>"
      ]
     },
     "metadata": {},
     "output_type": "display_data"
    }
   ],
   "source": [
    "select * from t;"
   ]
  },
  {
   "cell_type": "code",
   "execution_count": 7,
   "metadata": {},
   "outputs": [
    {
     "data": {
      "text/html": [
       "<TABLE BORDER=1><TR><TH>x</TH><TH>ROW_START</TH><TH>ROW_END</TH></TR><TR><TD>1</TD><TD>2021-03-17 13:21:30.087718</TD><TD>2038-01-19 14:14:07.999999</TD></TR><TR><TD>3</TD><TD>2021-03-17 13:21:30.087718</TD><TD>2038-01-19 14:14:07.999999</TD></TR><TR><TD>5</TD><TD>2021-03-17 13:21:30.087718</TD><TD>2038-01-19 14:14:07.999999</TD></TR><TR><TD>5</TD><TD>2021-03-17 13:21:32.073561</TD><TD>2038-01-19 14:14:07.999999</TD></TR><TR><TD>6</TD><TD>2021-03-17 13:21:32.073561</TD><TD>2038-01-19 14:14:07.999999</TD></TR><TR><TD>8</TD><TD>2021-03-17 13:21:32.073561</TD><TD>2038-01-19 14:14:07.999999</TD></TR></TABLE>"
      ]
     },
     "metadata": {},
     "output_type": "display_data"
    }
   ],
   "source": [
    "SELECT x, ROW_START, ROW_END FROM t;"
   ]
  },
  {
   "cell_type": "code",
   "execution_count": 126,
   "metadata": {},
   "outputs": [
    {
     "data": {
      "text/html": []
     },
     "metadata": {},
     "output_type": "display_data"
    }
   ],
   "source": [
    "delete from t where x = 5;"
   ]
  },
  {
   "cell_type": "code",
   "execution_count": 127,
   "metadata": {},
   "outputs": [
    {
     "data": {
      "text/html": []
     },
     "metadata": {},
     "output_type": "display_data"
    }
   ],
   "source": [
    "insert into t VALUES (15),(26),(48);"
   ]
  },
  {
   "cell_type": "code",
   "execution_count": 10,
   "metadata": {},
   "outputs": [
    {
     "data": {
      "text/html": [
       "<TABLE BORDER=1><TR><TH>x</TH><TH>ROW_START</TH><TH>ROW_END</TH></TR><TR><TD>1</TD><TD>2021-03-17 13:21:30.087718</TD><TD>2038-01-19 14:14:07.999999</TD></TR><TR><TD>3</TD><TD>2021-03-17 13:21:30.087718</TD><TD>2038-01-19 14:14:07.999999</TD></TR><TR><TD>6</TD><TD>2021-03-17 13:21:32.073561</TD><TD>2038-01-19 14:14:07.999999</TD></TR><TR><TD>8</TD><TD>2021-03-17 13:21:32.073561</TD><TD>2038-01-19 14:14:07.999999</TD></TR><TR><TD>15</TD><TD>2021-03-17 13:21:47.445882</TD><TD>2038-01-19 14:14:07.999999</TD></TR><TR><TD>26</TD><TD>2021-03-17 13:21:47.445882</TD><TD>2038-01-19 14:14:07.999999</TD></TR><TR><TD>48</TD><TD>2021-03-17 13:21:47.445882</TD><TD>2038-01-19 14:14:07.999999</TD></TR></TABLE>"
      ]
     },
     "metadata": {},
     "output_type": "display_data"
    }
   ],
   "source": [
    "SELECT x, ROW_START, ROW_END FROM t;"
   ]
  },
  {
   "cell_type": "code",
   "execution_count": 12,
   "metadata": {},
   "outputs": [
    {
     "data": {
      "text/html": [
       "<TABLE BORDER=1><TR><TH>x</TH><TH>ROW_START</TH><TH>ROW_END</TH></TR><TR><TD>1</TD><TD>2021-03-17 13:21:30.087718</TD><TD>2038-01-19 14:14:07.999999</TD></TR><TR><TD>3</TD><TD>2021-03-17 13:21:30.087718</TD><TD>2038-01-19 14:14:07.999999</TD></TR><TR><TD>5</TD><TD>2021-03-17 13:21:30.087718</TD><TD>2021-03-17 13:21:44.563212</TD></TR><TR><TD>5</TD><TD>2021-03-17 13:21:32.073561</TD><TD>2021-03-17 13:21:44.563212</TD></TR><TR><TD>6</TD><TD>2021-03-17 13:21:32.073561</TD><TD>2038-01-19 14:14:07.999999</TD></TR><TR><TD>8</TD><TD>2021-03-17 13:21:32.073561</TD><TD>2038-01-19 14:14:07.999999</TD></TR><TR><TD>15</TD><TD>2021-03-17 13:21:47.445882</TD><TD>2038-01-19 14:14:07.999999</TD></TR><TR><TD>26</TD><TD>2021-03-17 13:21:47.445882</TD><TD>2038-01-19 14:14:07.999999</TD></TR><TR><TD>48</TD><TD>2021-03-17 13:21:47.445882</TD><TD>2038-01-19 14:14:07.999999</TD></TR></TABLE>"
      ]
     },
     "metadata": {},
     "output_type": "display_data"
    }
   ],
   "source": [
    "SELECT x, ROW_START, ROW_END\n",
    "FROM t\n",
    "FOR SYSTEM_TIME ALL;"
   ]
  },
  {
   "cell_type": "code",
   "execution_count": 14,
   "metadata": {},
   "outputs": [
    {
     "data": {
      "text/html": [
       "<TABLE BORDER=1><TR><TH>x</TH></TR><TR><TD>1</TD></TR><TR><TD>3</TD></TR><TR><TD>5</TD></TR><TR><TD>5</TD></TR><TR><TD>6</TD></TR><TR><TD>8</TD></TR></TABLE>"
      ]
     },
     "metadata": {},
     "output_type": "display_data"
    }
   ],
   "source": [
    "SELECT *\n",
    "FROM t\n",
    "FOR SYSTEM_TIME AS OF TIMESTAMP '2021-03-17 13:21:44';"
   ]
  },
  {
   "cell_type": "code",
   "execution_count": 17,
   "metadata": {},
   "outputs": [
    {
     "data": {
      "text/html": [
       "<TABLE BORDER=1><TR><TH>x</TH></TR><TR><TD>1</TD></TR><TR><TD>3</TD></TR><TR><TD>6</TD></TR><TR><TD>8</TD></TR></TABLE>"
      ]
     },
     "metadata": {},
     "output_type": "display_data"
    }
   ],
   "source": [
    "SELECT *\n",
    "FROM t\n",
    "FOR SYSTEM_TIME FROM '2021-03-17 13:21:45' TO '2021-03-17 13:21:47.445882';"
   ]
  },
  {
   "cell_type": "code",
   "execution_count": 118,
   "metadata": {},
   "outputs": [
    {
     "data": {
      "text/html": []
     },
     "metadata": {},
     "output_type": "display_data"
    }
   ],
   "source": [
    "ALTER TABLE t DROP SYSTEM VERSIONING;"
   ]
  },
  {
   "cell_type": "code",
   "execution_count": 93,
   "metadata": {},
   "outputs": [
    {
     "name": "stderr",
     "output_type": "stream",
     "text": [
      "ERROR 4124 (HY000): Table `t` is not system-versioned\n"
     ]
    }
   ],
   "source": [
    "SELECT * FROM t FOR SYSTEM_TIME AS OF TIMESTAMP '2021-03-17 12:32:33.850974';"
   ]
  },
  {
   "cell_type": "code",
   "execution_count": 119,
   "metadata": {},
   "outputs": [
    {
     "data": {
      "text/html": [
       "Stage: 2 of 2 'Enabling keys'      0% of stage done\r",
       "                                                   \r"
      ]
     },
     "metadata": {},
     "output_type": "display_data"
    }
   ],
   "source": [
    "ALTER TABLE t ADD COLUMN ts TIMESTAMP(6) GENERATED ALWAYS AS ROW START,\n",
    "              ADD COLUMN te TIMESTAMP(6) GENERATED ALWAYS AS ROW END,\n",
    "              ADD PERIOD FOR SYSTEM_TIME(ts, te),\n",
    "              ADD SYSTEM VERSIONING;"
   ]
  },
  {
   "cell_type": "code",
   "execution_count": 130,
   "metadata": {},
   "outputs": [
    {
     "data": {
      "text/html": [
       "<TABLE BORDER=1><TR><TH>x</TH></TR><TR><TD>1</TD></TR><TR><TD>3</TD></TR><TR><TD>6</TD></TR><TR><TD>8</TD></TR><TR><TD>15</TD></TR><TR><TD>26</TD></TR><TR><TD>48</TD></TR></TABLE>"
      ]
     },
     "metadata": {},
     "output_type": "display_data"
    }
   ],
   "source": [
    "select x from t;"
   ]
  },
  {
   "cell_type": "markdown",
   "metadata": {},
   "source": [
    "## Transaction Precise History in Innodb"
   ]
  },
  {
   "cell_type": "code",
   "execution_count": 20,
   "metadata": {},
   "outputs": [
    {
     "data": {
      "text/html": []
     },
     "metadata": {},
     "output_type": "display_data"
    }
   ],
   "source": [
    "CREATE OR REPLACE TABLE tinnodb (\n",
    "   x INT,\n",
    "   start_trxid BIGINT UNSIGNED GENERATED ALWAYS AS ROW START,\n",
    "   end_trxid BIGINT UNSIGNED GENERATED ALWAYS AS ROW END,\n",
    "   PERIOD FOR SYSTEM_TIME(start_trxid, end_trxid)\n",
    ") WITH SYSTEM VERSIONING;"
   ]
  },
  {
   "cell_type": "code",
   "execution_count": 21,
   "metadata": {},
   "outputs": [
    {
     "data": {
      "text/html": []
     },
     "metadata": {},
     "output_type": "display_data"
    }
   ],
   "source": [
    "insert into tinnodb (x) values (4), (22), (33);"
   ]
  },
  {
   "cell_type": "code",
   "execution_count": 22,
   "metadata": {},
   "outputs": [
    {
     "data": {
      "text/html": [
       "<TABLE BORDER=1><TR><TH>x</TH><TH>start_trxid</TH><TH>end_trxid</TH></TR><TR><TD>4</TD><TD>361</TD><TD>18446744073709551615</TD></TR><TR><TD>22</TD><TD>361</TD><TD>18446744073709551615</TD></TR><TR><TD>33</TD><TD>361</TD><TD>18446744073709551615</TD></TR></TABLE>"
      ]
     },
     "metadata": {},
     "output_type": "display_data"
    }
   ],
   "source": [
    "select * from tinnodb;"
   ]
  },
  {
   "cell_type": "code",
   "execution_count": 23,
   "metadata": {},
   "outputs": [
    {
     "data": {
      "text/html": []
     },
     "metadata": {},
     "output_type": "display_data"
    },
    {
     "data": {
      "text/html": []
     },
     "metadata": {},
     "output_type": "display_data"
    },
    {
     "data": {
      "text/html": []
     },
     "metadata": {},
     "output_type": "display_data"
    },
    {
     "data": {
      "text/html": []
     },
     "metadata": {},
     "output_type": "display_data"
    }
   ],
   "source": [
    "begin;\n",
    "insert into tinnodb (x) values (124), (222), (133);\n",
    "insert into tinnodb (x) values (44), (422), (433);\n",
    "commit;"
   ]
  },
  {
   "cell_type": "code",
   "execution_count": 25,
   "metadata": {},
   "outputs": [
    {
     "data": {
      "text/html": [
       "<TABLE BORDER=1><TR><TH>x</TH><TH>start_trxid</TH><TH>end_trxid</TH></TR><TR><TD>4</TD><TD>361</TD><TD>18446744073709551615</TD></TR><TR><TD>22</TD><TD>361</TD><TD>18446744073709551615</TD></TR><TR><TD>33</TD><TD>361</TD><TD>18446744073709551615</TD></TR><TR><TD>124</TD><TD>368</TD><TD>18446744073709551615</TD></TR><TR><TD>222</TD><TD>368</TD><TD>18446744073709551615</TD></TR><TR><TD>133</TD><TD>368</TD><TD>18446744073709551615</TD></TR><TR><TD>44</TD><TD>368</TD><TD>18446744073709551615</TD></TR><TR><TD>422</TD><TD>368</TD><TD>18446744073709551615</TD></TR><TR><TD>433</TD><TD>368</TD><TD>18446744073709551615</TD></TR></TABLE>"
      ]
     },
     "metadata": {},
     "output_type": "display_data"
    }
   ],
   "source": [
    "select * from tinnodb;"
   ]
  },
  {
   "cell_type": "code",
   "execution_count": 27,
   "metadata": {},
   "outputs": [
    {
     "data": {
      "text/html": [
       "<TABLE BORDER=1><TR><TH>x</TH><TH>start_trxid</TH><TH>end_trxid</TH></TR><TR><TD>4</TD><TD>361</TD><TD>18446744073709551615</TD></TR><TR><TD>22</TD><TD>361</TD><TD>18446744073709551615</TD></TR><TR><TD>33</TD><TD>361</TD><TD>18446744073709551615</TD></TR><TR><TD>124</TD><TD>368</TD><TD>18446744073709551615</TD></TR><TR><TD>222</TD><TD>368</TD><TD>18446744073709551615</TD></TR><TR><TD>133</TD><TD>368</TD><TD>18446744073709551615</TD></TR><TR><TD>44</TD><TD>368</TD><TD>18446744073709551615</TD></TR><TR><TD>422</TD><TD>368</TD><TD>18446744073709551615</TD></TR><TR><TD>433</TD><TD>368</TD><TD>18446744073709551615</TD></TR></TABLE>"
      ]
     },
     "metadata": {},
     "output_type": "display_data"
    }
   ],
   "source": [
    "select *\n",
    "from tinnodb \n",
    "FOR SYSTEM_TIME AS OF TRANSACTION 368;\n"
   ]
  },
  {
   "cell_type": "code",
   "execution_count": 41,
   "metadata": {},
   "outputs": [
    {
     "data": {
      "text/html": []
     },
     "metadata": {},
     "output_type": "display_data"
    }
   ],
   "source": [
    "CREATE OR REPLACE TABLE inv (\n",
    "   x INT,\n",
    "   start_trxid BIGINT UNSIGNED GENERATED ALWAYS AS ROW START INVISIBLE,\n",
    "   end_trxid BIGINT UNSIGNED GENERATED ALWAYS AS ROW END INVISIBLE,\n",
    "   PERIOD FOR SYSTEM_TIME(start_trxid, end_trxid)\n",
    ") WITH SYSTEM VERSIONING;"
   ]
  },
  {
   "cell_type": "code",
   "execution_count": 46,
   "metadata": {},
   "outputs": [
    {
     "data": {
      "text/html": []
     },
     "metadata": {},
     "output_type": "display_data"
    }
   ],
   "source": [
    "insert into inv select x from tinnodb;"
   ]
  },
  {
   "cell_type": "code",
   "execution_count": 47,
   "metadata": {},
   "outputs": [
    {
     "data": {
      "text/html": [
       "<TABLE BORDER=1><TR><TH>x</TH></TR><TR><TD>4</TD></TR><TR><TD>22</TD></TR><TR><TD>33</TD></TR><TR><TD>124</TD></TR><TR><TD>222</TD></TR><TR><TD>133</TD></TR><TR><TD>44</TD></TR><TR><TD>422</TD></TR><TR><TD>433</TD></TR></TABLE>"
      ]
     },
     "metadata": {},
     "output_type": "display_data"
    }
   ],
   "source": [
    "select * from inv;"
   ]
  },
  {
   "cell_type": "code",
   "execution_count": 48,
   "metadata": {},
   "outputs": [
    {
     "data": {
      "text/html": [
       "<TABLE BORDER=1><TR><TH>x</TH><TH>start_trxid</TH><TH>end_trxid</TH></TR><TR><TD>4</TD><TD>393</TD><TD>18446744073709551615</TD></TR><TR><TD>22</TD><TD>393</TD><TD>18446744073709551615</TD></TR><TR><TD>33</TD><TD>393</TD><TD>18446744073709551615</TD></TR><TR><TD>124</TD><TD>393</TD><TD>18446744073709551615</TD></TR><TR><TD>222</TD><TD>393</TD><TD>18446744073709551615</TD></TR><TR><TD>133</TD><TD>393</TD><TD>18446744073709551615</TD></TR><TR><TD>44</TD><TD>393</TD><TD>18446744073709551615</TD></TR><TR><TD>422</TD><TD>393</TD><TD>18446744073709551615</TD></TR><TR><TD>433</TD><TD>393</TD><TD>18446744073709551615</TD></TR></TABLE>"
      ]
     },
     "metadata": {},
     "output_type": "display_data"
    }
   ],
   "source": [
    "select x, start_trxid, end_trxid FROM inv;"
   ]
  },
  {
   "cell_type": "markdown",
   "metadata": {},
   "source": [
    "## Paritioning Storing history separate"
   ]
  },
  {
   "cell_type": "code",
   "execution_count": 51,
   "metadata": {},
   "outputs": [
    {
     "data": {
      "text/html": [
       "Stage: 2 of 2 'Enabling keys'      0% of stage done\r",
       "                                                   \r"
      ]
     },
     "metadata": {},
     "output_type": "display_data"
    }
   ],
   "source": [
    "alter table t  PARTITION BY SYSTEM_TIME (\n",
    "    PARTITION p_hist HISTORY,\n",
    "    PARTITION p_cur CURRENT\n",
    "  );"
   ]
  },
  {
   "cell_type": "markdown",
   "metadata": {},
   "source": [
    "Time based only, not Innodb transaction-precise\n",
    "\n",
    "Must have one `CURRENT` parition"
   ]
  },
  {
   "cell_type": "code",
   "execution_count": null,
   "metadata": {},
   "outputs": [],
   "source": [
    "CREATE TABLE tvlimt (x INT) WITH SYSTEM VERSIONING\n",
    "  PARTITION BY SYSTEM_TIME LIMIT 100000 (\n",
    "    PARTITION p0 HISTORY,\n",
    "    PARTITION p1 HISTORY,\n",
    "    PARTITION pcur CURRENT\n",
    "  );"
   ]
  },
  {
   "cell_type": "markdown",
   "metadata": {},
   "source": [
    " history rows into partition p0, and\n",
    " \n",
    " when it reaches a size of 100000 rows, MariaDB will switch to partition p1\n",
    " \n",
    " so when p1 overflows, MariaDB will issue a warning, but will continue writing into it"
   ]
  },
  {
   "cell_type": "code",
   "execution_count": 132,
   "metadata": {},
   "outputs": [
    {
     "data": {
      "text/html": []
     },
     "metadata": {},
     "output_type": "display_data"
    }
   ],
   "source": [
    "CREATE OR REPLACE TABLE tinerval (x INT) WITH SYSTEM VERSIONING \n",
    "  PARTITION BY SYSTEM_TIME \n",
    "    INTERVAL 1 MONTH \n",
    "    PARTITIONS 12;"
   ]
  },
  {
   "cell_type": "code",
   "execution_count": null,
   "metadata": {},
   "outputs": [],
   "source": []
  },
  {
   "cell_type": "markdown",
   "metadata": {},
   "source": [
    "# INET6 datatype (MariaDB-10.5)"
   ]
  },
  {
   "cell_type": "code",
   "execution_count": 55,
   "metadata": {},
   "outputs": [
    {
     "data": {
      "text/html": []
     },
     "metadata": {},
     "output_type": "display_data"
    }
   ],
   "source": [
    "create database inet6;"
   ]
  },
  {
   "cell_type": "code",
   "execution_count": 57,
   "metadata": {},
   "outputs": [
    {
     "data": {
      "text/html": []
     },
     "metadata": {},
     "output_type": "display_data"
    }
   ],
   "source": [
    "use inet6;"
   ]
  },
  {
   "cell_type": "code",
   "execution_count": 58,
   "metadata": {},
   "outputs": [
    {
     "data": {
      "text/html": []
     },
     "metadata": {},
     "output_type": "display_data"
    }
   ],
   "source": [
    "CREATE TABLE t1 (a INET6);"
   ]
  },
  {
   "cell_type": "code",
   "execution_count": 59,
   "metadata": {},
   "outputs": [
    {
     "data": {
      "text/html": []
     },
     "metadata": {},
     "output_type": "display_data"
    }
   ],
   "source": [
    "INSERT INTO t1 VALUES ('2001:db8::ff00:42:8329');"
   ]
  },
  {
   "cell_type": "code",
   "execution_count": 60,
   "metadata": {},
   "outputs": [
    {
     "data": {
      "text/html": []
     },
     "metadata": {},
     "output_type": "display_data"
    }
   ],
   "source": [
    "INSERT INTO t1 VALUES ('2001:0db8:0000:0000:0000:ff00:0042:8329');"
   ]
  },
  {
   "cell_type": "code",
   "execution_count": 62,
   "metadata": {},
   "outputs": [
    {
     "data": {
      "text/html": []
     },
     "metadata": {},
     "output_type": "display_data"
    },
    {
     "data": {
      "text/html": []
     },
     "metadata": {},
     "output_type": "display_data"
    }
   ],
   "source": [
    "INSERT INTO t1 VALUES ('::ffff:192.0.2.128');\n",
    "INSERT INTO t1 VALUES ('::192.0.2.128');"
   ]
  },
  {
   "cell_type": "code",
   "execution_count": 63,
   "metadata": {},
   "outputs": [
    {
     "data": {
      "text/html": [
       "<TABLE BORDER=1><TR><TH>a</TH></TR><TR><TD>2001:db8::ff00:42:8329</TD></TR><TR><TD>2001:db8::ff00:42:8329</TD></TR><TR><TD>::ffff:192.0.2.128</TD></TR><TR><TD>::192.0.2.128</TD></TR></TABLE>"
      ]
     },
     "metadata": {},
     "output_type": "display_data"
    }
   ],
   "source": [
    "select * from t1;"
   ]
  },
  {
   "cell_type": "code",
   "execution_count": 64,
   "metadata": {},
   "outputs": [
    {
     "name": "stderr",
     "output_type": "stream",
     "text": [
      "ERROR 4079 (HY000): Illegal parameter data type inet6 for operation 'decimal_typecast'\n"
     ]
    }
   ],
   "source": [
    "SELECT CAST(a AS DECIMAL) FROM t1;"
   ]
  },
  {
   "cell_type": "code",
   "execution_count": 70,
   "metadata": {},
   "outputs": [
    {
     "data": {
      "text/html": []
     },
     "metadata": {},
     "output_type": "display_data"
    }
   ],
   "source": [
    "create table t2 (a varbinary(16));"
   ]
  },
  {
   "cell_type": "code",
   "execution_count": 71,
   "metadata": {},
   "outputs": [
    {
     "data": {
      "text/html": []
     },
     "metadata": {},
     "output_type": "display_data"
    }
   ],
   "source": [
    "insert into t2 select * from t1;"
   ]
  },
  {
   "cell_type": "code",
   "execution_count": 73,
   "metadata": {},
   "outputs": [
    {
     "data": {
      "text/html": [
       "<TABLE BORDER=1><TR><TH>hex(a)</TH></TR><TR><TD>20010DB8000000000000FF0000428329</TD></TR><TR><TD>20010DB8000000000000FF0000428329</TD></TR><TR><TD>00000000000000000000FFFFC0000280</TD></TR><TR><TD>000000000000000000000000C0000280</TD></TR></TABLE>"
      ]
     },
     "metadata": {},
     "output_type": "display_data"
    }
   ],
   "source": [
    "select hex(a) from t2;"
   ]
  },
  {
   "cell_type": "code",
   "execution_count": 77,
   "metadata": {},
   "outputs": [
    {
     "data": {
      "text/html": [
       "<TABLE BORDER=1><TR><TH>hex(t2.a)</TH><TH>a</TH></TR><TR><TD>20010DB8000000000000FF0000428329</TD><TD>2001:db8::ff00:42:8329</TD></TR><TR><TD>20010DB8000000000000FF0000428329</TD><TD>2001:db8::ff00:42:8329</TD></TR><TR><TD>20010DB8000000000000FF0000428329</TD><TD>2001:db8::ff00:42:8329</TD></TR><TR><TD>20010DB8000000000000FF0000428329</TD><TD>2001:db8::ff00:42:8329</TD></TR><TR><TD>00000000000000000000FFFFC0000280</TD><TD>::ffff:192.0.2.128</TD></TR><TR><TD>000000000000000000000000C0000280</TD><TD>::192.0.2.128</TD></TR></TABLE>"
      ]
     },
     "metadata": {},
     "output_type": "display_data"
    }
   ],
   "source": [
    "select hex(t2.a), t1.a\n",
    "from t1\n",
    "join t2 using (a);"
   ]
  },
  {
   "cell_type": "code",
   "execution_count": 80,
   "metadata": {},
   "outputs": [
    {
     "data": {
      "text/html": []
     },
     "metadata": {},
     "output_type": "display_data"
    }
   ],
   "source": [
    " CREATE OR REPLACE TABLE tg (a INET6, b VARCHAR(64));"
   ]
  },
  {
   "cell_type": "code",
   "execution_count": 82,
   "metadata": {},
   "outputs": [
    {
     "data": {
      "text/html": []
     },
     "metadata": {},
     "output_type": "display_data"
    },
    {
     "data": {
      "text/html": []
     },
     "metadata": {},
     "output_type": "display_data"
    }
   ],
   "source": [
    "INSERT INTO tg VALUES (NULL,'2001:db8::ff00:42:8328');\n",
    "INSERT INTO tg VALUES (NULL,'2001:db8::ff00:42:832a garbage');"
   ]
  },
  {
   "cell_type": "code",
   "execution_count": 83,
   "metadata": {},
   "outputs": [
    {
     "data": {
      "text/html": [
       "<TABLE BORDER=1><TR><TH>COALESCE(a,b)</TH></TR><TR><TD>2001:db8::ff00:42:8328</TD></TR><TR><TD>NULL</TD></TR></TABLE>"
      ]
     },
     "metadata": {},
     "output_type": "display_data"
    }
   ],
   "source": [
    "  SELECT COALESCE(a,b) FROM tg;"
   ]
  },
  {
   "cell_type": "code",
   "execution_count": 84,
   "metadata": {},
   "outputs": [
    {
     "data": {
      "text/html": [
       "<TABLE BORDER=1><TR><TH>Level</TH><TH>Code</TH><TH>Message</TH></TR><TR><TD>Warning</TD><TD>1292</TD><TD>Incorrect inet6 value: '2001:db8::ff00:42:832a garbage'</TD></TR></TABLE>"
      ]
     },
     "metadata": {},
     "output_type": "display_data"
    }
   ],
   "source": [
    "show warnings;"
   ]
  },
  {
   "cell_type": "markdown",
   "metadata": {},
   "source": [
    "# Application Time Periods (MariaDB 10.4+)"
   ]
  },
  {
   "cell_type": "code",
   "execution_count": 87,
   "metadata": {},
   "outputs": [
    {
     "data": {
      "text/html": []
     },
     "metadata": {},
     "output_type": "display_data"
    }
   ],
   "source": [
    "create database apptime;"
   ]
  },
  {
   "cell_type": "code",
   "execution_count": 88,
   "metadata": {},
   "outputs": [
    {
     "data": {
      "text/html": []
     },
     "metadata": {},
     "output_type": "display_data"
    }
   ],
   "source": [
    "use apptime;"
   ]
  },
  {
   "cell_type": "code",
   "execution_count": 89,
   "metadata": {},
   "outputs": [
    {
     "data": {
      "text/html": []
     },
     "metadata": {},
     "output_type": "display_data"
    }
   ],
   "source": [
    "CREATE TABLE t1(\n",
    "   name VARCHAR(50), \n",
    "   date_1 DATE,\n",
    "   date_2 DATE,\n",
    "   PERIOD FOR date_period(date_1, date_2));"
   ]
  },
  {
   "cell_type": "code",
   "execution_count": 90,
   "metadata": {},
   "outputs": [
    {
     "data": {
      "text/html": []
     },
     "metadata": {},
     "output_type": "display_data"
    }
   ],
   "source": [
    "INSERT INTO t1 (name, date_1, date_2) VALUES\n",
    "    ('a', '1999-01-01', '2000-01-01'),\n",
    "    ('b', '1999-01-01', '2018-12-12'),\n",
    "    ('c', '1999-01-01', '2017-01-01'),\n",
    "    ('d', '2017-01-01', '2019-01-01');"
   ]
  },
  {
   "cell_type": "code",
   "execution_count": 91,
   "metadata": {},
   "outputs": [
    {
     "data": {
      "text/html": [
       "<TABLE BORDER=1><TR><TH>name</TH><TH>date_1</TH><TH>date_2</TH></TR><TR><TD>a</TD><TD>1999-01-01</TD><TD>2000-01-01</TD></TR><TR><TD>b</TD><TD>1999-01-01</TD><TD>2018-12-12</TD></TR><TR><TD>c</TD><TD>1999-01-01</TD><TD>2017-01-01</TD></TR><TR><TD>d</TD><TD>2017-01-01</TD><TD>2019-01-01</TD></TR></TABLE>"
      ]
     },
     "metadata": {},
     "output_type": "display_data"
    }
   ],
   "source": [
    "select * from t1;"
   ]
  },
  {
   "cell_type": "code",
   "execution_count": 92,
   "metadata": {},
   "outputs": [
    {
     "data": {
      "text/html": []
     },
     "metadata": {},
     "output_type": "display_data"
    }
   ],
   "source": [
    "DELETE FROM t1\n",
    "FOR PORTION OF date_period\n",
    "    FROM '2001-01-01' TO '2018-01-01';"
   ]
  },
  {
   "cell_type": "code",
   "execution_count": 93,
   "metadata": {},
   "outputs": [
    {
     "data": {
      "text/html": [
       "<TABLE BORDER=1><TR><TH>name</TH><TH>date_1</TH><TH>date_2</TH></TR><TR><TD>a</TD><TD>1999-01-01</TD><TD>2000-01-01</TD></TR><TR><TD>b</TD><TD>1999-01-01</TD><TD>2001-01-01</TD></TR><TR><TD>c</TD><TD>1999-01-01</TD><TD>2001-01-01</TD></TR><TR><TD>d</TD><TD>2018-01-01</TD><TD>2019-01-01</TD></TR><TR><TD>b</TD><TD>2018-01-01</TD><TD>2018-12-12</TD></TR></TABLE>"
      ]
     },
     "metadata": {},
     "output_type": "display_data"
    }
   ],
   "source": [
    "select * from t1;"
   ]
  },
  {
   "cell_type": "markdown",
   "metadata": {},
   "source": [
    "* a is unchanged, as the range falls entirely out of the specified portion to be deleted.\n",
    "* b, with values ranging from 1999 to 2018, is split into two rows, 1999 to 2000 and 2018-01 to 2018-12.\n",
    "* c, with values ranging from 1999 to 2017, where only the upper value falls within the portion to be deleted, has been shrunk to 1999 to 2001.\n",
    "* d, with values ranging from 2017 to 2019, where only the lower value falls within the portion to be deleted, has been shrunk to 2018 to 2019. "
   ]
  },
  {
   "cell_type": "markdown",
   "metadata": {},
   "source": [
    "#### constraints\n",
    "\n",
    "* The FROM...TO clause must be constant\n",
    "* Multi-delete is not supported "
   ]
  },
  {
   "cell_type": "code",
   "execution_count": 95,
   "metadata": {},
   "outputs": [
    {
     "data": {
      "text/html": []
     },
     "metadata": {},
     "output_type": "display_data"
    },
    {
     "data": {
      "text/html": []
     },
     "metadata": {},
     "output_type": "display_data"
    },
    {
     "data": {
      "text/html": [
       "<TABLE BORDER=1><TR><TH>name</TH><TH>date_1</TH><TH>date_2</TH></TR><TR><TD>a</TD><TD>1999-01-01</TD><TD>2000-01-01</TD></TR><TR><TD>b</TD><TD>1999-01-01</TD><TD>2018-12-12</TD></TR><TR><TD>c</TD><TD>1999-01-01</TD><TD>2017-01-01</TD></TR><TR><TD>d</TD><TD>2017-01-01</TD><TD>2019-01-01</TD></TR></TABLE>"
      ]
     },
     "metadata": {},
     "output_type": "display_data"
    }
   ],
   "source": [
    "TRUNCATE t1;\n",
    "\n",
    "INSERT INTO t1 (name, date_1, date_2) VALUES\n",
    "    ('a', '1999-01-01', '2000-01-01'),\n",
    "    ('b', '1999-01-01', '2018-12-12'),\n",
    "    ('c', '1999-01-01', '2017-01-01'),\n",
    "    ('d', '2017-01-01', '2019-01-01');\n",
    "\n",
    "SELECT * FROM t1;"
   ]
  },
  {
   "cell_type": "code",
   "execution_count": 97,
   "metadata": {},
   "outputs": [
    {
     "data": {
      "text/html": []
     },
     "metadata": {},
     "output_type": "display_data"
    }
   ],
   "source": [
    "UPDATE t1 FOR PORTION OF date_period\n",
    "  FROM '2000-01-01' TO '2018-01-01' \n",
    "SET name = CONCAT(name,'_original');"
   ]
  },
  {
   "cell_type": "code",
   "execution_count": 98,
   "metadata": {},
   "outputs": [
    {
     "data": {
      "text/html": [
       "<TABLE BORDER=1><TR><TH>name</TH><TH>date_1</TH><TH>date_2</TH></TR><TR><TD>a</TD><TD>1999-01-01</TD><TD>2000-01-01</TD></TR><TR><TD>b</TD><TD>1999-01-01</TD><TD>2000-01-01</TD></TR><TR><TD>b</TD><TD>2018-01-01</TD><TD>2018-12-12</TD></TR><TR><TD>b_original</TD><TD>2000-01-01</TD><TD>2018-01-01</TD></TR><TR><TD>c</TD><TD>1999-01-01</TD><TD>2000-01-01</TD></TR><TR><TD>c_original</TD><TD>2000-01-01</TD><TD>2017-01-01</TD></TR><TR><TD>d</TD><TD>2018-01-01</TD><TD>2019-01-01</TD></TR><TR><TD>d_original</TD><TD>2017-01-01</TD><TD>2018-01-01</TD></TR></TABLE>"
      ]
     },
     "metadata": {},
     "output_type": "display_data"
    }
   ],
   "source": [
    "\n",
    "SELECT * FROM t1 ORDER BY name;"
   ]
  },
  {
   "cell_type": "markdown",
   "metadata": {},
   "source": [
    "# Application Time Periods - WITHOUT OVERLAPS (MariaDB 10.5+)"
   ]
  },
  {
   "cell_type": "code",
   "execution_count": 99,
   "metadata": {},
   "outputs": [
    {
     "data": {
      "text/html": []
     },
     "metadata": {},
     "output_type": "display_data"
    },
    {
     "data": {
      "text/html": []
     },
     "metadata": {},
     "output_type": "display_data"
    }
   ],
   "source": [
    "CREATE OR REPLACE TABLE rooms (\n",
    " room_number INT,\n",
    " guest_name VARCHAR(255),\n",
    " checkin DATE,\n",
    " checkout DATE,\n",
    " PERIOD FOR p(checkin,checkout)\n",
    " );\n",
    " \n",
    " INSERT INTO rooms VALUES \n",
    " (1, 'Regina', '2020-10-01', '2020-10-03'),\n",
    " (2, 'Cochise', '2020-10-02', '2020-10-05'),\n",
    " (1, 'Nowell', '2020-10-03', '2020-10-07'),\n",
    " (2, 'Eusebius', '2020-10-04', '2020-10-06');"
   ]
  },
  {
   "cell_type": "code",
   "execution_count": 100,
   "metadata": {},
   "outputs": [
    {
     "data": {
      "text/html": []
     },
     "metadata": {},
     "output_type": "display_data"
    },
    {
     "name": "stderr",
     "output_type": "stream",
     "text": [
      "ERROR 1062 (23000): Duplicate entry '2-2020-10-06-2020-10-04' for key 'room_number'\n"
     ]
    }
   ],
   "source": [
    "CREATE OR REPLACE TABLE rooms (\n",
    " room_number INT,\n",
    " guest_name VARCHAR(255),\n",
    " checkin DATE,\n",
    " checkout DATE,\n",
    " PERIOD FOR p(checkin,checkout),\n",
    " UNIQUE (room_number, p WITHOUT OVERLAPS)\n",
    " );\n",
    " \n",
    " INSERT INTO rooms VALUES \n",
    " (1, 'Regina', '2020-10-01', '2020-10-03'),\n",
    " (2, 'Cochise', '2020-10-02', '2020-10-05'),\n",
    " (1, 'Nowell', '2020-10-03', '2020-10-07'),\n",
    " (2, 'Eusebius', '2020-10-04', '2020-10-06');"
   ]
  }
 ],
 "metadata": {
  "kernelspec": {
   "display_name": "MariaDB",
   "language": "SQL",
   "name": "mariadb_kernel"
  },
  "language_info": {
   "file_extension": ".sql",
   "mimetype": "text/plain",
   "name": "SQL"
  }
 },
 "nbformat": 4,
 "nbformat_minor": 4
}
