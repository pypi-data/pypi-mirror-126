{
 "cells": [
  {
   "cell_type": "code",
   "execution_count": 1,
   "metadata": {},
   "outputs": [],
   "source": [
    "import pennylane as qml\n",
    "import numpy as np\n",
    "import sys"
   ]
  },
  {
   "cell_type": "code",
   "execution_count": 2,
   "metadata": {},
   "outputs": [],
   "source": [
    "from pennylane_ls import *"
   ]
  },
  {
   "cell_type": "code",
   "execution_count": 3,
   "metadata": {},
   "outputs": [],
   "source": [
    "from heroku_credentials import username, password"
   ]
  },
  {
   "cell_type": "code",
   "execution_count": 4,
   "metadata": {},
   "outputs": [],
   "source": [
    "#testDevice = qml.device(\"synqs.fs\", shots = 50, username = username, password = password, blocking=True)\n",
    "testDevice = qml.device(\"synqs.fs\", shots = 50, username = username, password = password)"
   ]
  },
  {
   "cell_type": "code",
   "execution_count": 5,
   "metadata": {},
   "outputs": [
    {
     "data": {
      "text/plain": [
       "{'ChemicalPotential',\n",
       " 'HartreeFock',\n",
       " 'Hop',\n",
       " 'Inter',\n",
       " 'Load',\n",
       " 'OnSiteInteraction',\n",
       " 'Phase',\n",
       " 'Tunneling'}"
      ]
     },
     "execution_count": 5,
     "metadata": {},
     "output_type": "execute_result"
    }
   ],
   "source": [
    "testDevice.operations"
   ]
  },
  {
   "cell_type": "markdown",
   "metadata": {},
   "source": [
    "### For the fermion simulator"
   ]
  },
  {
   "cell_type": "code",
   "execution_count": 6,
   "metadata": {},
   "outputs": [
    {
     "data": {
      "text/plain": [
       "8"
      ]
     },
     "execution_count": 6,
     "metadata": {},
     "output_type": "execute_result"
    }
   ],
   "source": [
    "testDevice.num_wires"
   ]
  },
  {
   "cell_type": "code",
   "execution_count": 9,
   "metadata": {},
   "outputs": [],
   "source": [
    "@qml.qnode(testDevice)\n",
    "def quantum_circuit(alpha=0):\n",
    "    Load(wires=0)\n",
    "    Load(wires=1)\n",
    "    Load(wires=2)\n",
    "    Hop(alpha, wires=[0, 1, 2, 3])\n",
    "    # Inter(alpha,wires=testDevice.wires)\n",
    "    Inter(alpha, wires=testDevice.wires)\n",
    "    Phase(alpha, wires=[0, 2])\n",
    "    return qml.sample(ParticleNumber(wires=testDevice.wires))"
   ]
  },
  {
   "cell_type": "code",
   "execution_count": 10,
   "metadata": {},
   "outputs": [
    {
     "data": {
      "text/plain": [
       "array([[1., 1., 1., 0., 0., 0., 0., 0.],\n",
       "       [1., 0., 1., 1., 0., 0., 0., 0.],\n",
       "       [1., 1., 1., 0., 0., 0., 0., 0.],\n",
       "       [1., 0., 1., 1., 0., 0., 0., 0.],\n",
       "       [1., 0., 1., 1., 0., 0., 0., 0.],\n",
       "       [1., 0., 1., 1., 0., 0., 0., 0.],\n",
       "       [1., 0., 1., 1., 0., 0., 0., 0.],\n",
       "       [1., 1., 1., 0., 0., 0., 0., 0.],\n",
       "       [1., 0., 1., 1., 0., 0., 0., 0.],\n",
       "       [1., 0., 1., 1., 0., 0., 0., 0.]])"
      ]
     },
     "execution_count": 10,
     "metadata": {},
     "output_type": "execute_result"
    }
   ],
   "source": [
    "quantum_circuit(2, shots=10)"
   ]
  },
  {
   "cell_type": "code",
   "execution_count": 11,
   "metadata": {},
   "outputs": [
    {
     "name": "stdout",
     "output_type": "stream",
     "text": [
      " 0: ──Load──╭Hop(2)──╭Inter(2)──╭Phase(2)──╭┤ Sample[ParticleNumber] \n",
      " 1: ──Load──├Hop(2)──├Inter(2)──│──────────├┤ Sample[ParticleNumber] \n",
      " 2: ──Load──├Hop(2)──├Inter(2)──╰Phase(2)──├┤ Sample[ParticleNumber] \n",
      " 3: ────────╰Hop(2)──├Inter(2)─────────────├┤ Sample[ParticleNumber] \n",
      " 4: ─────────────────├Inter(2)─────────────├┤ Sample[ParticleNumber] \n",
      " 5: ─────────────────├Inter(2)─────────────├┤ Sample[ParticleNumber] \n",
      " 6: ─────────────────├Inter(2)─────────────├┤ Sample[ParticleNumber] \n",
      " 7: ─────────────────╰Inter(2)─────────────╰┤ Sample[ParticleNumber] \n",
      "\n"
     ]
    }
   ],
   "source": [
    "print(quantum_circuit.draw())"
   ]
  },
  {
   "cell_type": "code",
   "execution_count": 12,
   "metadata": {},
   "outputs": [
    {
     "data": {
      "text/plain": [
       "array([1. , 0.3, 1. , 0.7, 0. , 0. , 0. , 0. ])"
      ]
     },
     "execution_count": 12,
     "metadata": {},
     "output_type": "execute_result"
    }
   ],
   "source": [
    "testDevice.expval(observable=\"ParticleNumber\", wires=testDevice.wires)"
   ]
  },
  {
   "cell_type": "code",
   "execution_count": 13,
   "metadata": {},
   "outputs": [
    {
     "data": {
      "text/plain": [
       "array([0.  , 0.21, 0.  , 0.21, 0.  , 0.  , 0.  , 0.  ])"
      ]
     },
     "execution_count": 13,
     "metadata": {},
     "output_type": "execute_result"
    }
   ],
   "source": [
    "testDevice.var(observable=\"ParticleNumber\", wires=testDevice.wires)"
   ]
  },
  {
   "cell_type": "code",
   "execution_count": 14,
   "metadata": {},
   "outputs": [
    {
     "data": {
      "text/plain": [
       "OrderedDict([((1.0, 0.0, 1.0, 1.0, 0.0, 0.0, 0.0, 0.0), 0.7),\n",
       "             ((1.0, 1.0, 1.0, 0.0, 0.0, 0.0, 0.0, 0.0), 0.3)])"
      ]
     },
     "execution_count": 14,
     "metadata": {},
     "output_type": "execute_result"
    }
   ],
   "source": [
    "testDevice.probability(wires=testDevice.wires)"
   ]
  },
  {
   "cell_type": "code",
   "execution_count": 15,
   "metadata": {},
   "outputs": [],
   "source": [
    "@qml.qnode(testDevice)\n",
    "def simple_hopping(theta=0):\n",
    "    \"\"\"\n",
    "    The circuit that simulates the experiments.\n",
    "\n",
    "    theta ... angle of the hopping\n",
    "    \"\"\"\n",
    "    # load atoms\n",
    "    FermionOps.Load(wires=0)\n",
    "    FermionOps.Load(wires=1)\n",
    "\n",
    "    obs = FermionOps.ParticleNumber([0, 1, 2, 3])\n",
    "    return qml.expval(obs)"
   ]
  },
  {
   "cell_type": "code",
   "execution_count": 16,
   "metadata": {},
   "outputs": [
    {
     "data": {
      "text/plain": [
       "tensor([1., 1., 0., 0.], requires_grad=False)"
      ]
     },
     "execution_count": 16,
     "metadata": {},
     "output_type": "execute_result"
    }
   ],
   "source": [
    "simple_hopping(2, shots=10)"
   ]
  },
  {
   "cell_type": "code",
   "execution_count": null,
   "metadata": {},
   "outputs": [],
   "source": []
  }
 ],
 "metadata": {
  "interpreter": {
   "hash": "b3ba2566441a7c06988d0923437866b63cedc61552a5af99d1f4fb67d367b25f"
  },
  "kernelspec": {
   "display_name": "Python 3",
   "language": "python",
   "name": "python3"
  },
  "language_info": {
   "codemirror_mode": {
    "name": "ipython",
    "version": 3
   },
   "file_extension": ".py",
   "mimetype": "text/x-python",
   "name": "python",
   "nbconvert_exporter": "python",
   "pygments_lexer": "ipython3",
   "version": "3.8.5"
  }
 },
 "nbformat": 4,
 "nbformat_minor": 4
}
