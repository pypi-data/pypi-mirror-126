{
 "cells": [
  {
   "cell_type": "code",
   "execution_count": 1,
   "metadata": {},
   "outputs": [],
   "source": [
    "import pandas as pd"
   ]
  },
  {
   "cell_type": "code",
   "execution_count": 2,
   "metadata": {},
   "outputs": [
    {
     "name": "stderr",
     "output_type": "stream",
     "text": [
      "c:\\Users\\99823045\\projects\\infosiga\\.venv\\lib\\site-packages\\openpyxl\\styles\\stylesheet.py:226: UserWarning: Workbook contains no default style, apply openpyxl's default\n",
      "  warn(\"Workbook contains no default style, apply openpyxl's default\")\n"
     ]
    }
   ],
   "source": [
    "fatais = pd.read_excel('acidentes_fatais.xlsx')\n",
    "nao_fatais = pd.read_csv('acidentes_naofatais.csv', encoding='unicode_escape', engine='python', sep=';')\n",
    "acidentes_federais = pd.read_csv('accidents_data.csv', encoding='latin', sep=';')"
   ]
  },
  {
   "cell_type": "code",
   "execution_count": 3,
   "metadata": {},
   "outputs": [],
   "source": [
    "def convert_to_str(value):\n",
    "    if value:\n",
    "        return str(int(value))\n",
    "    else:\n",
    "        return None\n",
    "acidentes_federais['br'] = acidentes_federais['br'].fillna('').apply(convert_to_str)"
   ]
  },
  {
   "cell_type": "code",
   "execution_count": 4,
   "metadata": {},
   "outputs": [],
   "source": [
    "fatais = fatais.query('Jurisdição != \"FEDERAL\"')\n",
    "nao_fatais = nao_fatais.query('Jurisdição != \"FEDERAL\"')"
   ]
  },
  {
   "cell_type": "code",
   "execution_count": 5,
   "metadata": {},
   "outputs": [],
   "source": [
    "fatais = fatais.query('`Lat (GEO)` != \"NAO DISPONIVEL\" or `Long (GEO)` != \"NAO DISPONIVEL\"')\n",
    "nao_fatais = nao_fatais.query('`LAT_(GEO)` != \"NAO DISPONIVEL\" or `LONG_(GEO)` != \"NAO DISPONIVEL\"')"
   ]
  },
  {
   "cell_type": "code",
   "execution_count": 6,
   "metadata": {},
   "outputs": [],
   "source": [
    "fatais = fatais[fatais['Data do Acidente'].dt.year >= 2017]\n",
    "nao_fatais = nao_fatais[pd.to_datetime(nao_fatais['Data do Acidente']).dt.year >= 2017]"
   ]
  },
  {
   "cell_type": "code",
   "execution_count": 7,
   "metadata": {},
   "outputs": [],
   "source": [
    "nao_fatais = nao_fatais.applymap(lambda x: None if x == 'NAO DISPONIVEL' else x)\n",
    "fatais = fatais.applymap(lambda x: None if x == 'NAO DISPONIVEL' else x)\n",
    "nao_fatais['Hora do Acidente'] = nao_fatais['Hora do Acidente'].apply(lambda x: x + ':00' if x is not None else x)\n",
    "fatais['Hora do Acidente'] = fatais['Hora do Acidente'].apply(lambda x: x + ':00' if x is not None else x)"
   ]
  },
  {
   "cell_type": "code",
   "execution_count": 8,
   "metadata": {},
   "outputs": [],
   "source": [
    "keep_cols1 = ['Data do Acidente', 'Dia da Semana', 'Hora do Acidente', 'uf', 'Logradouro',\n",
    "              'Numero/KM', 'Município', 'causa_acidente', 'tipo_acidente', 'Classificação',\n",
    "              'Turno', 'sentido_via', 'Condições Climáticas', 'Tipo de pista', 'Traçado',\n",
    "              'Pessoas', 'mortos', 'Pessoas Envolvidas - Grave', 'LAT_(GEO)', 'LONG_(GEO)']\n",
    "\n",
    "pessoas_cols = ['Pessoas Envolvidas - Grave', 'Pessoas Envolvidas - Ileso',\n",
    "                'Pessoas Envolvidas - Leve']\n",
    "\n",
    "nao_fatais = nao_fatais[(nao_fatais[pessoas_cols] > 0).any(axis=1)].copy()\n",
    "\n",
    "nao_fatais['Pessoas'] = nao_fatais[pessoas_cols].sum(axis=1)\n",
    "nao_fatais['causa_acidente'] = None\n",
    "nao_fatais['tipo_acidente'] = None\n",
    "nao_fatais['sentido_via'] = None\n",
    "nao_fatais['mortos'] = 0\n",
    "nao_fatais['uf'] = 'SP'"
   ]
  },
  {
   "cell_type": "code",
   "execution_count": 9,
   "metadata": {},
   "outputs": [],
   "source": [
    "def classification(col):\n",
    "    if col > 0:\n",
    "        return 'Com Vítimas Feridas'\n",
    "    else:\n",
    "        return 'Sem Vítimas'\n",
    "\n",
    "nao_fatais['Classificação'] = (nao_fatais[['Pessoas Envolvidas - Grave',\n",
    "                                          'Pessoas Envolvidas - Leve']]\n",
    "                               .sum(axis=1).apply(classification))"
   ]
  },
  {
   "cell_type": "code",
   "execution_count": 10,
   "metadata": {},
   "outputs": [],
   "source": [
    "rename_cols1 = dict(zip(keep_cols1, list(acidentes_federais.columns)))\n",
    "nao_fatais = nao_fatais[keep_cols1].rename(columns=rename_cols1)"
   ]
  },
  {
   "cell_type": "code",
   "execution_count": 11,
   "metadata": {},
   "outputs": [],
   "source": [
    "keep_cols2 = ['Data do Acidente', 'Dia da semana', 'Hora do Acidente', 'uf', \n",
    "              'Logradouro', 'Numeral / KM', 'Município', 'causa_acidente',\n",
    "              'tipo_acidente', 'Classificação', 'Turno', 'sentido_via',\n",
    "              'Condições Climáticas (SIOPM)', 'Tipo de pista (SIOPM)', 'Traçado',\n",
    "              'Pessoas', 'Quantidade de vítimas', 'feridos_graves', 'Lat (GEO)', 'Long (GEO)']\n",
    "\n",
    "fatais['Classificação'] = 'Com Vítimas Fatais'\n",
    "fatais['uf'] = 'SP'\n",
    "fatais['sentido_via'] = None\n",
    "fatais['causa_acidente'] = None\n",
    "fatais['tipo_acidente'] = None\n",
    "fatais['Traçado'] = None\n",
    "fatais['Pessoas'] = fatais['Quantidade de vítimas']\n",
    "fatais['feridos_graves'] = 0"
   ]
  },
  {
   "cell_type": "code",
   "execution_count": 12,
   "metadata": {},
   "outputs": [],
   "source": [
    "rename_cols2 = dict(zip(keep_cols2, list(acidentes_federais.columns)))\n",
    "fatais = fatais[keep_cols2].rename(columns=rename_cols2)\n",
    "fatais['pessoas'] = fatais['pessoas'].astype('int64')\n",
    "fatais['mortos'] = fatais['mortos'].astype('int64')"
   ]
  },
  {
   "cell_type": "code",
   "execution_count": 13,
   "metadata": {},
   "outputs": [],
   "source": [
    "fatais['data_inversa'] = fatais['data_inversa'].dt.date.astype('object')"
   ]
  },
  {
   "cell_type": "code",
   "execution_count": 15,
   "metadata": {},
   "outputs": [],
   "source": [
    "final_acidentes = pd.concat([acidentes_federais, nao_fatais, fatais]).reset_index(drop=True)"
   ]
  },
  {
   "cell_type": "code",
   "execution_count": 16,
   "metadata": {},
   "outputs": [],
   "source": [
    "final_acidentes.to_csv('acidentes_final.csv', index=False, encoding='latin1', sep=';')"
   ]
  }
 ],
 "metadata": {
  "interpreter": {
   "hash": "bb20aa2ff2435e66d21a5bb5b348dd161f5ff64a3e731073f8e2d7ce30b70896"
  },
  "kernelspec": {
   "display_name": "Python 3.8.7 64-bit ('.venv': poetry)",
   "name": "python3"
  },
  "language_info": {
   "codemirror_mode": {
    "name": "ipython",
    "version": 3
   },
   "file_extension": ".py",
   "mimetype": "text/x-python",
   "name": "python",
   "nbconvert_exporter": "python",
   "pygments_lexer": "ipython3",
   "version": "3.8.7"
  },
  "orig_nbformat": 4
 },
 "nbformat": 4,
 "nbformat_minor": 2
}
