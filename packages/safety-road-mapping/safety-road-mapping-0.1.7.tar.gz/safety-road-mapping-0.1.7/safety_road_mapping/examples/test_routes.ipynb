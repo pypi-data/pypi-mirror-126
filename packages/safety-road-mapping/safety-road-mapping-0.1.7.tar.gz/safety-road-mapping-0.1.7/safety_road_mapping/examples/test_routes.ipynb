{
 "cells": [
  {
   "cell_type": "code",
   "execution_count": 1,
   "metadata": {},
   "outputs": [],
   "source": [
    "from safety_road_mapping.safety import SafetyMap\n",
    "from safety_road_mapping.safety import generate_base_map\n",
    "import pandas as pd"
   ]
  },
  {
   "cell_type": "code",
   "execution_count": 2,
   "metadata": {},
   "outputs": [],
   "source": [
    "routes = pd.read_csv('../extract_data/trechos.csv', sep=';', encoding='utf8')"
   ]
  },
  {
   "cell_type": "code",
   "execution_count": 3,
   "metadata": {},
   "outputs": [],
   "source": [
    "routes['Nome Destino'] = routes['Nome Destino'].str.replace('/', '.')"
   ]
  },
  {
   "cell_type": "code",
   "execution_count": 4,
   "metadata": {},
   "outputs": [
    {
     "data": {
      "text/html": [
       "<div>\n",
       "<style scoped>\n",
       "    .dataframe tbody tr th:only-of-type {\n",
       "        vertical-align: middle;\n",
       "    }\n",
       "\n",
       "    .dataframe tbody tr th {\n",
       "        vertical-align: top;\n",
       "    }\n",
       "\n",
       "    .dataframe thead th {\n",
       "        text-align: right;\n",
       "    }\n",
       "</style>\n",
       "<table border=\"1\" class=\"dataframe\">\n",
       "  <thead>\n",
       "    <tr style=\"text-align: right;\">\n",
       "      <th></th>\n",
       "      <th>Nome Origem</th>\n",
       "      <th>Latitude Origem</th>\n",
       "      <th>Longitude Origem</th>\n",
       "      <th>Nome Destino</th>\n",
       "      <th>Latitude Destino</th>\n",
       "      <th>Longitude Destino</th>\n",
       "    </tr>\n",
       "  </thead>\n",
       "  <tbody>\n",
       "    <tr>\n",
       "      <th>0</th>\n",
       "      <td>C. PERNAMBUCO</td>\n",
       "      <td>-7.757940</td>\n",
       "      <td>-34.922756</td>\n",
       "      <td>Ambev S.A. - CDD Olinda</td>\n",
       "      <td>-8.003556</td>\n",
       "      <td>-34.888931</td>\n",
       "    </tr>\n",
       "    <tr>\n",
       "      <th>1</th>\n",
       "      <td>C. NOVA RIO</td>\n",
       "      <td>-22.860889</td>\n",
       "      <td>-43.602848</td>\n",
       "      <td>AMBEV S.A. - CDD VITÓRIA</td>\n",
       "      <td>-20.307961</td>\n",
       "      <td>-40.397007</td>\n",
       "    </tr>\n",
       "    <tr>\n",
       "      <th>2</th>\n",
       "      <td>C. JACAREÍ</td>\n",
       "      <td>-23.204592</td>\n",
       "      <td>-46.011505</td>\n",
       "      <td>Ambev S.A. - CDD Campinas</td>\n",
       "      <td>-22.733862</td>\n",
       "      <td>-47.170383</td>\n",
       "    </tr>\n",
       "    <tr>\n",
       "      <th>3</th>\n",
       "      <td>C. NOVA MINAS</td>\n",
       "      <td>-19.381531</td>\n",
       "      <td>-44.206367</td>\n",
       "      <td>CRBS S.A - CDL Santa Luzia</td>\n",
       "      <td>-19.809294</td>\n",
       "      <td>-43.874962</td>\n",
       "    </tr>\n",
       "    <tr>\n",
       "      <th>4</th>\n",
       "      <td>C. NOVA RIO</td>\n",
       "      <td>-22.860889</td>\n",
       "      <td>-43.602848</td>\n",
       "      <td>CRBS S.A - CDD Niteroi</td>\n",
       "      <td>-22.797338</td>\n",
       "      <td>-42.983379</td>\n",
       "    </tr>\n",
       "    <tr>\n",
       "      <th>5</th>\n",
       "      <td>C. AGUDOS</td>\n",
       "      <td>-22.496134</td>\n",
       "      <td>-48.933067</td>\n",
       "      <td>Ambev S.A. - CDD Ribeirao Preto</td>\n",
       "      <td>-21.199411</td>\n",
       "      <td>-47.755424</td>\n",
       "    </tr>\n",
       "    <tr>\n",
       "      <th>6</th>\n",
       "      <td>C. ÁGUAS CLARAS DO SUL</td>\n",
       "      <td>-30.174222</td>\n",
       "      <td>-50.871373</td>\n",
       "      <td>CRBS S.A - CDD Porto Alegre</td>\n",
       "      <td>-30.009375</td>\n",
       "      <td>-51.315903</td>\n",
       "    </tr>\n",
       "    <tr>\n",
       "      <th>7</th>\n",
       "      <td>C. NOVA RIO</td>\n",
       "      <td>-22.860889</td>\n",
       "      <td>-43.602848</td>\n",
       "      <td>F. CDR Extrema-DC</td>\n",
       "      <td>-22.866209</td>\n",
       "      <td>-46.351944</td>\n",
       "    </tr>\n",
       "    <tr>\n",
       "      <th>8</th>\n",
       "      <td>C. CAMAÇARI</td>\n",
       "      <td>-12.677096</td>\n",
       "      <td>-38.323620</td>\n",
       "      <td>CRBS S.A - CDD Salvador</td>\n",
       "      <td>-12.873590</td>\n",
       "      <td>-38.426273</td>\n",
       "    </tr>\n",
       "    <tr>\n",
       "      <th>9</th>\n",
       "      <td>C. ANÁPOLIS</td>\n",
       "      <td>-16.299358</td>\n",
       "      <td>-48.810066</td>\n",
       "      <td>Ambev S.A- CDD F. Brasilia</td>\n",
       "      <td>-16.002106</td>\n",
       "      <td>-48.052151</td>\n",
       "    </tr>\n",
       "  </tbody>\n",
       "</table>\n",
       "</div>"
      ],
      "text/plain": [
       "              Nome Origem  Latitude Origem  Longitude Origem  \\\n",
       "0           C. PERNAMBUCO        -7.757940        -34.922756   \n",
       "1             C. NOVA RIO       -22.860889        -43.602848   \n",
       "2              C. JACAREÍ       -23.204592        -46.011505   \n",
       "3           C. NOVA MINAS       -19.381531        -44.206367   \n",
       "4             C. NOVA RIO       -22.860889        -43.602848   \n",
       "5               C. AGUDOS       -22.496134        -48.933067   \n",
       "6  C. ÁGUAS CLARAS DO SUL       -30.174222        -50.871373   \n",
       "7             C. NOVA RIO       -22.860889        -43.602848   \n",
       "8             C. CAMAÇARI       -12.677096        -38.323620   \n",
       "9             C. ANÁPOLIS       -16.299358        -48.810066   \n",
       "\n",
       "                      Nome Destino  Latitude Destino  Longitude Destino  \n",
       "0          Ambev S.A. - CDD Olinda         -8.003556         -34.888931  \n",
       "1         AMBEV S.A. - CDD VITÓRIA        -20.307961         -40.397007  \n",
       "2        Ambev S.A. - CDD Campinas        -22.733862         -47.170383  \n",
       "3       CRBS S.A - CDL Santa Luzia        -19.809294         -43.874962  \n",
       "4           CRBS S.A - CDD Niteroi        -22.797338         -42.983379  \n",
       "5  Ambev S.A. - CDD Ribeirao Preto        -21.199411         -47.755424  \n",
       "6      CRBS S.A - CDD Porto Alegre        -30.009375         -51.315903  \n",
       "7                F. CDR Extrema-DC        -22.866209         -46.351944  \n",
       "8          CRBS S.A - CDD Salvador        -12.873590         -38.426273  \n",
       "9       Ambev S.A- CDD F. Brasilia        -16.002106         -48.052151  "
      ]
     },
     "execution_count": 4,
     "metadata": {},
     "output_type": "execute_result"
    }
   ],
   "source": [
    "routes"
   ]
  },
  {
   "cell_type": "code",
   "execution_count": 5,
   "metadata": {},
   "outputs": [],
   "source": [
    "origin = list(routes[['Longitude Origem', 'Latitude Origem']].apply(tuple, axis=1).values)\n",
    "destination = list(routes[['Longitude Destino', 'Latitude Destino']].apply(tuple, axis=1).values)\n",
    "coordinates = list(zip(origin, destination))\n",
    "routes_names = list(routes.agg(lambda x: f\"{x['Nome Origem']}_{x['Nome Destino']}\", axis=1).values)"
   ]
  },
  {
   "cell_type": "code",
   "execution_count": 6,
   "metadata": {},
   "outputs": [],
   "source": [
    "basemap = generate_base_map()"
   ]
  },
  {
   "cell_type": "code",
   "execution_count": 7,
   "metadata": {},
   "outputs": [
    {
     "name": "stdout",
     "output_type": "stream",
     "text": [
      "The final route score is 79.64.\n",
      "Plotting route and final score on map...\n",
      "The final route score is 47.62.\n",
      "Plotting route and final score on map...\n",
      "The final route score is 45.92.\n",
      "Plotting route and final score on map...\n",
      "The final route score is 0.00.\n",
      "Plotting route and final score on map...\n",
      "The final route score is 90.78.\n",
      "Plotting route and final score on map...\n",
      "The final route score is 35.23.\n",
      "Plotting route and final score on map...\n",
      "The final route score is 48.49.\n",
      "Plotting route and final score on map...\n",
      "The final route score is 77.62.\n",
      "Plotting route and final score on map...\n",
      "The final route score is 30.93.\n",
      "Plotting route and final score on map...\n",
      "The final route score is 21.38.\n",
      "Plotting route and final score on map...\n"
     ]
    }
   ],
   "source": [
    "data_path = \"../extract_data/data/accidents_final.csv\"\n",
    "\n",
    "color_dict = {0: 'red', 1: 'lightred', 2: 'darkblue', 3: 'orange', 4: 'darkgreen',\n",
    "              5: 'cadetblue', 6: 'purple', 7: 'black', 8: 'gray', 9: 'lightblue',\n",
    "              10: 'beige', 11: 'lightgray', 12: 'lightgreen', 13: 'blue', 14: 'pink',\n",
    "              15: 'darkpurple', 16: 'green', 17: 'white', 18: 'darkred'}\n",
    "\n",
    "\n",
    "for i, coor in enumerate(coordinates):\n",
    "    o_name = routes_names[i].split('_')[0]\n",
    "    d_name = routes_names[i].split('_')[1]\n",
    "    s = SafetyMap(accidents_data_file_path=data_path, start_point=coor[0], end_point=coor[1],\n",
    "                  basemap=basemap, map_save_path=\"../maps/final_map.html\", env_path='../.env',\n",
    "                  origin_name=o_name, destination_name=d_name, color_value=i)\n",
    "    s.path_risk_score(save_map=True)"
   ]
  },
  {
   "cell_type": "markdown",
   "metadata": {},
   "source": [
    "## Creating separated files for each route"
   ]
  },
  {
   "cell_type": "code",
   "execution_count": 8,
   "metadata": {},
   "outputs": [
    {
     "name": "stdout",
     "output_type": "stream",
     "text": [
      "The final route score is 79.64.\n",
      "Plotting route and final score on map...\n",
      "The final route score is 47.62.\n",
      "Plotting route and final score on map...\n",
      "The final route score is 45.92.\n",
      "Plotting route and final score on map...\n",
      "The final route score is 0.00.\n",
      "Plotting route and final score on map...\n",
      "The final route score is 90.78.\n",
      "Plotting route and final score on map...\n",
      "The final route score is 35.23.\n",
      "Plotting route and final score on map...\n",
      "The final route score is 48.49.\n",
      "Plotting route and final score on map...\n",
      "The final route score is 77.62.\n",
      "Plotting route and final score on map...\n",
      "The final route score is 30.93.\n",
      "Plotting route and final score on map...\n",
      "The final route score is 21.38.\n",
      "Plotting route and final score on map...\n"
     ]
    }
   ],
   "source": [
    "for i, coor in enumerate(coordinates):\n",
    "    basemap = generate_base_map()\n",
    "    o_name = routes_names[i].split('_')[0]\n",
    "    d_name = routes_names[i].split('_')[1]\n",
    "    s = SafetyMap(accidents_data_file_path=data_path, start_point=coor[0], end_point=coor[1],\n",
    "                  basemap=basemap, map_save_path=f\"../maps/map_{routes_names[i]}.html\",\n",
    "                  origin_name=o_name, destination_name=d_name, env_path='../.env')\n",
    "    s.path_risk_score(save_map=True)"
   ]
  }
 ],
 "metadata": {
  "interpreter": {
   "hash": "329ac88cce7a51673b1258bf2f52b4b32b4e36324beca05b74c024c06476c29c"
  },
  "kernelspec": {
   "display_name": "Python 3.8.7 64-bit ('.venv': poetry)",
   "name": "python3"
  },
  "language_info": {
   "codemirror_mode": {
    "name": "ipython",
    "version": 3
   },
   "file_extension": ".py",
   "mimetype": "text/x-python",
   "name": "python",
   "nbconvert_exporter": "python",
   "pygments_lexer": "ipython3",
   "version": "3.8.7"
  },
  "orig_nbformat": 4
 },
 "nbformat": 4,
 "nbformat_minor": 2
}
