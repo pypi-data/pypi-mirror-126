{
 "cells": [
  {
   "cell_type": "code",
   "execution_count": 1,
   "source": [
    "from bs4 import BeautifulSoup as bs\r\n",
    "import requests\r\n",
    "import wget\r\n",
    "from glob import glob\r\n",
    "from pyunpack import Archive"
   ],
   "outputs": [],
   "metadata": {}
  },
  {
   "cell_type": "code",
   "execution_count": 2,
   "source": [
    "url = 'https://www.gov.br/prf/pt-br/acesso-a-informacao/dados-abertos/dados-abertos-acidentes'\r\n",
    "page = requests.get(url)\r\n",
    "soup = bs(page.text, 'html.parser')"
   ],
   "outputs": [],
   "metadata": {}
  },
  {
   "cell_type": "code",
   "execution_count": 19,
   "source": [
    "year_links = (soup.find(class_ = 'field field--name-body field--type-text-with-summary field--label-hidden field--item')\r\n",
    "              .find_all('ul')[1].find_all('li'))\r\n",
    "year_list = [link.find_all('a')[-1]['href'] for link in year_links]\r\n",
    "year_list = [item + '/download' if '/download' not in item else item for item in list(set(year_list))]\r\n"
   ],
   "outputs": [],
   "metadata": {}
  },
  {
   "cell_type": "code",
   "execution_count": 20,
   "source": [
    "len(year_list)"
   ],
   "outputs": [
    {
     "output_type": "execute_result",
     "data": {
      "text/plain": [
       "15"
      ]
     },
     "metadata": {},
     "execution_count": 20
    }
   ],
   "metadata": {}
  },
  {
   "cell_type": "code",
   "execution_count": 21,
   "source": [
    "year_list"
   ],
   "outputs": [
    {
     "output_type": "execute_result",
     "data": {
      "text/plain": [
       "['https://arquivos.prf.gov.br/arquivos/index.php/s/qqAsQep7J8FzpR5/download',\n",
       " 'https://arquivos.prf.gov.br/arquivos/index.php/s/jdDLrQIf33xXSCe/download',\n",
       " 'https://arquivos.prf.gov.br/arquivos/index.php/s/EzXry9IsLLJosSg/download',\n",
       " 'https://arquivos.prf.gov.br/arquivos/index.php/s/nqvFu7xEF6HhbAq/download',\n",
       " 'https://arquivos.prf.gov.br/arquivos/index.php/s/kRBUylqz6DyQznN/download',\n",
       " 'https://arquivos.prf.gov.br/arquivos/index.php/s/1QYIZKqjcUDOrXm/download',\n",
       " 'https://arquivos.prf.gov.br/arquivos/index.php/s/MaC6cieXSFACNWT/download',\n",
       " 'https://arquivos.prf.gov.br/arquivos/index.php/s/AhSKXYgrFtfXMK3/download',\n",
       " 'https://arquivos.prf.gov.br/arquivos/index.php/s/ZBJgHd4fmYV2Hhr/download',\n",
       " 'https://arquivos.prf.gov.br/arquivos/index.php/s/QZXR9LVr4lynqbA/download',\n",
       " 'https://arquivos.prf.gov.br/arquivos/index.php/s/n1T3lymvIdDOzzb/download',\n",
       " 'https://arquivos.prf.gov.br/arquivos/index.php/s/mBWHzsujvZ7nZbe/download',\n",
       " 'https://arquivos.prf.gov.br/arquivos/index.php/s/WEP8Pu4sA64V7f6/download',\n",
       " 'https://arquivos.prf.gov.br/arquivos/index.php/s/VIeiSbpxRxan33L/download',\n",
       " 'https://arquivos.prf.gov.br/arquivos/index.php/s/tx9oSTOPYrSqDhb/download']"
      ]
     },
     "metadata": {},
     "execution_count": 21
    }
   ],
   "metadata": {}
  },
  {
   "cell_type": "code",
   "execution_count": 27,
   "source": [
    "download = [wget.download(url, out='./data') for url in year_list]"
   ],
   "outputs": [],
   "metadata": {}
  },
  {
   "cell_type": "code",
   "execution_count": 34,
   "source": [
    "file_list = glob('./data/[denatran]*')"
   ],
   "outputs": [],
   "metadata": {}
  },
  {
   "cell_type": "code",
   "execution_count": 38,
   "source": [
    "f = [Archive(file).extractall(\"data\") for file in file_list]"
   ],
   "outputs": [],
   "metadata": {}
  }
 ],
 "metadata": {
  "orig_nbformat": 4,
  "language_info": {
   "name": "python",
   "version": "3.8.7",
   "mimetype": "text/x-python",
   "codemirror_mode": {
    "name": "ipython",
    "version": 3
   },
   "pygments_lexer": "ipython3",
   "nbconvert_exporter": "python",
   "file_extension": ".py"
  },
  "kernelspec": {
   "name": "python3",
   "display_name": "Python 3.8.7 64-bit ('.venv': poetry)"
  },
  "interpreter": {
   "hash": "329ac88cce7a51673b1258bf2f52b4b32b4e36324beca05b74c024c06476c29c"
  }
 },
 "nbformat": 4,
 "nbformat_minor": 2
}