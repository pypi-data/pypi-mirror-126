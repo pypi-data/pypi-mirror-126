{
 "cells": [
  {
   "cell_type": "markdown",
   "metadata": {
    "bxyCellId": "id_rewq66c"
   },
   "source": [
    "## C++ 标准测试\n",
    "\n",
    "单元简介（目前不展示这部分，所以可以写的简单一点）"
   ]
  },
  {
   "cell_type": "markdown",
   "metadata": {
    "bxyCellId": "id_pbzxqv9"
   },
   "source": [
    "### 无判错"
   ]
  },
  {
   "cell_type": "code",
   "execution_count": null,
   "metadata": {
    "bxyCellId": "id_fdmpogq"
   },
   "outputs": [],
   "source": [
    "#platform-desc\n",
    "from ipyaliplayer import Player\n",
    "Player(vid='0e2bb0014a4f40649fa2999344a14368')\n"
   ]
  },
  {
   "cell_type": "markdown",
   "metadata": {
    "bxyCellId": "id_mmejxkz"
   },
   "source": [
    "#### 测试四级标题\n",
    "<!--步骤描述 -->\n",
    "\n",
    "- 点调试 -> 触发报错（报错行定位）\n",
    "- 点提交 -> 触发报错（报错行定位）\n",
    "- 查看答案、填入答案\n",
    "- 点调试 -> 触发步骤通过\n",
    "- 按ctrl+enter -> 触发步骤通过\n",
    "- 检查“查看答案”按钮应该出现"
   ]
  },
  {
   "cell_type": "code",
   "execution_count": null,
   "metadata": {
    "bxyCellId": "id_0v1ujpv"
   },
   "outputs": [],
   "source": [
    "//platform-lock\n",
    "#include <iostream>\n",
    "int main() {"
   ]
  },
  {
   "cell_type": "code",
   "execution_count": null,
   "metadata": {
    "bxyCellId": "id_92cp7w5"
   },
   "outputs": [],
   "source": [
    "//platform-edit\n",
    "\n",
    "std::cout <<< 1;"
   ]
  },
  {
   "cell_type": "code",
   "execution_count": null,
   "metadata": {
    "bxyCellId": "id_cudbok4"
   },
   "outputs": [],
   "source": [
    "//platform-edit-answer\n",
    "\n",
    "std::cout << 1;"
   ]
  },
  {
   "cell_type": "code",
   "execution_count": null,
   "metadata": {
    "bxyCellId": "id_02n937l"
   },
   "outputs": [],
   "source": [
    "//platform-lock\n",
    "\n",
    "}"
   ]
  },
  {
   "cell_type": "markdown",
   "metadata": {
    "bxyCellId": "id_9v9tjac"
   },
   "source": []
  },
  {
   "cell_type": "markdown",
   "metadata": {
    "bxyCellId": "id_duexdit"
   },
   "source": [
    "### 空输出无判错"
   ]
  },
  {
   "cell_type": "code",
   "execution_count": null,
   "metadata": {
    "bxyCellId": "id_86ffmjn"
   },
   "outputs": [],
   "source": [
    "#platform-desc\n",
    "# from ipyaliplayer import Player\n",
    "# Player(vid='替换视频ID', aspect_ratio=4/3)"
   ]
  },
  {
   "cell_type": "markdown",
   "metadata": {
    "bxyCellId": "id_d2qldws"
   },
   "source": [
    "<!--步骤描述 -->\n",
    "\n",
    "- 点调试 -> 运行通过\n",
    "- 点提交 -> 触发步骤通过\n",
    "- 检查“查看答案”按钮应该出现"
   ]
  },
  {
   "cell_type": "code",
   "execution_count": null,
   "metadata": {
    "bxyCellId": "id_ddrd2tz"
   },
   "outputs": [],
   "source": [
    "//platform-edit\n",
    "#include <iostream>\n",
    "\n",
    "int main() {\n",
    "    int x;\n",
    "    return 0;\n",
    "}"
   ]
  },
  {
   "cell_type": "markdown",
   "metadata": {
    "bxyCellId": "id_9ano89y"
   },
   "source": []
  },
  {
   "cell_type": "markdown",
   "metadata": {
    "bxyCellId": "id_mddpy7e"
   },
   "source": [
    "### 字符串比对默认报错"
   ]
  },
  {
   "cell_type": "code",
   "execution_count": null,
   "metadata": {
    "bxyCellId": "id_lhq1rg1"
   },
   "outputs": [],
   "source": [
    "#platform-desc\n",
    "# from ipyaliplayer import Player\n",
    "# Player(vid='替换视频ID', aspect_ratio=4/3)"
   ]
  },
  {
   "cell_type": "markdown",
   "metadata": {
    "bxyCellId": "id_72awib5"
   },
   "source": [
    "<!--步骤描述 -->\n",
    "\n",
    "- 刷新页面，应该停留在此步骤\n",
    "- 点调试 -> 触发报错（lock报错行定位）\n",
    "- 点提交 -> 触发报错（lock报错行定位）\n",
    "- 查看答案、填入答案\n",
    "- 点调试 -> 运行通过\n",
    "- 点重置代码（测试重置功能）\n",
    "- 填入正确答案（good改成goodboy）\n",
    "- 点提交 -> 触发步骤通过\n",
    "- 检查“查看答案”按钮应该出现"
   ]
  },
  {
   "cell_type": "code",
   "execution_count": null,
   "metadata": {
    "bxyCellId": "id_w2bejz0"
   },
   "outputs": [],
   "source": [
    "//platform-lock-hidden\n",
    "#include <iostream>\n",
    "\n",
    "int main() {"
   ]
  },
  {
   "cell_type": "code",
   "execution_count": null,
   "metadata": {
    "bxyCellId": "id_tboh4es"
   },
   "outputs": [],
   "source": [
    "//platform-edit\n",
    "\n",
    "int good = 1;"
   ]
  },
  {
   "cell_type": "code",
   "execution_count": null,
   "metadata": {
    "bxyCellId": "id_gd1vont"
   },
   "outputs": [],
   "source": [
    "//platform-edit-answer\n",
    "\n",
    "int goodboy = 1;"
   ]
  },
  {
   "cell_type": "code",
   "execution_count": null,
   "metadata": {
    "bxyCellId": "id_0490xw9"
   },
   "outputs": [],
   "source": [
    "//platform-lock\n",
    "std::cout << goodboy;"
   ]
  },
  {
   "cell_type": "code",
   "execution_count": null,
   "metadata": {
    "bxyCellId": "id_irsa050"
   },
   "outputs": [],
   "source": [
    "//platform-lock-hidden\n",
    "}"
   ]
  },
  {
   "cell_type": "markdown",
   "metadata": {
    "bxyCellId": "id_gr557xw"
   },
   "source": [
    "1"
   ]
  },
  {
   "cell_type": "markdown",
   "metadata": {
    "bxyCellId": "id_pt0077u"
   },
   "source": [
    "### 字符串比对默认答案错误"
   ]
  },
  {
   "cell_type": "code",
   "execution_count": null,
   "metadata": {
    "bxyCellId": "id_2i9eqm2"
   },
   "outputs": [],
   "source": [
    "#platform-desc\n",
    "# from ipyaliplayer import Player\n",
    "# Player(vid='替换视频ID', aspect_ratio=4/3)"
   ]
  },
  {
   "cell_type": "markdown",
   "metadata": {
    "bxyCellId": "id_fqhgl13"
   },
   "source": [
    "<!--步骤描述 -->\n",
    "\n",
    "- 点调试 -> 运行通过\n",
    "- 点提交 -> 触发 Diff 比对、结果错误\n",
    "- 去掉注释 -> 点提交 -> 触发 Diff 比对、结果错误（左侧应该显示三行，第一行正确）\n",
    "- 查看答案、填入答案\n",
    "- 点提交 -> 触发步骤通过"
   ]
  },
  {
   "cell_type": "code",
   "execution_count": null,
   "metadata": {
    "bxyCellId": "id_2qqjhia"
   },
   "outputs": [],
   "source": [
    "//platform-edit\n",
    "\n",
    "#include <iostream>\n",
    "\n",
    "int main() {\n",
    "    //std::cout << \"1 2 3  \\n  \\n2 3 4   \\n   \\n\\n   \\n\\n\";\n",
    "}"
   ]
  },
  {
   "cell_type": "code",
   "execution_count": null,
   "metadata": {
    "bxyCellId": "id_28mvcuw"
   },
   "outputs": [],
   "source": [
    "//platform-edit-answer\n",
    "\n",
    "#include <iostream>\n",
    "\n",
    "int main() {\n",
    "    std::cout << \"1 2 3  \\n1 2 3   \\n   \\n\\n   \\n\\n\";\n",
    "}"
   ]
  },
  {
   "cell_type": "markdown",
   "metadata": {
    "bxyCellId": "id_uwqvw0w"
   },
   "source": [
    "1 2 3   \n",
    "1 2 3\n",
    "  \n",
    "\n",
    "  "
   ]
  },
  {
   "cell_type": "markdown",
   "metadata": {
    "bxyCellId": "id_m0ikas1"
   },
   "source": [
    "### 死循环测试"
   ]
  },
  {
   "cell_type": "code",
   "execution_count": null,
   "metadata": {
    "bxyCellId": "id_j1zfgyj"
   },
   "outputs": [],
   "source": [
    "#platform-desc\n",
    "# from ipyaliplayer import Player\n",
    "# Player(vid='替换视频ID', aspect_ratio=4/3)"
   ]
  },
  {
   "cell_type": "markdown",
   "metadata": {
    "bxyCellId": "id_e5dfska"
   },
   "source": [
    "<!--步骤描述 -->\n",
    "\n",
    "- 点提交 -> 不断输出 -> 点停止\n",
    "- 点提交 -> 不断输出 -> 触发超时 -> 触发Diff比对、答案错误\n",
    "- 查看答案、填入答案\n",
    "- 点提交 -> 触发步骤通过"
   ]
  },
  {
   "cell_type": "code",
   "execution_count": null,
   "metadata": {
    "bxyCellId": "id_r51pg2j"
   },
   "outputs": [],
   "source": [
    "//platform-edit\n",
    "\n",
    "#include <iostream>\n",
    "\n",
    "using namespace std;\n",
    "\n",
    "int main() {\n",
    "    int i = 0;\n",
    "    while (i >= 0) {\n",
    "        cout << i++ << \"\\n\";\n",
    "    }\n",
    "}"
   ]
  },
  {
   "cell_type": "code",
   "execution_count": null,
   "metadata": {
    "bxyCellId": "id_ifq0ip5"
   },
   "outputs": [],
   "source": [
    "//platform-edit-answer\n",
    "\n",
    "#include <iostream>\n",
    "\n",
    "using namespace std;\n",
    "\n",
    "int main() {\n",
    "    int i = 0;\n",
    "    while (i <= 0) {\n",
    "        cout << i++ << \"\\n\";\n",
    "    }\n",
    "}"
   ]
  },
  {
   "cell_type": "markdown",
   "metadata": {
    "bxyCellId": "id_h88hgle"
   },
   "source": [
    "0"
   ]
  },
  {
   "cell_type": "markdown",
   "metadata": {
    "bxyCellId": "id_e7keako"
   },
   "source": [
    "### Quiz"
   ]
  },
  {
   "cell_type": "code",
   "execution_count": null,
   "metadata": {
    "bxyCellId": "id_k7cxom2"
   },
   "outputs": [],
   "source": [
    "#platform-desc\n",
    "# from ipyaliplayer import Player\n",
    "# Player(vid='替换视频ID', aspect_ratio=4/3)"
   ]
  },
  {
   "cell_type": "markdown",
   "metadata": {
    "bxyCellId": "id_btbwkrr"
   },
   "source": [
    "#### 作答右边的选择题吧\n",
    "第一题标题中的【】应该显示出来，因为本单元并不属于测验单元。"
   ]
  },
  {
   "cell_type": "code",
   "execution_count": null,
   "metadata": {
    "bxyCellId": "id_fo9pol7",
    "bxyQuizStep": {
     "json": {
      "quizId": "__ipyquiz_quiz_id",
      "value": [
       {
        "answer": "2",
        "comment": "",
        "createdAt": "2021-03-17T07:28:34.300Z",
        "description": "",
        "difficulty": 2,
        "hint": "",
        "id": "uuid-Zzkab82a9a5RiEqK7srLf8",
        "jupyterCells": null,
        "option1": "watermelon",
        "option2": "westmelon2",
        "option3": "xigua",
        "option4": "southmelon",
        "option5": null,
        "option6": null,
        "options": [
         {
          "text": "watermelon",
          "value": "1"
         },
         {
          "text": "westmelon2",
          "value": "2"
         },
         {
          "text": "xigua",
          "value": "3"
         },
         {
          "text": "southmelon",
          "value": "4"
         }
        ],
        "score": 0,
        "title": "西瓜的英文名是什么?",
        "type": "SELECT",
        "updatedAt": "2021-03-24T07:57:47.000Z",
        "uuid": "Zzkab82a9a5RiEqK7srLf8"
       },
       {
        "answer": "123",
        "comment": "",
        "createdAt": "2021-03-23T09:15:24.996Z",
        "description": "",
        "difficulty": 2,
        "hint": "",
        "id": "uuid-8iW7Sxo74MyQQa4aziLU6Q",
        "jupyterCells": null,
        "option1": null,
        "option2": null,
        "option3": null,
        "option4": null,
        "option5": null,
        "option6": null,
        "options": [],
        "score": 0,
        "title": "123",
        "type": "FILL",
        "updatedAt": "2021-03-23T13:40:33.000Z",
        "uuid": "8iW7Sxo74MyQQa4aziLU6Q"
       },
       {
        "answer": "经验",
        "id": "fill-1",
        "title": "学习是系统通过____提升性能的过程。",
        "type": "FILL"
       },
       {
        "answer": "",
        "id": "fill-2",
        "title": "\n试试**markdown**吧  \n$x+1$\n",
        "type": "FILL"
       },
       {
        "answer": "",
        "id": "fill-3",
        "title": "填啥都行",
        "type": "FILL"
       },
       {
        "answer": "1",
        "id": "choice-1",
        "options": [
         {
          "text": "图形标题、图例是基本组成中的文字部分。",
          "value": "0"
         },
         {
          "text": "x、y 坐标轴、刻度标签是基本组成中的文字部分。",
          "value": "1"
         },
         {
          "text": "边框、网格是基本组成中的图形部分。",
          "value": "2"
         },
         {
          "text": "数据图形（折线图及散点图）是基本组成中的图形部分。",
          "value": "3"
         }
        ],
        "title": "【入门】matplotlib 绘制图形的基本组成包含文字部分和图形部分，以下说法错误的是：",
        "type": "SELECT"
       },
       {
        "answer": "3",
        "id": "choice-2",
        "options": [
         {
          "text": "画架层（canvas）类似于在绘画时需要一个画架放置画板。",
          "value": "0"
         },
         {
          "text": "画板层（figure）是指在画板上可以铺上画纸，是允许绘图的最大空间",
          "value": "1"
         },
         {
          "text": "画纸层（axes）上可以进行各种图形的绘制，图形的组成元素在画纸上体现",
          "value": "2"
         },
         {
          "text": "画板层（figure）可以包含一张画纸绘制单个图，但是无法包含多张画纸绘制多个子图或者图中图。",
          "value": "3"
         }
        ],
        "title": "以下关于 matplotlib 绘制图形的层次的说法，错误的是：",
        "type": "SELECT"
       }
      ]
     }
    }
   },
   "outputs": [],
   "source": [
    "#platform-quiz\n",
    "import ipyquiz\n",
    "quizzes = []\n",
    "\n",
    "quizzes.append({\n",
    "    \"id\": \"uuid-Zzkab82a9a5RiEqK7srLf8\",\n",
    "})\n",
    "\n",
    "quizzes.append({\n",
    "    \"id\": \"uuid-8iW7Sxo74MyQQa4aziLU6Q\",\n",
    "})\n",
    "\n",
    "quizzes.append({\n",
    "    \"id\": \"fill-1\",\n",
    "    \"type\": \"FILL\",\n",
    "    \"title\": \"学习是系统通过____提升性能的过程。\",\n",
    "    \"answer\": \"经验\"\n",
    "})\n",
    "\n",
    "quizzes.append({\n",
    "    \"id\": \"fill-2\",\n",
    "    \"type\": \"FILL\",\n",
    "    \"title\": \"\"\"\n",
    "试试**markdown**吧  \n",
    "$x+1$\n",
    "\"\"\",\n",
    "    \"answer\": \"\"\n",
    "})\n",
    "\n",
    "quizzes.append({\n",
    "    \"id\": \"fill-3\",\n",
    "    \"type\": \"FILL\",\n",
    "    \"title\": \"填啥都行\",\n",
    "    \"answer\": \"\"\n",
    "})\n",
    "\n",
    "quizzes.append({\n",
    "    \"id\": \"choice-1\",\n",
    "    \"type\": \"SELECT\",\n",
    "    \"title\": \"【入门】matplotlib 绘制图形的基本组成包含文字部分和图形部分，以下说法错误的是：\",\n",
    "    \"answer\": \"1\",\n",
    "    \"options\": [\n",
    "        {\n",
    "            \"value\": \"0\",\n",
    "            \"text\": \"图形标题、图例是基本组成中的文字部分。\"\n",
    "        },\n",
    "        {\n",
    "            \"value\": \"1\",\n",
    "            \"text\": \"x、y 坐标轴、刻度标签是基本组成中的文字部分。\"\n",
    "        },\n",
    "        {\n",
    "            \"value\": \"2\",\n",
    "            \"text\": \"边框、网格是基本组成中的图形部分。\"\n",
    "        },\n",
    "        {\n",
    "            \"value\": \"3\",\n",
    "            \"text\": \"数据图形（折线图及散点图）是基本组成中的图形部分。\"\n",
    "        },\n",
    "    ]\n",
    "})\n",
    "\n",
    "quizzes.append({\n",
    "    \"id\": \"choice-2\",\n",
    "    \"type\": \"SELECT\",\n",
    "    \"title\": \"以下关于 matplotlib 绘制图形的层次的说法，错误的是：\",\n",
    "    \"answer\": \"3\",\n",
    "    \"options\": [\n",
    "        {\n",
    "            \"value\": \"0\",\n",
    "            \"text\": \"画架层（canvas）类似于在绘画时需要一个画架放置画板。\"\n",
    "        },\n",
    "        {\n",
    "            \"value\": \"1\",\n",
    "            \"text\": \"画板层（figure）是指在画板上可以铺上画纸，是允许绘图的最大空间\"\n",
    "        },\n",
    "        {\n",
    "            \"value\": \"2\",\n",
    "            \"text\": \"画纸层（axes）上可以进行各种图形的绘制，图形的组成元素在画纸上体现\"\n",
    "        },\n",
    "        {\n",
    "            \"value\": \"3\",\n",
    "            \"text\": \"画板层（figure）可以包含一张画纸绘制单个图，但是无法包含多张画纸绘制多个子图或者图中图。\"\n",
    "        },\n",
    "    ]\n",
    "})\n",
    "\n",
    "\n",
    "\n",
    "ipyquiz.QuizWidget(value=quizzes, quiz_id=\"__ipyquiz_quiz_id\")\n"
   ]
  },
  {
   "cell_type": "markdown",
   "metadata": {
    "bxyCellId": "id_6f8ltr8"
   },
   "source": [
    "### 彩蛋"
   ]
  },
  {
   "cell_type": "markdown",
   "metadata": {
    "bxyCellId": "id_0l3oi1i"
   },
   "source": [
    "<!--步骤描述 -->\n",
    "\n",
    "- 点提交 -> 打开标签页，触发乌鸦"
   ]
  },
  {
   "cell_type": "code",
   "execution_count": null,
   "metadata": {
    "bxyCellId": "id_owytn3v"
   },
   "outputs": [],
   "source": [
    "#platform-edit\n",
    "\n",
    "#include <iostream>\n",
    "using namespace std;\n",
    "\n",
    "int main() {\n",
    "    cout << \"啊\\n啊\\n啊\\n啊\\n啊\\n啊\\n\";\n",
    "    cout << \"system: start www.boxiaoyu.com\";\n",
    "}"
   ]
  },
  {
   "cell_type": "code",
   "execution_count": null,
   "metadata": {
    "bxyCellId": "id_askx712"
   },
   "outputs": [],
   "source": [
    "#platform-edit-answer\n",
    "\n",
    "#include <iostream>\n",
    "using namespace std;\n",
    "\n",
    "int main() {\n",
    "    cout << \"啊\\n啊\\n啊\\n啊\\n啊\\n啊\\n\";\n",
    "    cout << \"system: start www.boxiaoyu.com\";\n",
    "}"
   ]
  },
  {
   "cell_type": "markdown",
   "metadata": {
    "bxyCellId": "id_gkbskpo"
   },
   "source": []
  },
  {
   "cell_type": "markdown",
   "metadata": {
    "bxyCellId": "id_0csj58w"
   },
   "source": [
    "### Input测试 + 自定义超时"
   ]
  },
  {
   "cell_type": "raw",
   "metadata": {
    "bxyCellId": "id_xjte0pi"
   },
   "source": [
    "kind: CodeStep\n",
    "version: v1\n",
    "spec:\n",
    "    timeout: 5"
   ]
  },
  {
   "cell_type": "markdown",
   "metadata": {
    "bxyCellId": "id_pvxupja"
   },
   "source": [
    "<!--步骤描述 -->\n",
    "\n",
    "- 点调试 -> 点停止 -> 停止运行\n",
    "- 点提交 -> 点停止 -> 停止运行 -> 触发diff\n",
    "- 点提交 -> 等待5秒 -> 超时报错 -> 触发diff\n",
    "- 点提交 -> 发送1 -> 持续修改输入框5秒(不触发超时报错) -> 等待5秒 -> 超时报错 -> 触发diff\n",
    "- 点提交 -> 发送\"1 2\" -> 触发步骤通过\n",
    "- 刷新页面，应当停留在此页"
   ]
  },
  {
   "cell_type": "code",
   "execution_count": null,
   "metadata": {
    "bxyCellId": "id_x19wqt1"
   },
   "outputs": [],
   "source": [
    "//platform-edit\n",
    "\n",
    "#include <iostream>\n",
    "using namespace std;\n",
    "\n",
    "int main() {\n",
    "    int x, y;\n",
    "    cin >> x >> y;\n",
    "    cout << x << \" \" << y;\n",
    "}"
   ]
  },
  {
   "cell_type": "code",
   "execution_count": null,
   "metadata": {
    "bxyCellId": "id_vapjgaz"
   },
   "outputs": [],
   "source": [
    "//platform-edit-answer\n",
    "\n",
    "#include <iostream>\n",
    "using namespace std;\n",
    "\n",
    "int main() {\n",
    "    int x, y;\n",
    "    cin >> x >> y;\n",
    "    cout << x << \" \" << y;\n",
    "}"
   ]
  },
  {
   "cell_type": "markdown",
   "metadata": {
    "bxyCellId": "id_vy3zpug"
   },
   "source": [
    "1 2"
   ]
  },
  {
   "cell_type": "markdown",
   "metadata": {
    "bxyCellId": "id_vx73l67"
   },
   "source": [
    "### OJ测试 (display ID)"
   ]
  },
  {
   "cell_type": "markdown",
   "metadata": {
    "bxyCellId": "id_dh0a0vq"
   },
   "source": [
    "<!--步骤描述 -->\n",
    "\n",
    "- 点调试 -> 提示输入\n",
    "- 将以下复制到输入\n",
    "\n",
    "```\n",
    "5\n",
    "1 1\n",
    "2 2\n",
    "3 3\n",
    "```\n",
    "\n",
    "- 点调试 -> 触发报错（报错行定位）\n",
    "- 将以下复制到输出（包括空白字符）\n",
    "\n",
    "```\n",
    "0  \n",
    "1  \n",
    "2\n",
    "   \n",
    "\n",
    "  \n",
    "```\n",
    "\n",
    "- 点调试 -> 触发报错（报错行定位）\n",
    "- 将 `cout <<< a-b << endl;` 的 `<<<` 改成 `<<`\n",
    "- 点调试 -> 等待10秒 -> 触发超时 -> 触发diff\n",
    "- 将输入的`5`改为`3`\n",
    "- 点调试 -> 触发diff\n",
    "- 点提交 -> 触发答案错误（点查看详情进入OJ）\n",
    "- 查看答案、填入答案\n",
    "- 点提交 -> 触发步骤通过（点查看详情进入OJ）"
   ]
  },
  {
   "cell_type": "code",
   "execution_count": null,
   "metadata": {
    "bxyCellId": "id_xo5pb83"
   },
   "outputs": [],
   "source": [
    "//platform-edit\n",
    "\n",
    "#include<iostream>\n",
    "using namespace std;\n",
    "\n",
    "int main() {\n",
    "  int a, b, n;\n",
    "  cin >> n;\n",
    "  while (n--) {\n",
    "    cin >> a >> b;\n",
    "    cout <<< a-b << endl;\n",
    "  }\n",
    "  return 0;\n",
    "}"
   ]
  },
  {
   "cell_type": "code",
   "execution_count": null,
   "metadata": {
    "bxyCellId": "id_hyvx4ul"
   },
   "outputs": [],
   "source": [
    "//platform-edit-answer\n",
    "\n",
    "#include<iostream>\n",
    "using namespace std;\n",
    "\n",
    "int main() {\n",
    "  int a, b, n;\n",
    "  cin >> n;\n",
    "  while (n--) {\n",
    "    cin >> a >> b;\n",
    "    cout << a+b << endl;\n",
    "  }\n",
    "  return 0;\n",
    "}"
   ]
  },
  {
   "cell_type": "markdown",
   "metadata": {
    "bxyCellId": "id_pzosydc"
   },
   "source": [
    "ONLINE_JUDGE_PROBLEM_ID=P1001"
   ]
  },
  {
   "cell_type": "markdown",
   "metadata": {
    "bxyCellId": "id_kflkba6"
   },
   "source": [
    "### OJ测试 (real ID) + copy (直接提交即可通过)"
   ]
  },
  {
   "cell_type": "markdown",
   "metadata": {
    "bxyCellId": "id_4d7yggd"
   },
   "source": [
    "#copy#"
   ]
  },
  {
   "cell_type": "code",
   "execution_count": null,
   "metadata": {
    "bxyCellId": "id_phiv0md"
   },
   "outputs": [],
   "source": [
    "//platform-edit\n",
    "\n",
    "#include<iostream>\n",
    "using namespace std;\n",
    "\n",
    "int main() {\n",
    "  int a, b, n;\n",
    "  cin >> n;\n",
    "  while (n--) {\n",
    "    cin >> a >> b;\n",
    "    cout << a+b << endl;\n",
    "  }\n",
    "  return 0;\n",
    "}"
   ]
  },
  {
   "cell_type": "code",
   "execution_count": null,
   "metadata": {
    "bxyCellId": "id_1aem5ru"
   },
   "outputs": [],
   "source": [
    "//platform-edit-answer\n",
    "\n",
    "#include<iostream>\n",
    "using namespace std;\n",
    "\n",
    "int main() {\n",
    "  int a, b, n;\n",
    "  cin >> n;\n",
    "  while (n--) {\n",
    "    cin >> a >> b;\n",
    "    cout << a+b << endl;\n",
    "  }\n",
    "  return 0;\n",
    "}"
   ]
  },
  {
   "cell_type": "markdown",
   "metadata": {
    "bxyCellId": "id_ij0sgdf"
   },
   "source": [
    "ONLINE_JUDGE_PROBLEM_REAL_ID=391"
   ]
  },
  {
   "cell_type": "markdown",
   "metadata": {
    "bxyCellId": "id_tf7scwd"
   },
   "source": [
    "### OJ测试 (trimOutputs)"
   ]
  },
  {
   "cell_type": "markdown",
   "metadata": {
    "bxyCellId": "id_wh70saz"
   },
   "source": [
    "<!--步骤描述 -->\n",
    "\n",
    "- 点调试 -> 提示输入\n",
    "- 选择第一个测试样例\n",
    "- 点调试 -> 运行成功\n",
    "- 点提交 -> 答案正确\n",
    "\n",
    "博小鱼 OJ 在比较「用户输出」与「标准输出」时应该与 `jupyter-helper` 维持一样的逻辑。\n",
    "\n",
    "参考：https://www.teambition.com/task/602238f8d27e93004ac4f128\n"
   ]
  },
  {
   "cell_type": "code",
   "execution_count": null,
   "metadata": {
    "bxyCellId": "id_njuygcc"
   },
   "outputs": [],
   "source": [
    "//platform-edit\n",
    "#include <cstdio>\n",
    "#include <cstring>\n",
    "#include <iostream>\n",
    "#include <algorithm>\n",
    "using namespace std;\n",
    "int main() {\n",
    "    int singer1[6] = {8, 4, 6, 7, 5, 6};\n",
    "    int singer2[6] = {5, 6, 3, 6, 4, 2};\n",
    "    int singer3[6] = {3, 2, 4, 2, 3, 5};\n",
    "    int num;\n",
    "    scanf(\"%d\", &num);\n",
    "    printf(\n",
    "        \"%d %d %d \\n%d\",\n",
    "        singer1[num - 1], singer2[num - 1], singer3[num - 1],\n",
    "        singer1[num - 1] + singer2[num - 1] + singer3[num -1]\n",
    "    );\n",
    "    return 0;\n",
    "}"
   ]
  },
  {
   "cell_type": "code",
   "execution_count": null,
   "metadata": {
    "bxyCellId": "id_k7825xp"
   },
   "outputs": [],
   "source": [
    "//platform-edit-answer\n",
    "#include <cstdio>\n",
    "#include <cstring>\n",
    "#include <iostream>\n",
    "#include <algorithm>\n",
    "using namespace std;\n",
    "int main() {\n",
    "    int singer1[6] = {8, 4, 6, 7, 5, 6};\n",
    "    int singer2[6] = {5, 6, 3, 6, 4, 2};\n",
    "    int singer3[6] = {3, 2, 4, 2, 3, 5};\n",
    "    int num;\n",
    "    scanf(\"%d\", &num);\n",
    "    printf(\n",
    "        \"%d %d %d \\n%d\",\n",
    "        singer1[num - 1], singer2[num - 1], singer3[num - 1],\n",
    "        singer1[num - 1] + singer2[num - 1] + singer3[num -1]\n",
    "    );\n",
    "    return 0;\n",
    "}"
   ]
  },
  {
   "cell_type": "markdown",
   "metadata": {
    "bxyCellId": "id_q9jf1ai"
   },
   "source": [
    "ONLINE_JUDGE_PROBLEM_REAL_ID=1425"
   ]
  },
  {
   "cell_type": "markdown",
   "metadata": {
    "bxyCellId": "id_n88x2vf"
   },
   "source": [
    "### 代码填空题"
   ]
  },
  {
   "cell_type": "markdown",
   "metadata": {
    "bxyCellId": "id_8wxcbyp"
   },
   "source": [
    "<!--步骤描述 -->\n",
    "\n",
    "- 点提交 -> 触发报错（报错行）\n",
    "- 查看答案、填入答案\n",
    "- 点提交 -> 触发步骤通过"
   ]
  },
  {
   "cell_type": "code",
   "execution_count": null,
   "metadata": {
    "bxyCellId": "id_iwtl75k"
   },
   "outputs": [],
   "source": [
    "//platform-lock\n",
    "\n",
    "#include <iostream>\n",
    "using namespace std;"
   ]
  },
  {
   "cell_type": "code",
   "execution_count": null,
   "metadata": {
    "bxyCellId": "id_25ic8na"
   },
   "outputs": [],
   "source": [
    "//platform-blank\n",
    "\n",
    "int add(int x) {\n",
    "    return $$$$$$;\n",
    "}"
   ]
  },
  {
   "cell_type": "code",
   "execution_count": null,
   "metadata": {
    "bxyCellId": "id_ysxmjq5"
   },
   "outputs": [],
   "source": [
    "//platform-blank-answer\n",
    "\n",
    "int add(int x) {\n",
    "    return x + 1;\n",
    "}\n",
    "\n",
    "//!blank-answer:x + 1"
   ]
  },
  {
   "cell_type": "code",
   "execution_count": null,
   "metadata": {
    "bxyCellId": "id_5hbxmad"
   },
   "outputs": [],
   "source": [
    "//platform-blank\n",
    "\n",
    "int main() {\n",
    "    int x = $$$$$;\n",
    "    cout << $$$$$$$;\n",
    "}"
   ]
  },
  {
   "cell_type": "code",
   "execution_count": null,
   "metadata": {
    "bxyCellId": "id_x3s4wng"
   },
   "outputs": [],
   "source": [
    "//platform-blank-answer\n",
    "\n",
    "int main() {\n",
    "    int x = 1;\n",
    "    cout << add(x);\n",
    "}\n",
    "\n",
    "//!blank-answer:1\n",
    "//!blank-answer:add(x) "
   ]
  },
  {
   "cell_type": "markdown",
   "metadata": {
    "bxyCellId": "id_jqa9ami"
   },
   "source": [
    "2"
   ]
  },
  {
   "cell_type": "markdown",
   "metadata": {
    "bxyCellId": "id_w9oc5n2"
   },
   "source": [
    "### 多Edit Cell测试"
   ]
  },
  {
   "cell_type": "markdown",
   "metadata": {
    "bxyCellId": "id_8x2qld4"
   },
   "source": [
    "<!--步骤描述 -->\n",
    "\n",
    "- 将两个cell的`$`都改成`0`\n",
    "- 点调试 -> 运行成功\n",
    "- 点提交 -> 触发 Diff 比对，结果错误\n",
    "- 查看答案、填入答案\n",
    "- 点提交 -> 触发步骤通过"
   ]
  },
  {
   "cell_type": "code",
   "execution_count": null,
   "metadata": {
    "bxyCellId": "id_e7qu6k5"
   },
   "outputs": [],
   "source": [
    "//platform-lock\n",
    "\n",
    "#include <iostream>\n",
    "using namespace std;\n",
    "\n",
    "int main() {"
   ]
  },
  {
   "cell_type": "code",
   "execution_count": null,
   "metadata": {
    "bxyCellId": "id_qdqlu4t"
   },
   "outputs": [],
   "source": [
    "//platform-edit\n",
    "\n",
    "cout << $;"
   ]
  },
  {
   "cell_type": "code",
   "execution_count": null,
   "metadata": {
    "bxyCellId": "id_4yl9g68"
   },
   "outputs": [],
   "source": [
    "//platform-edit-answer\n",
    "\n",
    "cout << 1;"
   ]
  },
  {
   "cell_type": "code",
   "execution_count": null,
   "metadata": {
    "bxyCellId": "id_up1vqkt"
   },
   "outputs": [],
   "source": [
    "//platform-edit\n",
    "\n",
    "cout << $;"
   ]
  },
  {
   "cell_type": "code",
   "execution_count": null,
   "metadata": {
    "bxyCellId": "id_9iknw95"
   },
   "outputs": [],
   "source": [
    "//platform-edit-answer\n",
    "\n",
    "cout << 1;"
   ]
  },
  {
   "cell_type": "code",
   "execution_count": null,
   "metadata": {
    "bxyCellId": "id_y22nvda"
   },
   "outputs": [],
   "source": [
    "//platform-lock\n",
    "\n",
    "}"
   ]
  },
  {
   "cell_type": "markdown",
   "metadata": {
    "bxyCellId": "id_xhwjz97"
   },
   "source": [
    "11"
   ]
  }
 ],
 "metadata": {
  "bxyId": "id_a5al6u7",
  "bxyPosterId": "experience-1-202108",
  "celltoolbar": "编辑元数据",
  "kernelspec": {
   "display_name": "Python 3",
   "language": "python",
   "name": "python3"
  },
  "language_info": {
   "codemirror_mode": {
    "name": "ipython",
    "version": 3
   },
   "file_extension": ".py",
   "mimetype": "text/x-python",
   "name": "python",
   "nbconvert_exporter": "python",
   "pygments_lexer": "ipython3",
   "version": "3.8.3"
  },
  "toc": {
   "base_numbering": 1,
   "nav_menu": {},
   "number_sections": true,
   "sideBar": true,
   "skip_h1_title": false,
   "title_cell": "Table of Contents",
   "title_sidebar": "Contents",
   "toc_cell": false,
   "toc_position": {},
   "toc_section_display": true,
   "toc_window_display": true
  }
 },
 "nbformat": 4,
 "nbformat_minor": 4
}
