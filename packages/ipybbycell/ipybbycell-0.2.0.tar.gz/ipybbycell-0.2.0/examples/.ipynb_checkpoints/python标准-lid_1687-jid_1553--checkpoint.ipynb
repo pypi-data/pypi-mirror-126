{
 "cells": [
  {
   "cell_type": "markdown",
   "metadata": {},
   "source": [
    "## Jupyter Python 究极测试\n",
    "\n",
    "单元简介（目前不展示这部分，所以可以写的简单一点）"
   ]
  },
  {
   "cell_type": "markdown",
   "metadata": {},
   "source": [
    "### 无判错"
   ]
  },
  {
   "cell_type": "code",
   "execution_count": null,
   "metadata": {},
   "outputs": [],
   "source": [
    "#platform-desc\n",
    "from ipyaliplayer import Player\n",
    "Player(vid='0e2bb0014a4f40649fa2999344a14368')\n"
   ]
  },
  {
   "cell_type": "markdown",
   "metadata": {},
   "source": [
    "<!--步骤描述 -->\n",
    "\n",
    "- 点调试 -> 触发报错\n",
    "- 点提交 -> 触发报错\n",
    "- 查看答案、填入答案\n",
    "- 点调试 -> 触发步骤通过\n",
    "- 点提交 -> 触发步骤通过"
   ]
  },
  {
   "cell_type": "code",
   "execution_count": null,
   "metadata": {},
   "outputs": [],
   "source": [
    "#platform-edit\n",
    "\n",
    "print($$$)"
   ]
  },
  {
   "cell_type": "code",
   "execution_count": null,
   "metadata": {},
   "outputs": [],
   "source": [
    "#platform-edit-answer\n",
    "\n",
    "# 练习答案代码\n",
    "# 我们提供“一键填入”功能将答案复制到对应的代码块中\n",
    "# 建议 platform-edit-answer 块是直接在 platform-edit 块的基础上修改，并添加额外的解释说明\n",
    "\n",
    "print(1)"
   ]
  },
  {
   "cell_type": "markdown",
   "metadata": {},
   "source": []
  },
  {
   "cell_type": "markdown",
   "metadata": {},
   "source": [
    "### 字符串比对默认报错"
   ]
  },
  {
   "cell_type": "markdown",
   "metadata": {},
   "source": [
    "<!--步骤描述 -->\n",
    "\n",
    "- 点调试 -> 触发报错\n",
    "- 点提交 -> 触发报错\n",
    "- 查看答案、填入答案\n",
    "- 点调试 -> 运行通过\n",
    "- 点提交 -> 触发步骤通过"
   ]
  },
  {
   "cell_type": "code",
   "execution_count": null,
   "metadata": {},
   "outputs": [],
   "source": [
    "#platform-edit\n",
    "\n",
    "# platform-edit 可被学员编辑\n",
    "\n",
    "print($$$)"
   ]
  },
  {
   "cell_type": "code",
   "execution_count": null,
   "metadata": {},
   "outputs": [],
   "source": [
    "#platform-edit-answer\n",
    "\n",
    "# 练习答案代码\n",
    "# 我们提供“一键填入”功能将答案复制到对应的代码块中\n",
    "# 建议 platform-edit-answer 块是直接在 platform-edit 块的基础上修改，并添加额外的解释说明\n",
    "\n",
    "print(1)"
   ]
  },
  {
   "cell_type": "markdown",
   "metadata": {},
   "source": [
    "1"
   ]
  },
  {
   "cell_type": "markdown",
   "metadata": {},
   "source": [
    "### 字符串比对默认答案错误"
   ]
  },
  {
   "cell_type": "markdown",
   "metadata": {},
   "source": [
    "<!--步骤描述 -->\n",
    "\n",
    "- 点调试 -> 运行通过\n",
    "- 点提交 -> 触发 Diff 比对、结果错误\n",
    "- 查看答案、填入答案\n",
    "- 点提交 -> 触发步骤通过"
   ]
  },
  {
   "cell_type": "code",
   "execution_count": null,
   "metadata": {},
   "outputs": [],
   "source": [
    "#platform-edit\n",
    "\n",
    "# platform-edit 可被学员编辑\n",
    "\n",
    "print(1, 2, 3)\n",
    "print(2, 3, 4)"
   ]
  },
  {
   "cell_type": "code",
   "execution_count": null,
   "metadata": {},
   "outputs": [],
   "source": [
    "#platform-edit-answer\n",
    "\n",
    "# 练习答案代码\n",
    "# 我们提供“一键填入”功能将答案复制到对应的代码块中\n",
    "# 建议 platform-edit-answer 块是直接在 platform-edit 块的基础上修改，并添加额外的解释说明\n",
    "\n",
    "print(1, 2, 3)\n",
    "print(1, 2, 3)"
   ]
  },
  {
   "cell_type": "markdown",
   "metadata": {},
   "source": [
    "1 2 3\n",
    "1 2 3"
   ]
  },
  {
   "cell_type": "markdown",
   "metadata": {},
   "source": [
    "### Verify默认报错"
   ]
  },
  {
   "cell_type": "markdown",
   "metadata": {},
   "source": [
    "<!--步骤描述 -->\n",
    "\n",
    "- 点调试 -> 运行通过\n",
    "- 点提交 -> 代码验证时出错报错\n",
    "- 查看答案、填入答案\n",
    "- 点提交 -> 触发步骤通过"
   ]
  },
  {
   "cell_type": "code",
   "execution_count": null,
   "metadata": {},
   "outputs": [],
   "source": [
    "#platform-edit\n",
    "\n",
    "print(1)"
   ]
  },
  {
   "cell_type": "code",
   "execution_count": null,
   "metadata": {},
   "outputs": [],
   "source": [
    "#platform-edit-answer\n",
    "\n",
    "x = 1"
   ]
  },
  {
   "cell_type": "code",
   "execution_count": null,
   "metadata": {},
   "outputs": [],
   "source": [
    "#platform-verify\n",
    "import json\n",
    "if x == 1: \n",
    "    print(json.dumps({\"result\": True, \"displayResult\": \"good\"}))\n",
    "else:\n",
    "    print(json.dumps({\"result\": False, \"displayResult\": \"bad\"}))"
   ]
  },
  {
   "cell_type": "markdown",
   "metadata": {},
   "source": [
    "### Verify默认不通过"
   ]
  },
  {
   "cell_type": "markdown",
   "metadata": {},
   "source": [
    "<!--步骤描述 -->\n",
    "\n",
    "- 点调试 -> 运行通过\n",
    "- 点提交 -> 运行结果不正确\n",
    "- 查看答案、填入答案\n",
    "- 点提交 -> 触发步骤通过"
   ]
  },
  {
   "cell_type": "code",
   "execution_count": null,
   "metadata": {},
   "outputs": [],
   "source": [
    "#platform-edit\n",
    "\n",
    "def add(x):\n",
    "    return x"
   ]
  },
  {
   "cell_type": "code",
   "execution_count": null,
   "metadata": {},
   "outputs": [],
   "source": [
    "#platform-edit-answer\n",
    "\n",
    "def add(x):\n",
    "    return x + 1"
   ]
  },
  {
   "cell_type": "code",
   "execution_count": null,
   "metadata": {},
   "outputs": [],
   "source": [
    "#platform-verify\n",
    "import json\n",
    "if add(2) == 3 and add(-1) == 0: \n",
    "    print(json.dumps({\"result\": True, \"displayResult\": \"good\"}))\n",
    "else:\n",
    "    print(json.dumps({\"result\": False, \"displayResult\": \"bad\"}))"
   ]
  },
  {
   "cell_type": "markdown",
   "metadata": {},
   "source": [
    "### Turtle"
   ]
  },
  {
   "cell_type": "markdown",
   "metadata": {},
   "source": [
    "<!--步骤描述 -->\n",
    "\n",
    "- 点提交 -> 出现Turtle，触发步骤通过"
   ]
  },
  {
   "cell_type": "code",
   "execution_count": null,
   "metadata": {},
   "outputs": [],
   "source": [
    "#platform-lock\n",
    "from ipyturtle2 import TurtleWidget\n",
    "\n",
    "t = TurtleWidget()\n",
    "t"
   ]
  },
  {
   "cell_type": "code",
   "execution_count": null,
   "metadata": {},
   "outputs": [],
   "source": [
    "#platform-edit\n",
    "\n",
    "t.forward(100)\n",
    "t.left(90)\n",
    "t.pencolor('red')\n",
    "t.forward(100)\n",
    "t.left(90)\n",
    "t.forward(100)\n",
    "t.left(90)\n",
    "t.forward(100)"
   ]
  },
  {
   "cell_type": "code",
   "execution_count": null,
   "metadata": {},
   "outputs": [],
   "source": [
    "#platform-edit-answer\n",
    "\n",
    "t.forward(100)\n",
    "t.left(90)\n",
    "t.pencolor('blue')\n",
    "t.forward(100)"
   ]
  },
  {
   "cell_type": "code",
   "execution_count": null,
   "metadata": {},
   "outputs": [],
   "source": [
    "#platform-lock-hidden\n",
    "\n",
    "# 不要修改\n",
    "print(\"#turtle#\")"
   ]
  },
  {
   "cell_type": "markdown",
   "metadata": {},
   "source": [
    "#turtle#"
   ]
  },
  {
   "cell_type": "markdown",
   "metadata": {},
   "source": [
    "### Matplotlib"
   ]
  },
  {
   "cell_type": "markdown",
   "metadata": {},
   "source": [
    "<!--步骤描述 -->\n",
    "\n",
    "- 点提交 -> 出现画图，触发步骤通过"
   ]
  },
  {
   "cell_type": "code",
   "execution_count": null,
   "metadata": {},
   "outputs": [],
   "source": [
    "#platform-edit\n",
    "\n",
    "import matplotlib.pyplot as plt\n",
    "plt.plot([1, 2, 3])\n",
    "plt.show()"
   ]
  },
  {
   "cell_type": "code",
   "execution_count": null,
   "metadata": {},
   "outputs": [],
   "source": [
    "#platform-edit-answer\n",
    "\n",
    "import matplotlib.pyplot as plt\n",
    "plt.plot([1, 2, 3, 4])\n",
    "plt.show()"
   ]
  },
  {
   "cell_type": "code",
   "execution_count": null,
   "metadata": {},
   "outputs": [],
   "source": [
    "#platform-lock-hidden\n",
    "\n",
    "# 不要修改\n",
    "print(\"#matplotlib#\")"
   ]
  },
  {
   "cell_type": "markdown",
   "metadata": {},
   "source": [
    "#matplotlib#"
   ]
  },
  {
   "cell_type": "markdown",
   "metadata": {},
   "source": [
    "### Quiz"
   ]
  },
  {
   "cell_type": "markdown",
   "metadata": {},
   "source": []
  },
  {
   "cell_type": "code",
   "execution_count": null,
   "metadata": {},
   "outputs": [],
   "source": [
    "#platform-quiz\n",
    "import ipyquiz\n",
    "quizzes = []\n",
    "\n",
    "quizzes.append({\n",
    "    \"id\": \"fill-1\",\n",
    "    \"type\": \"FILL\",\n",
    "    \"title\": \"学习是系统通过____提升性能的过程。\",\n",
    "    \"answer\": \"经验\"\n",
    "})\n",
    "\n",
    "quizzes.append({\n",
    "    \"id\": \"fill-2\",\n",
    "    \"type\": \"FILL\",\n",
    "    \"title\": \"\"\"\n",
    "试试**markdown**吧  \n",
    "$x+1$\n",
    "\"\"\",\n",
    "    \"answer\": \"1\"\n",
    "})\n",
    "\n",
    "quizzes.append({\n",
    "    \"id\": \"fill-3\",\n",
    "    \"type\": \"FILL\",\n",
    "    \"title\": \"填啥都行\",\n",
    "    \"answer\": \"\"\n",
    "})\n",
    "\n",
    "quizzes.append({\n",
    "    \"id\": \"choice-1\",\n",
    "    \"type\": \"SELECT\",\n",
    "    \"title\": \"matplotlib 绘制图形的基本组成包含文字部分和图形部分，以下说法错误的是：\",\n",
    "    \"answer\": \"1\",\n",
    "    \"options\": [\n",
    "        {\n",
    "            \"value\": \"0\",\n",
    "            \"text\": \"图形标题、图例是基本组成中的文字部分。\"\n",
    "        },\n",
    "        {\n",
    "            \"value\": \"1\",\n",
    "            \"text\": \"x、y 坐标轴、刻度标签是基本组成中的文字部分。\"\n",
    "        },\n",
    "        {\n",
    "            \"value\": \"2\",\n",
    "            \"text\": \"边框、网格是基本组成中的图形部分。\"\n",
    "        },\n",
    "        {\n",
    "            \"value\": \"3\",\n",
    "            \"text\": \"数据图形（折线图及散点图）是基本组成中的图形部分。\"\n",
    "        },\n",
    "    ]\n",
    "})\n",
    "\n",
    "quizzes.append({\n",
    "    \"id\": \"choice-2\",\n",
    "    \"type\": \"SELECT\",\n",
    "    \"title\": \"以下关于 matplotlib 绘制图形的层次的说法，错误的是：\",\n",
    "    \"answer\": \"3\",\n",
    "    \"options\": [\n",
    "        {\n",
    "            \"value\": \"0\",\n",
    "            \"text\": \"画架层（canvas）类似于在绘画时需要一个画架放置画板。\"\n",
    "        },\n",
    "        {\n",
    "            \"value\": \"1\",\n",
    "            \"text\": \"画板层（figure）是指在画板上可以铺上画纸，是允许绘图的最大空间\"\n",
    "        },\n",
    "        {\n",
    "            \"value\": \"2\",\n",
    "            \"text\": \"画纸层（axes）上可以进行各种图形的绘制，图形的组成元素在画纸上体现\"\n",
    "        },\n",
    "        {\n",
    "            \"value\": \"3\",\n",
    "            \"text\": \"画板层（figure）可以包含一张画纸绘制单个图，但是无法包含多张画纸绘制多个子图或者图中图。\"\n",
    "        },\n",
    "    ]\n",
    "})\n",
    "\n",
    "\n",
    "\n",
    "ipyquiz.QuizWidget(value=quizzes, quiz_id=\"__ipyquiz_quiz_id\")\n"
   ]
  },
  {
   "cell_type": "markdown",
   "metadata": {},
   "source": [
    "### Input测试"
   ]
  },
  {
   "cell_type": "markdown",
   "metadata": {},
   "source": [
    "<!--步骤描述 -->\n",
    "\n",
    "- 点提交 -> 填入1，填入2，触发步骤通过"
   ]
  },
  {
   "cell_type": "code",
   "execution_count": null,
   "metadata": {},
   "outputs": [],
   "source": [
    "#platform-edit\n",
    "\n",
    "x = input(\"输入1\")\n",
    "y = input(\"输入2\")"
   ]
  },
  {
   "cell_type": "code",
   "execution_count": null,
   "metadata": {},
   "outputs": [],
   "source": [
    "#platform-edit-answer\n",
    "\n",
    "# 练习答案代码\n",
    "# 我们提供“一键填入”功能将答案复制到对应的代码块中\n",
    "# 建议 platform-edit-answer 块是直接在 platform-edit 块的基础上修改，并添加额外的解释说明\n",
    "\n",
    "x = input(\"输入1\")\n",
    "y = input(\"输入2\")"
   ]
  },
  {
   "cell_type": "code",
   "execution_count": null,
   "metadata": {},
   "outputs": [],
   "source": [
    "#platform-lock\n",
    "print(x, y)"
   ]
  },
  {
   "cell_type": "markdown",
   "metadata": {},
   "source": [
    "1 2"
   ]
  },
  {
   "cell_type": "markdown",
   "metadata": {},
   "source": [
    "### 多Edit Cell测试"
   ]
  },
  {
   "cell_type": "markdown",
   "metadata": {},
   "source": [
    "<!--步骤描述 -->\n",
    "\n",
    "- 点调试 -> 报错\n",
    "- 将两个cell的`$`都改成`1`\n",
    "- 点调试 -> 运行成功\n",
    "- 点提交 -> 触发 Diff 比对，结果错误\n",
    "- 查看答案、填入答案\n",
    "- 点提交 -> 触发步骤通过"
   ]
  },
  {
   "cell_type": "code",
   "execution_count": null,
   "metadata": {},
   "outputs": [],
   "source": [
    "#platform-lock\n",
    "\n",
    "multiple_edit = 0"
   ]
  },
  {
   "cell_type": "code",
   "execution_count": null,
   "metadata": {},
   "outputs": [],
   "source": [
    "#platform-edit\n",
    "\n",
    "multiple_edit += $"
   ]
  },
  {
   "cell_type": "code",
   "execution_count": null,
   "metadata": {},
   "outputs": [],
   "source": [
    "#platform-edit-answer\n",
    "\n",
    "multiple_edit += 2"
   ]
  },
  {
   "cell_type": "code",
   "execution_count": null,
   "metadata": {},
   "outputs": [],
   "source": [
    "#platform-edit\n",
    "\n",
    "multiple_edit = \"$\" * multiple_edit"
   ]
  },
  {
   "cell_type": "code",
   "execution_count": null,
   "metadata": {},
   "outputs": [],
   "source": [
    "#platform-edit-answer\n",
    "\n",
    "multiple_edit = \"2\" * multiple_edit"
   ]
  },
  {
   "cell_type": "code",
   "execution_count": null,
   "metadata": {},
   "outputs": [],
   "source": [
    "#platform-lock\n",
    "\n",
    "print(multiple_edit)"
   ]
  },
  {
   "cell_type": "markdown",
   "metadata": {},
   "source": [
    "22"
   ]
  },
  {
   "cell_type": "markdown",
   "metadata": {},
   "source": [
    "### 代码填空题"
   ]
  },
  {
   "cell_type": "markdown",
   "metadata": {},
   "source": [
    "<!--步骤描述 -->\n",
    "\n",
    "- 点提交 -> 触发 Diff 比对，结果错误\n",
    "- 查看答案、填入答案\n",
    "- 点提交 -> 触发步骤通过"
   ]
  },
  {
   "cell_type": "code",
   "execution_count": null,
   "metadata": {},
   "outputs": [],
   "source": [
    "#platform-edit\n",
    "\n",
    "blank = 1"
   ]
  },
  {
   "cell_type": "code",
   "execution_count": null,
   "metadata": {},
   "outputs": [],
   "source": [
    "#platform-edit-answer\n",
    "\n",
    "blank = 2"
   ]
  },
  {
   "cell_type": "code",
   "execution_count": null,
   "metadata": {},
   "outputs": [],
   "source": [
    "#platform-blank\n",
    "\n",
    "blank += $$$$$"
   ]
  },
  {
   "cell_type": "code",
   "execution_count": null,
   "metadata": {},
   "outputs": [],
   "source": [
    "#platform-blank-answer\n",
    "\n",
    "blank += 2\n",
    "\n",
    "#!blank-answer:2"
   ]
  },
  {
   "cell_type": "code",
   "execution_count": null,
   "metadata": {},
   "outputs": [],
   "source": [
    "#platform-lock\n",
    "\n",
    "print(blank)"
   ]
  },
  {
   "cell_type": "markdown",
   "metadata": {},
   "source": [
    "4"
   ]
  }
 ],
 "metadata": {
  "kernelspec": {
   "display_name": "Python 3",
   "language": "python",
   "name": "python3"
  },
  "language_info": {
   "codemirror_mode": {
    "name": "ipython",
    "version": 3
   },
   "file_extension": ".py",
   "mimetype": "text/x-python",
   "name": "python",
   "nbconvert_exporter": "python",
   "pygments_lexer": "ipython3",
   "version": "3.8.3"
  },
  "toc": {
   "base_numbering": 1,
   "nav_menu": {},
   "number_sections": true,
   "sideBar": true,
   "skip_h1_title": false,
   "title_cell": "Table of Contents",
   "title_sidebar": "Contents",
   "toc_cell": false,
   "toc_position": {},
   "toc_section_display": true,
   "toc_window_display": true
  }
 },
 "nbformat": 4,
 "nbformat_minor": 4
}
