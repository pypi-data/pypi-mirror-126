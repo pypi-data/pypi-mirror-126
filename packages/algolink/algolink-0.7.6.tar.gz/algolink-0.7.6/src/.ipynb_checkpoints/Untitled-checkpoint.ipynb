{
 "cells": [
  {
   "cell_type": "code",
   "execution_count": 1,
   "metadata": {},
   "outputs": [
    {
     "name": "stderr",
     "output_type": "stream",
     "text": [
      "/Users/leepand/miniconda3/lib/python3.7/site-packages/sklearn/utils/validation.py:72: FutureWarning: Pass return_X_y=True as keyword args. From version 1.0 (renaming of 0.25) passing these as positional arguments will result in an error\n",
      "  \"will result in an error\", FutureWarning)\n"
     ]
    },
    {
     "data": {
      "text/plain": [
       "Model(id=None,name=diabetes_model_11)"
      ]
     },
     "execution_count": 1,
     "metadata": {},
     "output_type": "execute_result"
    }
   ],
   "source": [
    "#%%file test.py\n",
    "from sklearn.datasets import load_diabetes\n",
    "from sklearn.linear_model import LinearRegression\n",
    "\n",
    "X, y = load_diabetes(True)\n",
    "\n",
    "lr = LinearRegression()\n",
    "lr.fit(X, y)\n",
    "import algolink\n",
    "model = algolink.create_model(lr, X, model_name='diabetes_model_11')\n",
    "model"
   ]
  },
  {
   "cell_type": "code",
   "execution_count": 2,
   "metadata": {},
   "outputs": [],
   "source": [
    "from algolink.ext.flask.client import HTTPClient\n"
   ]
  },
  {
   "cell_type": "code",
   "execution_count": 4,
   "metadata": {},
   "outputs": [],
   "source": [
    "client = HTTPClient('localhost', 9000)\n"
   ]
  },
  {
   "cell_type": "code",
   "execution_count": 5,
   "metadata": {},
   "outputs": [
    {
     "data": {
      "text/plain": [
       "Method(name='predict', args=[Argument(name='vector', type=<class 'pyjackson.generics.NumpyNdarrayDatasetType[shape=(None, 10),dtype=float64]'>)], out_type=<class 'pyjackson.generics.NumpyNdarrayDatasetType[shape=(None,),dtype=float64]'>)"
      ]
     },
     "execution_count": 5,
     "metadata": {},
     "output_type": "execute_result"
    }
   ],
   "source": [
    "client.methods['predict']\n"
   ]
  },
  {
   "cell_type": "code",
   "execution_count": 6,
   "metadata": {},
   "outputs": [
    {
     "data": {
      "text/plain": [
       "array([2532.25644396])"
      ]
     },
     "execution_count": 6,
     "metadata": {},
     "output_type": "execute_result"
    }
   ],
   "source": [
    "import numpy as np\n",
    "\n",
    "client.predict(np.array([[0., 1., 2., 3., 4., 5., 6., .7, .8, .9]]))"
   ]
  },
  {
   "cell_type": "code",
   "execution_count": 8,
   "metadata": {},
   "outputs": [
    {
     "name": "stdout",
     "output_type": "stream",
     "text": [
      "<function roc_auc_score at 0x7fd75ae49dd0> roc_auc_score\n",
      "{'train': <algolink.core.objects.core.EvaluationSet object at 0x7fd75d585550>}\n",
      "{'train_input': <algolink.core.objects.dataset_source.InMemoryDatasetSource object at 0x7fd75d585950>,\n",
      " 'train_output': <algolink.core.objects.dataset_source.InMemoryDatasetSource object at 0x7fd75d588cd0>}\n",
      "{'auc': <algolink.core.objects.metric.LibFunctionMetric object at 0x7fd75d5852d0>,\n",
      " 'custom': <algolink.core.objects.metric.CallableMetric object at 0x7fd75d585d50>}\n",
      "{'predict': ('__call__',\n",
      "             <class 'pyjackson.generics.DataFrameType[columns=['a', 'b'],dtypes=['int64', 'int64'],index_cols=[]]'>,\n",
      "             <class 'pyjackson.generics.NumpyNdarrayDatasetType[shape=(2,),dtype=int64]'>)}\n",
      "{'predict': ('__call__',\n",
      "             <class 'pyjackson.generics.DataFrameType[columns=['a', 'b'],dtypes=['int64', 'int64'],index_cols=[]]'>,\n",
      "             <class 'pyjackson.generics.NumpyNdarrayDatasetType[shape=(2,),dtype=int64]'>)}\n",
      "{'constant': EvaluationResult(timestamp=1632456411.778156,scores={'auc': 0.5, 'custom': 0.0}), 'truth': EvaluationResult(timestamp=1632456411.778156,scores={'auc': 1.0, 'custom': 100.0})}\n",
      "{'author': 'leepand',\n",
      " 'creation_date': '2021-09-24 04:06:51.668177 ',\n",
      " 'datasets': {'train_input': {'artifacts': {'blobs': {'data.pd': {'path': '/Users/leepand/Downloads/MLOps/AlgoLink/src/.algolink/artifacts/datasets/0/train_input/data.pd',\n",
      "                                                                  'type': 'local_file'}},\n",
      "                                            'type': 'blobs'},\n",
      "                              'dataset_type': {'columns': ['a', 'b'],\n",
      "                                               'dtypes': ['int64', 'int64'],\n",
      "                                               'index_cols': [],\n",
      "                                               'type': 'algolink.ext.pandas.dataset.DataFrameType'},\n",
      "                              'reader': {'data_type': {'columns': ['a', 'b'],\n",
      "                                                       'dtypes': ['int64',\n",
      "                                                                  'int64'],\n",
      "                                                       'index_cols': [],\n",
      "                                                       'type': 'algolink.ext.pandas.dataset.DataFrameType'},\n",
      "                                         'format': {'read_args': {},\n",
      "                                                    'type': 'csv',\n",
      "                                                    'write_args': {}},\n",
      "                                         'type': 'algolink.ext.pandas.dataset_source.PandasReader'},\n",
      "                              'type': 'algolink.repository.dataset.artifact.ArtifactDatasetSource'},\n",
      "              'train_output': {'artifacts': {'blobs': {'data.npz': {'path': '/Users/leepand/Downloads/MLOps/AlgoLink/src/.algolink/artifacts/datasets/0/train_output/data.npz',\n",
      "                                                                    'type': 'local_file'}},\n",
      "                                             'type': 'blobs'},\n",
      "                               'dataset_type': {'dtype': 'int64',\n",
      "                                                'shape': [None],\n",
      "                                                'type': 'algolink.ext.numpy.dataset.NumpyNdarrayDatasetType'},\n",
      "                               'reader': {'type': 'algolink.ext.numpy.dataset_source.NumpyNdarrayReader'},\n",
      "                               'type': 'algolink.repository.dataset.artifact.ArtifactDatasetSource'}},\n",
      " 'evaluation_sets': {'train': {'input_dataset': 'train_input',\n",
      "                               'metrics': ['auc', 'custom'],\n",
      "                               'output_dataset': 'train_output'}},\n",
      " 'id': 0,\n",
      " 'metrics': {'auc': {'args': {},\n",
      "                     'function': 'sklearn.metrics._ranking.roc_auc_score',\n",
      "                     'invert_input': False,\n",
      "                     'type': 'algolink.core.objects.metric.LibFunctionMetric'},\n",
      "             'custom': {'type': 'algolink.core.objects.metric.CallableMetric',\n",
      "                        'wrapper': {'artifacts': {'model.pkl': 'eJxVijFPg1AUhS+gbUWrVVmMiXM70KiDODSNCYMDCQM6PKcXfDxTEuBx4DGQtIlL+zv0n/razZuc7+S79347IsuLYs73dLloZKol/+oqoXNVuaDpv3uh0ozrvpYuLDYiolBl8t047C2cBEfTyI7IxInC0FtbP/RLa9rzljLLozfCcfz68kGH2WHAHNNtV2K4xYgNjPRcN53ECRsepBWqkXB3OGV3ZrHI616vVOXnVd1p/9kP7kUQPKUi+Hx8WOKMTcxT2XPRtVqVvJS6yQXG0U1ok4Xz2UzjIsFkg8vVOI43uIo1rhN48z+dxUoX'},\n",
      "                                    'requirements': {'requirements': []}}}},\n",
      " 'name': 'regression_is_my_profession',\n",
      " 'project_id': 0}\n"
     ]
    }
   ],
   "source": [
    "from pprint import pprint\n",
    "\n",
    "import numpy as np\n",
    "import pandas as pd\n",
    "from pyjackson import serialize\n",
    "from sklearn.metrics import roc_auc_score\n",
    "\n",
    "import algolink\n",
    "\n",
    "\n",
    "def get_data():\n",
    "    data = pd.DataFrame([[1, 0], [0, 1]], columns=['a', 'b'])\n",
    "    target = np.array([1, 0])\n",
    "    return data, target\n",
    "\n",
    "\n",
    "def constant(data):\n",
    "    return np.array([0 for _ in range(len(data))])\n",
    "\n",
    "\n",
    "def truth(data: pd.DataFrame):\n",
    "    return np.array([r[0] for _, r in data.iterrows()])\n",
    "\n",
    "\n",
    "def my_custom_metric(y_true, y_score):\n",
    "    return y_score.sum() / y_true.sum() * 100.\n",
    "\n",
    "\n",
    "def main():\n",
    "    ebnt = algolink.AlgoLink.local(clear=True)\n",
    "\n",
    "    data, target = get_data()\n",
    "    # we want easy way to transform anything to datasets, so its either this or ebonite.create_dataset (same for metrics)\n",
    "    # for now there is no difference, however if we want manage datasets with meta and art repos, we use client\n",
    "    # or create with ebonite.create_... and then push with ebnt.push_... like for models\n",
    "    # dataset = ebnt.create_dataset(data, target)\n",
    "\n",
    "    # here we postpone setting task input and output types for easy task creation\n",
    "    task = ebnt.get_or_create_task('my_project', 'regression_is_my_profession')\n",
    "    print(roc_auc_score,\"roc_auc_score\")\n",
    "    task.add_metric('auc', roc_auc_score)\n",
    "    task.add_metric('custom', my_custom_metric)\n",
    "    task.add_evaluation('train', data, target, ['auc', 'custom'])\n",
    "\n",
    "    pprint(task.evaluation_sets)\n",
    "    pprint(task.datasets)\n",
    "    pprint(task.metrics)\n",
    "\n",
    "    # omit providing dataset as we already have it in task\n",
    "    mc = task.create_and_push_model(constant, data, model_name='constant')\n",
    "    mt = task.create_and_push_model(truth, data, model_name='truth')\n",
    "\n",
    "    pprint(mc.wrapper.methods)\n",
    "    pprint(mt.wrapper.methods)\n",
    "\n",
    "    # maybe save result to models? also need different ways to evaluate \"not all\"\n",
    "    result = task.evaluate_all()\n",
    "\n",
    "    print(result)\n",
    "    ebnt._bind(task)\n",
    "    task.save()\n",
    "    pprint(serialize(task))\n",
    "\n",
    "\n",
    "if __name__ == '__main__':\n",
    "    main()"
   ]
  },
  {
   "cell_type": "code",
   "execution_count": 9,
   "metadata": {},
   "outputs": [],
   "source": [
    "from algolink.ext.sqlalchemy.repository import SQLAlchemyMetaRepository\n"
   ]
  },
  {
   "cell_type": "code",
   "execution_count": 12,
   "metadata": {},
   "outputs": [],
   "source": [
    "test = SQLAlchemyMetaRepository('sqlite:///sql.db')"
   ]
  },
  {
   "cell_type": "code",
   "execution_count": 13,
   "metadata": {},
   "outputs": [
    {
     "name": "stdout",
     "output_type": "stream",
     "text": [
      "/Users/leepand/Downloads/MLOps/AlgoLink/src\n"
     ]
    }
   ],
   "source": [
    "!pwd"
   ]
  },
  {
   "cell_type": "code",
   "execution_count": 18,
   "metadata": {},
   "outputs": [],
   "source": [
    "import os\n",
    "\n",
    "import numpy as np\n",
    "\n",
    "import algolink\n",
    "from algolink import AlgoLink\n",
    "\n",
    "\n",
    "def add_one(data):\n",
    "    return data + 1\n",
    "\n",
    "\n",
    "def main():\n",
    "    #  create remote ebonite client. This client stores metadata in postgres and artifacts in s3\n",
    "    os.environ['S3_ACCESS_KEY'] = 'eboniteAccessKey'\n",
    "    os.environ['S3_SECRET_KEY'] = 'eboniteSecretKey'\n",
    "    alink = AlgoLink.custom_client('sqlalchemy', 'local',\n",
    "                                 meta_kwargs={'db_uri': 'sqlite:///sql.db'},\n",
    "                                 artifact_kwargs={'path': './'})\n",
    "    # save client configuration for later use\n",
    "    alink.save_client_config('client_config.json')\n",
    "    #  obtain Task\n",
    "    task = alink.get_or_create_task('my_project', 'my_task')\n",
    "\n",
    "    #  remove model if it exists (for demo purposes)\n",
    "    if task.models.contains('add_one_model'):\n",
    "        model = task.models('add_one_model')\n",
    "        task.delete_model(model)\n",
    "\n",
    "    #  create model from function add_one and numpy array as data sample\n",
    "    model = algolink.create_model(add_one, np.array([0]), 'add_one_model')\n",
    "\n",
    "    #  persist model\n",
    "    task.push_model(model)\n",
    "\n",
    "\n",
    "if __name__ == '__main__':\n",
    "    main()"
   ]
  },
  {
   "cell_type": "code",
   "execution_count": null,
   "metadata": {},
   "outputs": [
    {
     "name": "stdout",
     "output_type": "stream",
     "text": [
      "2021-09-24 17:54:29,348 [INFO] algolink_runtime: Starting AlgoLink runtime with loader DummyLoader and server FlaskServer ...\n",
      "2021-09-24 17:54:29,356 [INFO] algolink_runtime: Running server <algolink.ext.flask.server.FlaskServer object at 0x7fd75e089750>\n"
     ]
    },
    {
     "name": "stderr",
     "output_type": "stream",
     "text": [
      "[2021-09-24 17:54:29 +0800] [3346] [INFO] Starting gunicorn 20.0.4\n",
      "[2021-09-24 17:54:29 +0800] [3346] [INFO] Listening at: http://0.0.0.0:9000 (3346)\n",
      "[2021-09-24 17:54:29 +0800] [3346] [INFO] Using worker: gevent\n",
      "[2021-09-24 17:54:29 +0800] [16463] [INFO] Booting worker with pid: 16463\n",
      "[2021-09-24 17:54:29 +0800] [16464] [INFO] Booting worker with pid: 16464\n",
      "/Users/leepand/miniconda3/lib/python3.7/site-packages/gunicorn/workers/ggevent.py:53: MonkeyPatchWarning: Monkey-patching ssl after ssl has already been imported may lead to errors, including RecursionError on Python 3.6. It may also silently lead to incorrect behaviour on Python 3.7. Please monkey-patch earlier. See https://github.com/gevent/gevent/issues/1016. Modules that had direct imports (NOT patched): ['urllib3.contrib.pyopenssl (/Users/leepand/miniconda3/lib/python3.7/site-packages/urllib3/contrib/pyopenssl.py)', 'botocore.httpsession (/Users/leepand/miniconda3/lib/python3.7/site-packages/botocore/httpsession.py)']. \n",
      "  monkey.patch_all()\n",
      "/Users/leepand/miniconda3/lib/python3.7/site-packages/gunicorn/workers/ggevent.py:53: MonkeyPatchWarning: Monkey-patching ssl after ssl has already been imported may lead to errors, including RecursionError on Python 3.6. It may also silently lead to incorrect behaviour on Python 3.7. Please monkey-patch earlier. See https://github.com/gevent/gevent/issues/1016. Modules that had direct imports (NOT patched): ['urllib3.contrib.pyopenssl (/Users/leepand/miniconda3/lib/python3.7/site-packages/urllib3/contrib/pyopenssl.py)', 'botocore.httpsession (/Users/leepand/miniconda3/lib/python3.7/site-packages/botocore/httpsession.py)']. \n",
      "  monkey.patch_all()\n",
      "[2021-09-24 19:30:39 +0800] [3346] [CRITICAL] WORKER TIMEOUT (pid:16463)\n",
      "[2021-09-24 19:30:39 +0800] [16463] [INFO] Worker exiting (pid: 16463)\n"
     ]
    },
    {
     "ename": "SystemExit",
     "evalue": "1",
     "output_type": "error",
     "traceback": [
      "An exception has occurred, use %tb to see the full traceback.\n",
      "\u001b[0;31mSystemExit\u001b[0m\u001b[0;31m:\u001b[0m 1\n"
     ]
    },
    {
     "name": "stderr",
     "output_type": "stream",
     "text": [
      "/Users/leepand/miniconda3/lib/python3.7/site-packages/IPython/core/interactiveshell.py:3339: UserWarning: To exit: use 'exit', 'quit', or Ctrl-D.\n",
      "  warn(\"To exit: use 'exit', 'quit', or Ctrl-D.\", stacklevel=1)\n",
      "[2021-09-24 19:31:09 +0800] [18651] [INFO] Booting worker with pid: 18651\n",
      "/Users/leepand/miniconda3/lib/python3.7/site-packages/gunicorn/workers/ggevent.py:53: MonkeyPatchWarning: Monkey-patching ssl after ssl has already been imported may lead to errors, including RecursionError on Python 3.6. It may also silently lead to incorrect behaviour on Python 3.7. Please monkey-patch earlier. See https://github.com/gevent/gevent/issues/1016. Modules that had direct imports (NOT patched): ['urllib3.contrib.pyopenssl (/Users/leepand/miniconda3/lib/python3.7/site-packages/urllib3/contrib/pyopenssl.py)', 'botocore.httpsession (/Users/leepand/miniconda3/lib/python3.7/site-packages/botocore/httpsession.py)']. \n",
      "  monkey.patch_all()\n"
     ]
    }
   ],
   "source": [
    "import os\n",
    "\n",
    "from algolink import AlgoLink\n",
    "from algolink.runtime import run_model_server\n",
    "\n",
    "\n",
    "def main():\n",
    "    #  create remote ebonite client from saved configuration\n",
    "    os.environ['S3_ACCESS_KEY'] = 'eboniteAccessKey'\n",
    "    os.environ['S3_SECRET_KEY'] = 'eboniteSecretKey'\n",
    "    ebnt = AlgoLink.from_config_file('client_config.json')\n",
    "    model = ebnt.get_model('add_one_model', 'my_task', 'my_project')\n",
    "\n",
    "    # run flask service with this model\n",
    "    run_model_server(model)\n",
    "    # now you can use client.py to call this service or go to http://localhost:9000/apidocs to view swagger ui\n",
    "\n",
    "\n",
    "if __name__ == '__main__':\n",
    "    main()\n"
   ]
  },
  {
   "cell_type": "code",
   "execution_count": null,
   "metadata": {},
   "outputs": [],
   "source": [
    "!pwd"
   ]
  },
  {
   "cell_type": "code",
   "execution_count": null,
   "metadata": {},
   "outputs": [],
   "source": []
  }
 ],
 "metadata": {
  "kernelspec": {
   "display_name": "Python 3",
   "language": "python",
   "name": "python3"
  },
  "language_info": {
   "codemirror_mode": {
    "name": "ipython",
    "version": 3
   },
   "file_extension": ".py",
   "mimetype": "text/x-python",
   "name": "python",
   "nbconvert_exporter": "python",
   "pygments_lexer": "ipython3",
   "version": "3.7.7"
  }
 },
 "nbformat": 4,
 "nbformat_minor": 4
}
