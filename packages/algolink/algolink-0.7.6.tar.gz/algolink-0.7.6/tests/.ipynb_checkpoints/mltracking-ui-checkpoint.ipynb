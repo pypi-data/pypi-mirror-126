{
 "cells": [
  {
   "cell_type": "code",
   "execution_count": 57,
   "metadata": {},
   "outputs": [
    {
     "name": "stdout",
     "output_type": "stream",
     "text": [
      "[(1,)] ddddd\n"
     ]
    }
   ],
   "source": [
    "import sqlite3\n",
    "\n",
    "# 构造表头\n",
    "def generate_table_head(conn, task_id):\n",
    "    sql = \"select sm.id, sm.name, sm.experiment_remark, \\\n",
    "    sm.creation_date from experiments sm where sm.task_id={} and sm.del_flag=0\".format(task_id)\n",
    "    sub_model_result = conn.execute(sql).fetchall()\n",
    "\n",
    "    # 构造表头\n",
    "    table_head = {}\n",
    "    table_length = {}\n",
    "    sub_model_param = {}\n",
    "\n",
    "    for sub_model in sub_model_result:\n",
    "\n",
    "        sql = \"select mp.param_type, mp.name, mp.param_value from model_params mp where mp.experiment_id=%d\" % (\n",
    "            sub_model[0])\n",
    "        model_param_result = conn.execute(sql)#.fetchall()\n",
    "        for model_param in model_param_result:\n",
    "            # 添加 table head\n",
    "            if model_param[0] not in table_head:\n",
    "                table_head[model_param[0]] = [model_param[1]]\n",
    "            else:\n",
    "                if model_param[1] not in table_head[model_param[0]]:\n",
    "                    table_head[model_param[0]].append(model_param[1])\n",
    "\n",
    "            # sub_model_param\n",
    "            if sub_model[0] not in sub_model_param:\n",
    "                sub_model_param[sub_model[0]] = {model_param[1]: model_param[2]}\n",
    "            else:\n",
    "                sub_model_param[sub_model[0]][model_param[1]] = model_param[2]\n",
    "\n",
    "    for type, param_list in table_head.items():\n",
    "        table_length[type] = len(param_list)\n",
    "\n",
    "    return sub_model_result, sub_model_param, table_head, table_length\n",
    "\n",
    "\n",
    "# 构造页面数据\n",
    "def generate_table_data(conn, table_head, sub_model_result, sub_model_param):\n",
    "    table_data = []\n",
    "    best_head = []\n",
    "    best_data = {}\n",
    "    first_param = {}\n",
    "    modify_head = []\n",
    "    id = 0\n",
    "    for i, sub_model in enumerate(sub_model_result):\n",
    "\n",
    "        # 评估指标数据\n",
    "        sql = \"select br.name, br.best_value from best_result br where br.experiment_id=%d\" % (sub_model[0])\n",
    "        best_result = conn.execute(sql)\n",
    "        dic = {}\n",
    "\n",
    "        flag = False\n",
    "        for best in best_result:\n",
    "            if best[0] not in best_head:\n",
    "                best_head.append(best[0])\n",
    "\n",
    "            dic[best[0]] = best[1]\n",
    "            flag = True\n",
    "\n",
    "        best_data[sub_model[0]] = dic\n",
    "\n",
    "        id += 1\n",
    "        dic = {}\n",
    "\n",
    "        dic['id'] = id\n",
    "        dic['sub_model_id'] = sub_model[0]\n",
    "        dic['sub_model_name'] = sub_model[1]\n",
    "        dic['sub_model_remark'] = sub_model[2]\n",
    "        dic['create_time'] = sub_model[3]\n",
    "\n",
    "        if flag:\n",
    "            dic['finished_train'] = True\n",
    "        else:\n",
    "            dic['finished_train'] = False\n",
    "\n",
    "        # 超参数\n",
    "        for _, param_list in table_head.items():\n",
    "            for param_name in param_list:\n",
    "\n",
    "                try:\n",
    "                    dic[param_name] = sub_model_param[sub_model[0]][param_name]\n",
    "                except:\n",
    "                    dic[param_name] = ''\n",
    "\n",
    "                if i == 0:  # 记录第一次训练的超参数\n",
    "                    first_param[param_name] = dic[param_name]\n",
    "                else:\n",
    "                    if dic[param_name] != first_param[param_name]:\n",
    "                        modify_head.append(param_name)\n",
    "\n",
    "        # 评估指标数据\n",
    "        for name in best_head:\n",
    "            try:\n",
    "                dic[name] = best_data[sub_model[0]][name]\n",
    "            except:\n",
    "                dic[name] = ''\n",
    "\n",
    "        table_data.append(dic)\n",
    "\n",
    "\n",
    "    return table_data, best_head, modify_head\n",
    "\n",
    "\n",
    "# 构造loss画图数据\n",
    "def generate_loss_data(conn, task_id, sub_model_result):\n",
    "    sql = \"select max(md.epoch) from model_metrics md \" \\\n",
    "          \"left join experiments sm on sm.id=md.experiment_id \" \\\n",
    "          \"left join tasks m on m.id = sm.task_id \" \\\n",
    "          \"where m.id=%d\" % (task_id)\n",
    "    sql2 = \"select md.epoch from model_metrics md \" \\\n",
    "          \"left join experiments sm on sm.id=md.experiment_id \" \\\n",
    "          \"left join tasks m on m.id = sm.task_id \" \\\n",
    "          \"where m.id=%d\" % (task_id)\n",
    "    max_step = conn.execute(sql).fetchall()[0][0]\n",
    "    print(conn.execute(sql2).fetchall(),\"ddddd\")\n",
    "    x_value = [i for i in range(1, max_step + 1)]\n",
    "\n",
    "    legend = {}\n",
    "    series = []\n",
    "    for i, sub_model in enumerate(sub_model_result):\n",
    "\n",
    "        if i + 1 == len(sub_model_result):\n",
    "            legend[sub_model[1] + '_train'] = 'true'\n",
    "            legend[sub_model[1] + '_test'] = 'true'\n",
    "        else:\n",
    "            legend[sub_model[1] + '_train'] = 'false'\n",
    "            legend[sub_model[1] + '_test'] = 'false'\n",
    "\n",
    "        sql = \"select md.metric_value from model_metrics md where md.experiment_id=%d and md.name='train_loss'\" % (\n",
    "        sub_model[0])\n",
    "        train_value = [value[0] for value in conn.execute(sql)]\n",
    "        data_dic = {'name': sub_model[1] + '_train', 'data': str(train_value)}\n",
    "        series.append(data_dic)\n",
    "\n",
    "        sql = \"select md.metric_value from model_metrics md where md.experiment_id=%d and md.name='test_loss'\" % (\n",
    "        sub_model[0])\n",
    "        test_value = [value[0] for value in conn.execute(sql)]\n",
    "        data_dic = {'name': sub_model[1] + '_test', 'data': str(test_value)}\n",
    "        series.append(data_dic)\n",
    "\n",
    "    x_value = str(x_value)\n",
    "\n",
    "    return legend, x_value, series\n",
    "\n",
    "\n",
    "def generate_new_loss(conn, experiment_id, experiment_name):\n",
    "\n",
    "    sql = \"select md.metric_value from model_metrics md where md.experiment_id=%d and md.name='train_loss'\" % (experiment_id)\n",
    "    train_value = [value[0] for value in conn.execute(sql)]\n",
    "\n",
    "    sql = \"select md.metric_value from model_metrics md where md.experiment_id=%d and md.name='test_loss'\" % (\n",
    "        experiment_id)\n",
    "    test_value = [value[0] for value in conn.execute(sql)]\n",
    "\n",
    "    data_list_loss = {'xAxis':{'data':[i for i in range(1, len(train_value) + 1)]},\n",
    "                      'series':[{'name':experiment_name + '_train', 'data':train_value},\n",
    "                                {'name':experiment_name + '_test', 'data':test_value}]}\n",
    "\n",
    "    return data_list_loss\n",
    "\n",
    "\n",
    "# 构造 acc画图数据 sub_model_result:experiment\n",
    "def generate_indicater_data(conn, sub_model_result, type):\n",
    "    legend_acc = {}\n",
    "    series_acc = []\n",
    "    for i, sub_model in enumerate(sub_model_result):\n",
    "\n",
    "        if i + 1 == len(sub_model_result):\n",
    "            legend_acc[sub_model[1] + '_test'] = 'true'\n",
    "        else:\n",
    "            legend_acc[sub_model[1] + '_test'] = 'false'\n",
    "\n",
    "        sql = \"select md.metric_value from model_metrics md where md.experiment_id=%d and md.name='%s'\" % (\n",
    "        sub_model[0], type)\n",
    "        test_value = [value[0] for value in conn.execute(sql)]\n",
    "        data_dic = {'name': sub_model[1] + '_test', 'data': str(test_value)}\n",
    "        series_acc.append(data_dic)\n",
    "\n",
    "    return legend_acc, series_acc\n",
    "\n",
    "def generate_new_indicater_data(conn, experiment_id, experiment_name, type):\n",
    "\n",
    "    sql = \"select md.metric_value from model_metrics md where md.experiment_id=%d and md.name='%s'\" % (experiment_id, type)\n",
    "    value_list = [value[0] for value in conn.execute(sql)]\n",
    "\n",
    "    data_dict = {'xAxis': {'data': [i for i in range(1, len(value_list) + 1)]},\n",
    "                      'series': [{'name': experiment_name + '_test', 'data': value_list}]}\n",
    "\n",
    "    return data_dict\n",
    "\n",
    "def get_experiment_list(conn):\n",
    "    sql = \"select m.task_id,b.name,b.creation_date from experiments m, tasks b where m.task_id=b.id\"\n",
    "    exp_result = conn.execute(sql).fetchall()\n",
    "    return exp_result\n",
    "\n",
    "# 删除model\n",
    "def delete_model(conn, task_id):\n",
    "    sql = \"delete from tasks where id=%d\" % (task_id)\n",
    "    conn.execute(sql)\n",
    "    conn.commit()\n",
    "\n",
    "\n",
    "def delete_sub_model(del_set):\n",
    "    sql = \"delete from experiments where experiment_id in %s\" % (del_set)\n",
    "    conn = get_conn()\n",
    "    conn.execute(sql)\n",
    "\n",
    "    sql = \"delete from model_params where experiment_id in %s\" % (del_set)\n",
    "    conn.execute(sql)\n",
    "\n",
    "    sql = \"delete from model_metrics where experiment_id in %s\" % (del_set)\n",
    "    conn.execute(sql)\n",
    "\n",
    "    sql = \"delete from best_result where experiment_id in %s\" % (del_set)\n",
    "    conn.execute(sql)\n",
    "\n",
    "    conn.commit()\n",
    "    conn.close()\n",
    "\n",
    "## 模型总数\n",
    "def get_model_num(conn):\n",
    "    sql = \"select count(1) from experiments sm\"\n",
    "    model_num = conn.execute(sql).fetchall()[0][0]\n",
    "    return model_num\n",
    "\n",
    "# 数据库连接\n",
    "def get_conn(traking_path):\n",
    "    return sqlite3.connect(traking_path)\n",
    "\n",
    "\n",
    "\n",
    "cnn=get_conn(\"sql.db\")\n",
    "task_id = 2\n",
    "sub_model_result, sub_model_param, table_head, table_length = generate_table_head(cnn,task_id)\n",
    "\n",
    "table_data, best_head, modify_head = generate_table_data(cnn, table_head, sub_model_result, sub_model_param)\n",
    "\n",
    "# 构造loss画图数据\n",
    "#legend_loss, x_value_loss, series_loss = generate_loss_data(con, project_id_model, sub_model_result)\n",
    "\n",
    "# 构造loss画图数据\n",
    "legend, x_value, series = generate_loss_data(cnn, task_id, sub_model_result)\n",
    "\n",
    "# loss\n",
    "experiment_id =1\n",
    "experiment_name = \"test_track5\"\n",
    "data_list_loss = generate_new_loss(cnn, experiment_id, experiment_name)\n",
    "\n",
    "# acc\n",
    "sub_model_id = experiment_id\n",
    "sub_model_name = experiment_name\n",
    "data_list_acc = generate_new_indicater_data(cnn, sub_model_id, sub_model_name, 'test_acc')\n",
    "\n",
    "# recall\n",
    "data_list_recall = generate_new_indicater_data(cnn, sub_model_id, sub_model_name, 'test_recall')\n",
    "\n",
    "# precision\n",
    "data_list_precision = generate_new_indicater_data(cnn, sub_model_id, sub_model_name, 'test_precision')\n",
    "\n",
    "# F1\n",
    "data_list_F1 = generate_new_indicater_data(cnn, sub_model_id, sub_model_name, 'test_F1')\n",
    "\n",
    "\n",
    "\n",
    "# 构造 acc画图数据\n",
    "legend_acc, series_acc = generate_indicater_data(cnn, sub_model_result, 'test_acc')\n",
    "\n",
    "# 构造recall画图数据\n",
    "legend_recall, series_recall = generate_indicater_data(cnn, sub_model_result, 'test_recall')\n",
    "\n",
    "# 构造 precision画图数据\n",
    "legend_precision, series_precision = generate_indicater_data(cnn, sub_model_result, 'test_precision')\n",
    "\n",
    "# 构造 F1画图数据\n",
    "legend_F1, series_F1 = generate_indicater_data(cnn, sub_model_result, 'test_F1')\n"
   ]
  },
  {
   "cell_type": "code",
   "execution_count": 54,
   "metadata": {},
   "outputs": [],
   "source": [
    "sub_model_result, sub_model_param, table_head, table_length = generate_table_head(cnn,2)\n",
    "\n",
    "table_data, best_head, modify_head = generate_table_data(cnn, table_head, sub_model_result, sub_model_param)\n"
   ]
  },
  {
   "cell_type": "code",
   "execution_count": 55,
   "metadata": {},
   "outputs": [
    {
     "data": {
      "text/plain": [
       "([{'id': 1,\n",
       "   'sub_model_id': 2,\n",
       "   'sub_model_name': 'test_track6',\n",
       "   'sub_model_remark': 'experiment_remark',\n",
       "   'create_time': '2021-10-16 08:28:50.595045',\n",
       "   'finished_train': True,\n",
       "   'model': 'BILSTM_Attention',\n",
       "   'optimizer': 'adam',\n",
       "   'num_classes': '10',\n",
       "   'lr': '0.001',\n",
       "   'training_steps': '1000000',\n",
       "   'display_step': '1',\n",
       "   'batch_size': '100',\n",
       "   'num_hidden': '128',\n",
       "   'embedding_dim': '128',\n",
       "   'drop_out': '0.5',\n",
       "   'best_loss': 2.34},\n",
       "  {'id': 2,\n",
       "   'sub_model_id': 3,\n",
       "   'sub_model_name': 'test_track7',\n",
       "   'sub_model_remark': 'experiment_remark',\n",
       "   'create_time': '2021-10-16 16:13:00.386830',\n",
       "   'finished_train': False,\n",
       "   'model': '',\n",
       "   'optimizer': '',\n",
       "   'num_classes': '',\n",
       "   'lr': '',\n",
       "   'training_steps': '',\n",
       "   'display_step': '',\n",
       "   'batch_size': '',\n",
       "   'num_hidden': '',\n",
       "   'embedding_dim': '',\n",
       "   'drop_out': '',\n",
       "   'best_loss': ''}],\n",
       " ['best_loss'],\n",
       " ['model',\n",
       "  'optimizer',\n",
       "  'num_classes',\n",
       "  'lr',\n",
       "  'training_steps',\n",
       "  'display_step',\n",
       "  'batch_size',\n",
       "  'num_hidden',\n",
       "  'embedding_dim',\n",
       "  'drop_out'])"
      ]
     },
     "execution_count": 55,
     "metadata": {},
     "output_type": "execute_result"
    }
   ],
   "source": [
    "table_data, best_head, modify_head"
   ]
  },
  {
   "cell_type": "code",
   "execution_count": 52,
   "metadata": {},
   "outputs": [
    {
     "data": {
      "text/plain": [
       "([(2, 'test_track6', 'experiment_remark', '2021-10-16 08:28:50.595045'),\n",
       "  (3, 'test_track7', 'experiment_remark', '2021-10-16 16:13:00.386830')],\n",
       " {2: {'model': 'BILSTM_Attention',\n",
       "   'optimizer': 'adam',\n",
       "   'num_classes': '10',\n",
       "   'lr': '0.001',\n",
       "   'training_steps': '1000000',\n",
       "   'display_step': '1',\n",
       "   'batch_size': '100',\n",
       "   'num_hidden': '128',\n",
       "   'embedding_dim': '128',\n",
       "   'drop_out': '0.5'}},\n",
       " {'tf_param': ['model',\n",
       "   'optimizer',\n",
       "   'num_classes',\n",
       "   'lr',\n",
       "   'training_steps',\n",
       "   'display_step',\n",
       "   'batch_size',\n",
       "   'num_hidden',\n",
       "   'embedding_dim',\n",
       "   'drop_out']},\n",
       " {'tf_param': 10})"
      ]
     },
     "execution_count": 52,
     "metadata": {},
     "output_type": "execute_result"
    }
   ],
   "source": [
    "generate_table_head(cnn,2)"
   ]
  },
  {
   "cell_type": "code",
   "execution_count": 47,
   "metadata": {},
   "outputs": [
    {
     "data": {
      "text/plain": [
       "2"
      ]
     },
     "execution_count": 47,
     "metadata": {},
     "output_type": "execute_result"
    }
   ],
   "source": [
    "get_model_num(cnn)"
   ]
  },
  {
   "cell_type": "code",
   "execution_count": 45,
   "metadata": {},
   "outputs": [
    {
     "data": {
      "text/plain": [
       "({'test_track5_test': 'true'}, [{'name': 'test_track5_test', 'data': '[]'}])"
      ]
     },
     "execution_count": 45,
     "metadata": {},
     "output_type": "execute_result"
    }
   ],
   "source": [
    "legend_recall, series_recall"
   ]
  },
  {
   "cell_type": "code",
   "execution_count": 35,
   "metadata": {},
   "outputs": [
    {
     "data": {
      "text/plain": [
       "{'xAxis': {'data': [1, 2, 3, 4]},\n",
       " 'series': [{'name': 'test_track5_train', 'data': [24.0, 24.0, 24.0, 23.0]},\n",
       "  {'name': 'test_track5_test', 'data': []}]}"
      ]
     },
     "execution_count": 35,
     "metadata": {},
     "output_type": "execute_result"
    }
   ],
   "source": [
    "data_list_loss"
   ]
  },
  {
   "cell_type": "code",
   "execution_count": 33,
   "metadata": {},
   "outputs": [
    {
     "data": {
      "text/plain": [
       "({'test_track5_train': 'true', 'test_track5_test': 'true'},\n",
       " '[1, 2]',\n",
       " [{'name': 'test_track5_train', 'data': '[24.0, 24.0, 24.0, 23.0]'},\n",
       "  {'name': 'test_track5_test', 'data': '[]'}])"
      ]
     },
     "execution_count": 33,
     "metadata": {},
     "output_type": "execute_result"
    }
   ],
   "source": [
    "legend, x_value, series"
   ]
  },
  {
   "cell_type": "code",
   "execution_count": 5,
   "metadata": {},
   "outputs": [
    {
     "data": {
      "text/plain": [
       "([{'id': 1,\n",
       "   'sub_model_id': 1,\n",
       "   'sub_model_name': 'test_track5',\n",
       "   'sub_model_remark': 'experiment_remark',\n",
       "   'create_time': '2021-10-14 02:14:24.058297',\n",
       "   'finished_train': True,\n",
       "   'model': 'BILSTM_Attention',\n",
       "   'optimizer': 'adam',\n",
       "   'num_classes': 10.0,\n",
       "   'lr': 0.001,\n",
       "   'training_steps': 1000000.0,\n",
       "   'display_step': 1.0,\n",
       "   'batch_size': 100.0,\n",
       "   'num_hidden': 128.0,\n",
       "   'embedding_dim': 128.0,\n",
       "   'drop_out': 0.5,\n",
       "   'best_loss': 2.34}],\n",
       " ['best_loss'],\n",
       " [])"
      ]
     },
     "execution_count": 5,
     "metadata": {},
     "output_type": "execute_result"
    }
   ],
   "source": [
    "table_data, best_head, modify_head"
   ]
  },
  {
   "cell_type": "code",
   "execution_count": 8,
   "metadata": {},
   "outputs": [
    {
     "data": {
      "text/plain": [
       "[{'id': 1,\n",
       "  'sub_model_id': 1,\n",
       "  'sub_model_name': 'test_track5',\n",
       "  'sub_model_remark': 'experiment_remark',\n",
       "  'create_time': '2021-10-14 02:14:24.058297',\n",
       "  'finished_train': True,\n",
       "  'model': 'BILSTM_Attention',\n",
       "  'optimizer': 'adam',\n",
       "  'num_classes': 10.0,\n",
       "  'lr': 0.001,\n",
       "  'training_steps': 1000000.0,\n",
       "  'display_step': 1.0,\n",
       "  'batch_size': 100.0,\n",
       "  'num_hidden': 128.0,\n",
       "  'embedding_dim': 128.0,\n",
       "  'drop_out': 0.5,\n",
       "  'best_loss': 2.34}]"
      ]
     },
     "execution_count": 8,
     "metadata": {},
     "output_type": "execute_result"
    }
   ],
   "source": [
    "# 构造表头\n",
    "project_id_model = get_project_list(conn)"
   ]
  },
  {
   "cell_type": "code",
   "execution_count": 10,
   "metadata": {},
   "outputs": [
    {
     "ename": "OperationalError",
     "evalue": "no such column: m.del_flag",
     "output_type": "error",
     "traceback": [
      "\u001b[0;31m--------------------------------------------------------------\u001b[0m",
      "\u001b[0;31mOperationalError\u001b[0m             Traceback (most recent call last)",
      "\u001b[0;32m<ipython-input-10-957124bf02d2>\u001b[0m in \u001b[0;36m<module>\u001b[0;34m\u001b[0m\n\u001b[1;32m     12\u001b[0m         \u001b[0;32mreturn\u001b[0m \u001b[0;36m1\u001b[0m\u001b[0;34m\u001b[0m\u001b[0;34m\u001b[0m\u001b[0m\n\u001b[1;32m     13\u001b[0m \u001b[0;34m\u001b[0m\u001b[0m\n\u001b[0;32m---> 14\u001b[0;31m \u001b[0mget_experiment_list\u001b[0m\u001b[0;34m(\u001b[0m\u001b[0mcnn\u001b[0m\u001b[0;34m)\u001b[0m\u001b[0;34m\u001b[0m\u001b[0;34m\u001b[0m\u001b[0m\n\u001b[0m",
      "\u001b[0;32m<ipython-input-10-957124bf02d2>\u001b[0m in \u001b[0;36mget_experiment_list\u001b[0;34m(conn)\u001b[0m\n\u001b[1;32m      1\u001b[0m \u001b[0;32mdef\u001b[0m \u001b[0mget_experiment_list\u001b[0m\u001b[0;34m(\u001b[0m\u001b[0mconn\u001b[0m\u001b[0;34m)\u001b[0m\u001b[0;34m:\u001b[0m\u001b[0;34m\u001b[0m\u001b[0;34m\u001b[0m\u001b[0m\n\u001b[1;32m      2\u001b[0m     \u001b[0msql\u001b[0m \u001b[0;34m=\u001b[0m \u001b[0;34m\"select m.name, m.creation_date, m.id from tasks m where m.del_flag = 0 and m.nick_name=? order by m.creation_date desc\"\u001b[0m\u001b[0;34m\u001b[0m\u001b[0;34m\u001b[0m\u001b[0m\n\u001b[0;32m----> 3\u001b[0;31m     \u001b[0mresult\u001b[0m \u001b[0;34m=\u001b[0m \u001b[0mconn\u001b[0m\u001b[0;34m.\u001b[0m\u001b[0mexecute\u001b[0m\u001b[0;34m(\u001b[0m\u001b[0msql\u001b[0m\u001b[0;34m)\u001b[0m\u001b[0;34m\u001b[0m\u001b[0;34m\u001b[0m\u001b[0m\n\u001b[0m\u001b[1;32m      4\u001b[0m     \u001b[0mproject_list\u001b[0m \u001b[0;34m=\u001b[0m \u001b[0;34m[\u001b[0m\u001b[0;34m]\u001b[0m\u001b[0;34m\u001b[0m\u001b[0;34m\u001b[0m\u001b[0m\n\u001b[1;32m      5\u001b[0m \u001b[0;34m\u001b[0m\u001b[0m\n",
      "\u001b[0;31mOperationalError\u001b[0m: no such column: m.del_flag"
     ]
    }
   ],
   "source": [
    "def get_experiment_list(conn):\n",
    "    sql = \"select m.name, m.creation_date, m.id from tasks m where m.del_flag = 0 order by m.creation_date desc\"\n",
    "    result = conn.execute(sql)\n",
    "    project_list = []\n",
    "\n",
    "    for item in result:\n",
    "        map_ = {'project_name':item[0], 'create_time':item[1], 'project_id':item[2]}\n",
    "        project_list.append(map_)\n",
    "    if len(project_list)>0:\n",
    "        return project_list[0][\"project_id\"]\n",
    "    else:\n",
    "        return 1\n",
    "    \n",
    "get_experiment_list(cnn)"
   ]
  },
  {
   "cell_type": "code",
   "execution_count": 22,
   "metadata": {},
   "outputs": [],
   "source": [
    "def get_experiment_list(conn):\n",
    "    sql = \"select m.name, m.task_id from experiments m\"\n",
    "    exp_result = conn.execute(sql).fetchall()\n",
    "    exp_task_list = []\n",
    "    for experiment_name,task_id in exp_result:\n",
    "        sql2 = \"select * from tasks m where m.id= {}\".format(task_id)\n",
    "        task_result = conn.execute(sql2).fetchone()\n",
    "        exp_task_list.append(task_result)\n",
    "    return exp_task_list\n",
    "    \n",
    "    \n",
    "t = get_experiment_list(cnn)"
   ]
  },
  {
   "cell_type": "code",
   "execution_count": 23,
   "metadata": {},
   "outputs": [
    {
     "name": "stdout",
     "output_type": "stream",
     "text": [
      "(5, '机器学习任务', 'leepand', '2021-10-15 09:28:05.955313', 2, '{}', '{}', '{}')\n",
      "(2, 'my_task_tracking', 'leepand', '2021-10-14 02:14:24.039844', 1, '{}', '{}', '{}')\n"
     ]
    }
   ],
   "source": [
    "for  i in t:\n",
    "    print(i)"
   ]
  },
  {
   "cell_type": "code",
   "execution_count": 49,
   "metadata": {},
   "outputs": [
    {
     "data": {
      "text/plain": [
       "5"
      ]
     },
     "execution_count": 49,
     "metadata": {},
     "output_type": "execute_result"
    }
   ],
   "source": [
    "def get_experiment_list(conn):\n",
    "    sql = \"select m.task_id,b.name,b.creation_date from experiments m, tasks b where m.task_id=b.id\"\n",
    "    exp_result = conn.execute(sql).fetchall()\n",
    "    return exp_result\n",
    "\n",
    "t = get_experiment_list(cnn)\n",
    "t[0][0]"
   ]
  },
  {
   "cell_type": "code",
   "execution_count": null,
   "metadata": {},
   "outputs": [],
   "source": []
  }
 ],
 "metadata": {
  "kernelspec": {
   "display_name": "Python 3",
   "language": "python",
   "name": "python3"
  },
  "language_info": {
   "codemirror_mode": {
    "name": "ipython",
    "version": 3
   },
   "file_extension": ".py",
   "mimetype": "text/x-python",
   "name": "python",
   "nbconvert_exporter": "python",
   "pygments_lexer": "ipython3",
   "version": "3.7.7"
  }
 },
 "nbformat": 4,
 "nbformat_minor": 4
}
