{
 "cells": [
  {
   "cell_type": "code",
   "execution_count": 2,
   "metadata": {},
   "outputs": [
    {
     "name": "stderr",
     "output_type": "stream",
     "text": [
      "/Users/leepand/miniconda3/lib/python3.7/site-packages/sklearn/utils/validation.py:72: FutureWarning: Pass return_X_y=True as keyword args. From version 1.0 (renaming of 0.25) passing these as positional arguments will result in an error\n",
      "  \"will result in an error\", FutureWarning)\n"
     ]
    },
    {
     "data": {
      "text/plain": [
       "LinearRegression()"
      ]
     },
     "execution_count": 2,
     "metadata": {},
     "output_type": "execute_result"
    }
   ],
   "source": [
    "from sklearn.datasets import load_diabetes\n",
    "from sklearn.linear_model import LinearRegression\n",
    "from ebonite import Ebonite\n",
    "import ebonite\n",
    "traking_path = \"/Users/leepand/Downloads/MLOps/AlgoLink/tests/sql.db\"\n",
    "traking_path_algolink = \"sqlite:////Users/leepand/Downloads/MLOps/AlgoLink/tests/sql.db\"\n",
    "artifact_path = \"/Users/leepand/Downloads/MLOps/AlgoLink/tests/model/\"\n",
    "\n",
    "#import algolink\n",
    "#from algolink import AlgoLink\n",
    "\n",
    "X, y = load_diabetes(True)\n",
    "\n",
    "lr = LinearRegression()\n",
    "lr.fit(X, y)\n",
    "\n"
   ]
  },
  {
   "cell_type": "code",
   "execution_count": 3,
   "metadata": {},
   "outputs": [],
   "source": [
    "alink = Ebonite.custom_client('sqlalchemy', 'local',\n",
    "                               meta_kwargs={'db_uri': \"sqlite:////Users/leepand/Downloads/MLOps/AlgoLink/tests/sql22.db\"},\n",
    "                               artifact_kwargs={'path':artifact_path})\n",
    "#alink = AlgoLink.custom_client('sqlalchemy', 'local',\n",
    "#                               meta_kwargs={'db_uri': 'sqlite:///sql.db'},\n",
    "#                               artifact_kwargs={'path': './'})\n",
    "\n",
    "model = ebonite.create_model(lr, X, model_name='diabetes_model_121')\n",
    "\n",
    "task = alink.get_or_create_task('my_prj111', 'diabetes_task113')\n",
    "task.push_model(model)\n",
    "\n",
    "\n",
    "from ebonite.runtime import run_model_server\n",
    "from ebonite.ext.flask.server import FlaskServer\n",
    "#run_model_server(model, FlaskServer())"
   ]
  },
  {
   "cell_type": "code",
   "execution_count": 4,
   "metadata": {},
   "outputs": [
    {
     "name": "stdout",
     "output_type": "stream",
     "text": [
      "2021-11-05 11:49:26,043 [INFO] ebonite: Skipped building image zyfraai/flask:3.7.7: already exists\n",
      "2021-11-05 11:49:27,108 [INFO] ebonite: Built docker image ebnt_pipeline_test5:latest\n"
     ]
    }
   ],
   "source": [
    "image = alink.create_image(model, 'ebnt_pipeline_test5', server=FlaskServer(), builder_args={'force_overwrite': True})"
   ]
  },
  {
   "cell_type": "code",
   "execution_count": 5,
   "metadata": {},
   "outputs": [],
   "source": [
    "#HTTPServerConfig.port =9004\n",
    "instance = alink.create_instance(image, 'ebnt_pipeline_test20', port_mapping={9000: 9401}).run(detach=True)"
   ]
  },
  {
   "cell_type": "code",
   "execution_count": 32,
   "metadata": {},
   "outputs": [
    {
     "data": {
      "text/plain": [
       "89"
      ]
     },
     "execution_count": 32,
     "metadata": {},
     "output_type": "execute_result"
    }
   ],
   "source": [
    "def test(n):\n",
    "    return fib(n)\n",
    "test(10)"
   ]
  },
  {
   "cell_type": "code",
   "execution_count": 41,
   "metadata": {},
   "outputs": [
    {
     "data": {
      "text/plain": [
       "3"
      ]
     },
     "execution_count": 41,
     "metadata": {},
     "output_type": "execute_result"
    }
   ],
   "source": [
    "from time import sleep\n",
    "def test(x):\n",
    "    sleep(x)\n",
    "    return x\n",
    "\n",
    "test(3)"
   ]
  },
  {
   "cell_type": "code",
   "execution_count": 47,
   "metadata": {},
   "outputs": [],
   "source": [
    "def fib(n):\n",
    "\tif n == 0 or n == 1:\n",
    "\t\treturn 1\n",
    "\telse:\n",
    "\t\treturn fib(n-1) + fib(n-2)\n",
    "    \n",
    "x=2\n",
    "model = ebonite.create_model(test, x, model_name='fib11')\n"
   ]
  },
  {
   "cell_type": "code",
   "execution_count": 48,
   "metadata": {},
   "outputs": [
    {
     "data": {
      "text/plain": [
       "Model(id=5,name=fib11)"
      ]
     },
     "execution_count": 48,
     "metadata": {},
     "output_type": "execute_result"
    }
   ],
   "source": [
    "task = alink.get_or_create_task('my_prj111', 'diabetes_task117')\n",
    "task.push_model(model)"
   ]
  },
  {
   "cell_type": "code",
   "execution_count": 49,
   "metadata": {},
   "outputs": [
    {
     "name": "stdout",
     "output_type": "stream",
     "text": [
      "2021-11-04 19:56:16,946 [INFO] ebonite: Skipped building image zyfraai/flask:3.7.7: already exists\n",
      "2021-11-04 19:56:18,562 [INFO] ebonite: Built docker image fib7:latest\n"
     ]
    }
   ],
   "source": [
    "image = alink.create_image(model, 'fib7', server=FlaskServer(), builder_args={'force_overwrite': True})"
   ]
  },
  {
   "cell_type": "code",
   "execution_count": 45,
   "metadata": {},
   "outputs": [],
   "source": [
    "instance = alink.create_instance(image, 'fib7', port_mapping={9000: 9018}).run(detach=True)"
   ]
  },
  {
   "cell_type": "code",
   "execution_count": 8,
   "metadata": {},
   "outputs": [
    {
     "data": {
      "text/plain": [
       "array([2532.25644396])"
      ]
     },
     "execution_count": 8,
     "metadata": {},
     "output_type": "execute_result"
    }
   ],
   "source": [
    "from ebonite.ext.flask.client import HTTPClient\n",
    "import numpy as np\n",
    "client = HTTPClient('localhost', 9401)\n",
    "client.predict(np.array([[0., 1., 2., 3., 4., 5., 6., .7, .8, .9]]))\n"
   ]
  },
  {
   "cell_type": "code",
   "execution_count": null,
   "metadata": {},
   "outputs": [],
   "source": []
  }
 ],
 "metadata": {
  "kernelspec": {
   "display_name": "Python 3",
   "language": "python",
   "name": "python3"
  },
  "language_info": {
   "codemirror_mode": {
    "name": "ipython",
    "version": 3
   },
   "file_extension": ".py",
   "mimetype": "text/x-python",
   "name": "python",
   "nbconvert_exporter": "python",
   "pygments_lexer": "ipython3",
   "version": "3.7.7"
  }
 },
 "nbformat": 4,
 "nbformat_minor": 4
}
