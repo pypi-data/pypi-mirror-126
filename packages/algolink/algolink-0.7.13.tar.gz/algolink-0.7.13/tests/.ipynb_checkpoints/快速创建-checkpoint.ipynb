{
 "cells": [
  {
   "cell_type": "code",
   "execution_count": 14,
   "metadata": {},
   "outputs": [],
   "source": [
    "import algolink\n",
    "from algolink import AlgoLink\n",
    "\n",
    "\n",
    "alink = AlgoLink.custom_client('sqlalchemy', 'local',\n",
    "                               meta_kwargs={'db_uri': 'sqlite:///sql.db'},\n",
    "                               artifact_kwargs={'path': './'})\n",
    "\n",
    "\n",
    "\n",
    "task = alink.get_or_create_task('mltracking', 'LogServer2')\n",
    "exp = alink.get_or_create_experiment(\"mltracking\",\"LogServer2\",\"test_track7\")"
   ]
  },
  {
   "cell_type": "code",
   "execution_count": 3,
   "metadata": {},
   "outputs": [
    {
     "data": {
      "text/plain": [
       "Experiment(id=1,name=test_track5)"
      ]
     },
     "execution_count": 3,
     "metadata": {},
     "output_type": "execute_result"
    }
   ],
   "source": [
    "exp"
   ]
  },
  {
   "cell_type": "code",
   "execution_count": 10,
   "metadata": {},
   "outputs": [],
   "source": [
    "i=1\n",
    "mer=exp.add_metric('train_loss', 25.0 - i, i)\n"
   ]
  },
  {
   "cell_type": "code",
   "execution_count": 5,
   "metadata": {},
   "outputs": [],
   "source": [
    "tf_param = {}\n",
    "tf_param['model'] = 'BILSTM_Attention'\n",
    "tf_param['optimizer'] = 'adam'\n",
    "tf_param['num_classes'] = 10\n",
    "tf_param['lr'] = 0.001\n",
    "tf_param['training_steps'] = 1000000\n",
    "tf_param['display_step'] = 1\n",
    "tf_param['batch_size'] = 100\n",
    "tf_param['num_hidden'] = 128\n",
    "tf_param['embedding_dim'] = 128\n",
    "tf_param['drop_out'] = 0.5"
   ]
  },
  {
   "cell_type": "code",
   "execution_count": 11,
   "metadata": {},
   "outputs": [
    {
     "data": {
      "text/plain": [
       "ModelParam(id=20,name=drop_out)"
      ]
     },
     "execution_count": 11,
     "metadata": {},
     "output_type": "execute_result"
    }
   ],
   "source": [
    "exp.add_param(tf_param, 'tf_param')"
   ]
  },
  {
   "cell_type": "code",
   "execution_count": 12,
   "metadata": {},
   "outputs": [
    {
     "data": {
      "text/plain": [
       "BestResult(id=2,name=best_loss)"
      ]
     },
     "execution_count": 12,
     "metadata": {},
     "output_type": "execute_result"
    }
   ],
   "source": [
    "exp.add_best_result('best_loss', 2.34, 20)"
   ]
  },
  {
   "cell_type": "code",
   "execution_count": 5,
   "metadata": {},
   "outputs": [
    {
     "data": {
      "text/plain": [
       "{'model': 'BILSTM_Attention',\n",
       " 'optimizer': 'adam',\n",
       " 'num_classes': 10,\n",
       " 'lr': 0.001,\n",
       " 'training_steps': 1000000,\n",
       " 'display_step': 1,\n",
       " 'batch_size': 100,\n",
       " 'num_hidden': 128,\n",
       " 'embedding_dim': 128,\n",
       " 'drop_out': 0.5}"
      ]
     },
     "execution_count": 5,
     "metadata": {},
     "output_type": "execute_result"
    }
   ],
   "source": [
    "tf_param"
   ]
  },
  {
   "cell_type": "code",
   "execution_count": 1,
   "metadata": {},
   "outputs": [],
   "source": [
    "import algolink\n",
    "from algolink import AlgoLink\n",
    "\n",
    "\n",
    "alink = AlgoLink.custom_client('sqlalchemy', 'local',\n",
    "                               meta_kwargs={'db_uri': 'sqlite:///sql.db'},\n",
    "                               artifact_kwargs={'path': './'})\n",
    "\n",
    "\n",
    "\n",
    "task = alink.get_or_create_task('机器学习项目', '机器学习任务')\n",
    "exp = alink.get_or_create_experiment(\"机器学习项目\",\"机器学习任务\",\"test_track1\")"
   ]
  },
  {
   "cell_type": "code",
   "execution_count": 21,
   "metadata": {},
   "outputs": [],
   "source": [
    "def test_1(x):\n",
    "    #model_log = ModelTrack('test项目', 'test备注',_engine)\n",
    "    model_log = alink.get_or_create_experiment(\"mltracking\",\"LogServer\",\"test_track10\")\n",
    "    # 训练参数\n",
    "    tf_param = {}\n",
    "    tf_param['model'] = 'BILSTM_Attention22'\n",
    "    tf_param['optimizer'] = 'adam'\n",
    "    tf_param['num_classes'] = 10\n",
    "    tf_param['lr'] = 0.001\n",
    "    tf_param['training_steps'] = 1000000\n",
    "    tf_param['display_step'] = 1\n",
    "    tf_param['batch_size'] = 100\n",
    "    tf_param['num_hidden'] = 128\n",
    "    tf_param['embedding_dim'] = 128\n",
    "    tf_param['drop_out'] = 0.5\n",
    "    #model_log.add_model_name('bilstm_crf')\n",
    "    #model_log.add_model_remark('bilstm_crf备注')\n",
    "    model_log.add_param(tf_param, 'tf_param')\n",
    "    for i in range(1, 21):\n",
    "        model_log.add_metric('train_loss', 25.0 - i, i)\n",
    "        model_log.add_metric('test_loss', 24.0 - i, i)\n",
    "        model_log.add_metric('test_acc', 0.3 + 0.02 * i, i)\n",
    "    model_log.add_best_result('best_loss', 2.34, 20)\n",
    "    model_log.add_best_result('best_acc', 0.99, 20)\n",
    "    model_log.add_best_result(\"best_precision\", 0.8315,20)\n",
    "    model_log.add_best_result(\"best_F1\", 0.8615,20)\n",
    "    model_log.add_best_result(\"best_step\", 20.0,20)\n",
    "    \n",
    "test_1(\"x\")"
   ]
  },
  {
   "cell_type": "code",
   "execution_count": null,
   "metadata": {},
   "outputs": [],
   "source": [
    "def test_1(epoch):\n",
    "    model_log = alink.get_or_create_experiment(\"mltracking\",\"LogServer\",\"test_track10\")\n",
    "    # 训练参数\n",
    "    tf_param = {}\n",
    "    tf_param['model'] = 'BILSTM_CRF模型'\n",
    "    tf_param['optimizer'] = 'adam'\n",
    "    tf_param['num_classes'] = 10\n",
    "    tf_param['lr'] = 0.001\n",
    "    tf_param['training_steps'] = 1000000\n",
    "    tf_param['display_step'] = 1\n",
    "    tf_param['batch_size'] = 100\n",
    "    tf_param['num_hidden'] = 128\n",
    "    tf_param['embedding_dim'] = 128\n",
    "    tf_param['drop_out'] = 0.5\n",
    "    #model_log.add_model_name('bilstm_crf')\n",
    "    #model_log.add_model_remark('bilstm_crf备注')\n",
    "    model_log.add_param(tf_param, 'tf_param')\n",
    "    for i in range(1, epoch):\n",
    "        model_log.add_metric('train_loss', 25.0 - i, i)\n",
    "        model_log.add_metric('test_loss', 24.0 - i, i)\n",
    "        model_log.add_metric('test_acc', 0.3 + 0.02 * i, i)\n",
    "    model_log.add_best_result('best_loss', 2.34, 20)\n",
    "    model_log.add_best_result('best_acc', 0.99, 20)\n",
    "    model_log.add_best_result(\"best_precision\", 0.8315,20)\n",
    "    model_log.add_best_result(\"best_F1\", 0.8615,20)\n",
    "    model_log.add_best_result(\"best_step\", 20.0,20)\n",
    "    \n",
    "test_1(20)"
   ]
  }
 ],
 "metadata": {
  "kernelspec": {
   "display_name": "Python 3",
   "language": "python",
   "name": "python3"
  },
  "language_info": {
   "codemirror_mode": {
    "name": "ipython",
    "version": 3
   },
   "file_extension": ".py",
   "mimetype": "text/x-python",
   "name": "python",
   "nbconvert_exporter": "python",
   "pygments_lexer": "ipython3",
   "version": "3.7.7"
  }
 },
 "nbformat": 4,
 "nbformat_minor": 4
}
