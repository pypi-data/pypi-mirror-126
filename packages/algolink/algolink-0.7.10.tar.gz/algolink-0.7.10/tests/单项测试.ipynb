{
 "cells": [
  {
   "cell_type": "code",
   "execution_count": 1,
   "metadata": {},
   "outputs": [],
   "source": [
    "import algolink\n",
    "from algolink import AlgoLink"
   ]
  },
  {
   "cell_type": "code",
   "execution_count": 2,
   "metadata": {},
   "outputs": [],
   "source": [
    "alink = AlgoLink.custom_client('sqlalchemy', 'local',\n",
    "                               meta_kwargs={'db_uri': 'sqlite:///sql.db'},\n",
    "                               artifact_kwargs={'path': './'})"
   ]
  },
  {
   "cell_type": "code",
   "execution_count": 4,
   "metadata": {},
   "outputs": [],
   "source": [
    "task = alink.get_or_create_task('mltracking', 'my_task_tracking2')"
   ]
  },
  {
   "cell_type": "code",
   "execution_count": 5,
   "metadata": {},
   "outputs": [],
   "source": [
    "exp = alink.get_or_create_experiment(\"mltracking\",\"my_task_tracking\",\"test_track5\")"
   ]
  },
  {
   "cell_type": "code",
   "execution_count": 5,
   "metadata": {},
   "outputs": [
    {
     "data": {
      "text/plain": [
       "algolink.core.objects.core.Experiment"
      ]
     },
     "execution_count": 5,
     "metadata": {},
     "output_type": "execute_result"
    }
   ],
   "source": [
    "type(exp)"
   ]
  },
  {
   "cell_type": "code",
   "execution_count": 5,
   "metadata": {},
   "outputs": [
    {
     "data": {
      "text/plain": [
       "Experiment(id=1,name=test_track5)"
      ]
     },
     "execution_count": 5,
     "metadata": {},
     "output_type": "execute_result"
    }
   ],
   "source": [
    "exp"
   ]
  },
  {
   "cell_type": "code",
   "execution_count": 6,
   "metadata": {},
   "outputs": [
    {
     "ename": "NameError",
     "evalue": "name 'ExistingModelMetricError' is not defined",
     "output_type": "error",
     "traceback": [
      "\u001b[0;31m--------------------------------------------------------------\u001b[0m",
      "\u001b[0;31mNameError\u001b[0m                    Traceback (most recent call last)",
      "\u001b[0;32m<ipython-input-6-58669fad85d3>\u001b[0m in \u001b[0;36m<module>\u001b[0;34m\u001b[0m\n\u001b[1;32m      1\u001b[0m \u001b[0mi\u001b[0m\u001b[0;34m=\u001b[0m\u001b[0;36m1\u001b[0m\u001b[0;34m\u001b[0m\u001b[0;34m\u001b[0m\u001b[0m\n\u001b[0;32m----> 2\u001b[0;31m \u001b[0mmer\u001b[0m\u001b[0;34m=\u001b[0m\u001b[0mexp\u001b[0m\u001b[0;34m.\u001b[0m\u001b[0madd_metric\u001b[0m\u001b[0;34m(\u001b[0m\u001b[0;34m'train_loss'\u001b[0m\u001b[0;34m,\u001b[0m \u001b[0;36m25.0\u001b[0m \u001b[0;34m-\u001b[0m \u001b[0mi\u001b[0m\u001b[0;34m,\u001b[0m \u001b[0mi\u001b[0m\u001b[0;34m)\u001b[0m\u001b[0;34m\u001b[0m\u001b[0;34m\u001b[0m\u001b[0m\n\u001b[0m\u001b[1;32m      3\u001b[0m \u001b[0;34m\u001b[0m\u001b[0m\n\u001b[1;32m      4\u001b[0m \u001b[0mpprint\u001b[0m\u001b[0;34m(\u001b[0m\u001b[0mserialize\u001b[0m\u001b[0;34m(\u001b[0m\u001b[0mmer\u001b[0m\u001b[0;34m)\u001b[0m\u001b[0;34m)\u001b[0m\u001b[0;34m\u001b[0m\u001b[0;34m\u001b[0m\u001b[0m\n",
      "\u001b[0;32m~/miniconda3/lib/python3.7/site-packages/algolink/core/objects/core.py\u001b[0m in \u001b[0;36minner\u001b[0;34m(self, *args, **kwargs)\u001b[0m\n\u001b[1;32m    207\u001b[0m         \u001b[0;32mdef\u001b[0m \u001b[0minner\u001b[0m\u001b[0;34m(\u001b[0m\u001b[0mself\u001b[0m\u001b[0;34m:\u001b[0m \u001b[0mAlgoLinkObject\u001b[0m\u001b[0;34m,\u001b[0m \u001b[0;34m*\u001b[0m\u001b[0margs\u001b[0m\u001b[0;34m,\u001b[0m \u001b[0;34m**\u001b[0m\u001b[0mkwargs\u001b[0m\u001b[0;34m)\u001b[0m\u001b[0;34m:\u001b[0m\u001b[0;34m\u001b[0m\u001b[0;34m\u001b[0m\u001b[0m\n\u001b[1;32m    208\u001b[0m             \u001b[0mself\u001b[0m\u001b[0;34m.\u001b[0m\u001b[0m_check_meta\u001b[0m\u001b[0;34m(\u001b[0m\u001b[0msaved\u001b[0m\u001b[0;34m)\u001b[0m\u001b[0;34m\u001b[0m\u001b[0;34m\u001b[0m\u001b[0m\n\u001b[0;32m--> 209\u001b[0;31m             \u001b[0;32mreturn\u001b[0m \u001b[0mmethod\u001b[0m\u001b[0;34m(\u001b[0m\u001b[0mself\u001b[0m\u001b[0;34m,\u001b[0m \u001b[0;34m*\u001b[0m\u001b[0margs\u001b[0m\u001b[0;34m,\u001b[0m \u001b[0;34m**\u001b[0m\u001b[0mkwargs\u001b[0m\u001b[0;34m)\u001b[0m\u001b[0;34m\u001b[0m\u001b[0;34m\u001b[0m\u001b[0m\n\u001b[0m\u001b[1;32m    210\u001b[0m \u001b[0;34m\u001b[0m\u001b[0m\n\u001b[1;32m    211\u001b[0m         \u001b[0;32mreturn\u001b[0m \u001b[0minner\u001b[0m\u001b[0;34m\u001b[0m\u001b[0;34m\u001b[0m\u001b[0m\n",
      "\u001b[0;32m~/miniconda3/lib/python3.7/site-packages/algolink/core/objects/core.py\u001b[0m in \u001b[0;36madd_metric\u001b[0;34m(self, metric_name, metric_value, epoch)\u001b[0m\n\u001b[1;32m   1883\u001b[0m         \u001b[0mmetric\u001b[0m\u001b[0;34m.\u001b[0m\u001b[0mexperiment_id\u001b[0m \u001b[0;34m=\u001b[0m \u001b[0mself\u001b[0m\u001b[0;34m.\u001b[0m\u001b[0mid\u001b[0m\u001b[0;34m\u001b[0m\u001b[0;34m\u001b[0m\u001b[0m\n\u001b[1;32m   1884\u001b[0m         \u001b[0;31m## 持久化至数据库\u001b[0m\u001b[0;34m\u001b[0m\u001b[0;34m\u001b[0m\u001b[0;34m\u001b[0m\u001b[0m\n\u001b[0;32m-> 1885\u001b[0;31m         \u001b[0mself\u001b[0m\u001b[0;34m.\u001b[0m\u001b[0m_meta\u001b[0m\u001b[0;34m.\u001b[0m\u001b[0msave_metric\u001b[0m\u001b[0;34m(\u001b[0m\u001b[0mmetric\u001b[0m\u001b[0;34m)\u001b[0m\u001b[0;34m\u001b[0m\u001b[0;34m\u001b[0m\u001b[0m\n\u001b[0m\u001b[1;32m   1886\u001b[0m         \u001b[0;31m#self._modelmatrics.add(metric)\u001b[0m\u001b[0;34m\u001b[0m\u001b[0;34m\u001b[0m\u001b[0;34m\u001b[0m\u001b[0m\n\u001b[1;32m   1887\u001b[0m         \u001b[0;32mreturn\u001b[0m \u001b[0mmetric\u001b[0m\u001b[0;34m.\u001b[0m\u001b[0mbind_as\u001b[0m\u001b[0;34m(\u001b[0m\u001b[0mself\u001b[0m\u001b[0;34m)\u001b[0m\u001b[0;34m\u001b[0m\u001b[0;34m\u001b[0m\u001b[0m\n",
      "\u001b[0;32m~/miniconda3/lib/python3.7/site-packages/algolink/repository/metadata/base.py\u001b[0m in \u001b[0;36msave_metric\u001b[0;34m(self, metric)\u001b[0m\n\u001b[1;32m    867\u001b[0m         \u001b[0;32melif\u001b[0m \u001b[0mexisting_metric\u001b[0m \u001b[0;32mis\u001b[0m \u001b[0;32mnot\u001b[0m \u001b[0;32mNone\u001b[0m\u001b[0;34m:\u001b[0m\u001b[0;34m\u001b[0m\u001b[0;34m\u001b[0m\u001b[0m\n\u001b[1;32m    868\u001b[0m             \u001b[0;32mif\u001b[0m \u001b[0mmetric\u001b[0m\u001b[0;34m.\u001b[0m\u001b[0mid\u001b[0m \u001b[0;32mis\u001b[0m \u001b[0;32mNone\u001b[0m \u001b[0;32mor\u001b[0m \u001b[0mexisting_metric\u001b[0m\u001b[0;34m.\u001b[0m\u001b[0mid\u001b[0m \u001b[0;34m!=\u001b[0m \u001b[0mmetric\u001b[0m\u001b[0;34m.\u001b[0m\u001b[0mid\u001b[0m\u001b[0;34m:\u001b[0m\u001b[0;34m\u001b[0m\u001b[0;34m\u001b[0m\u001b[0m\n\u001b[0;32m--> 869\u001b[0;31m                 \u001b[0;32mraise\u001b[0m \u001b[0merrors\u001b[0m\u001b[0;34m.\u001b[0m\u001b[0mExistingMetricError\u001b[0m\u001b[0;34m(\u001b[0m\u001b[0mexisting_metric\u001b[0m\u001b[0;34m)\u001b[0m\u001b[0;34m\u001b[0m\u001b[0;34m\u001b[0m\u001b[0m\n\u001b[0m\u001b[1;32m    870\u001b[0m         \u001b[0;32mreturn\u001b[0m \u001b[0mself\u001b[0m\u001b[0;34m.\u001b[0m\u001b[0mupdate_metric\u001b[0m\u001b[0;34m(\u001b[0m\u001b[0mmetric\u001b[0m\u001b[0;34m)\u001b[0m\u001b[0;34m\u001b[0m\u001b[0;34m\u001b[0m\u001b[0m\n\u001b[1;32m    871\u001b[0m \u001b[0;34m\u001b[0m\u001b[0m\n",
      "\u001b[0;32m~/miniconda3/lib/python3.7/site-packages/algolink/core/errors.py\u001b[0m in \u001b[0;36m__init__\u001b[0;34m(self, modelmetric)\u001b[0m\n\u001b[1;32m     61\u001b[0m     \u001b[0;32mdef\u001b[0m \u001b[0m__init__\u001b[0m\u001b[0;34m(\u001b[0m\u001b[0mself\u001b[0m\u001b[0;34m,\u001b[0m \u001b[0mmodelmetric\u001b[0m\u001b[0;34m:\u001b[0m \u001b[0mModelMetricIntStr\u001b[0m\u001b[0;34m)\u001b[0m\u001b[0;34m:\u001b[0m\u001b[0;34m\u001b[0m\u001b[0;34m\u001b[0m\u001b[0m\n\u001b[1;32m     62\u001b[0m         \u001b[0mmodelmetric\u001b[0m \u001b[0;34m=\u001b[0m \u001b[0mmodelmetric\u001b[0m\u001b[0;34m.\u001b[0m\u001b[0mname\u001b[0m \u001b[0;32mif\u001b[0m \u001b[0misinstance\u001b[0m\u001b[0;34m(\u001b[0m\u001b[0mmodelmetric\u001b[0m\u001b[0;34m,\u001b[0m \u001b[0mModelMetric\u001b[0m\u001b[0;34m)\u001b[0m \u001b[0;32melse\u001b[0m \u001b[0mmodelmetric\u001b[0m\u001b[0;34m\u001b[0m\u001b[0;34m\u001b[0m\u001b[0m\n\u001b[0;32m---> 63\u001b[0;31m         \u001b[0msuper\u001b[0m\u001b[0;34m(\u001b[0m\u001b[0mExistingModelMetricError\u001b[0m\u001b[0;34m,\u001b[0m \u001b[0mself\u001b[0m\u001b[0;34m)\u001b[0m\u001b[0;34m.\u001b[0m\u001b[0m__init__\u001b[0m\u001b[0;34m(\u001b[0m\u001b[0;34m'ModelMetric with name \"{}\" already exists'\u001b[0m\u001b[0;34m.\u001b[0m\u001b[0mformat\u001b[0m\u001b[0;34m(\u001b[0m\u001b[0mmodelmetric\u001b[0m\u001b[0;34m)\u001b[0m\u001b[0;34m)\u001b[0m\u001b[0;34m\u001b[0m\u001b[0;34m\u001b[0m\u001b[0m\n\u001b[0m\u001b[1;32m     64\u001b[0m \u001b[0;34m\u001b[0m\u001b[0m\n\u001b[1;32m     65\u001b[0m \u001b[0;32mclass\u001b[0m \u001b[0mNonExistingTaskError\u001b[0m\u001b[0;34m(\u001b[0m\u001b[0mMetadataError\u001b[0m\u001b[0;34m)\u001b[0m\u001b[0;34m:\u001b[0m\u001b[0;34m\u001b[0m\u001b[0;34m\u001b[0m\u001b[0m\n",
      "\u001b[0;31mNameError\u001b[0m: name 'ExistingModelMetricError' is not defined"
     ]
    }
   ],
   "source": [
    "i=1\n",
    "mer=exp.add_metric('train_loss', 25.0 - i, i)\n",
    "\n",
    "pprint(serialize(mer))"
   ]
  },
  {
   "cell_type": "code",
   "execution_count": 1,
   "metadata": {},
   "outputs": [
    {
     "ename": "NameError",
     "evalue": "name 'exp' is not defined",
     "output_type": "error",
     "traceback": [
      "\u001b[0;31m--------------------------------------------------------------\u001b[0m",
      "\u001b[0;31mNameError\u001b[0m                    Traceback (most recent call last)",
      "\u001b[0;32m<ipython-input-1-07ae21b1dcf8>\u001b[0m in \u001b[0;36m<module>\u001b[0;34m\u001b[0m\n\u001b[1;32m      2\u001b[0m \u001b[0;32mfrom\u001b[0m \u001b[0mpyjackson\u001b[0m \u001b[0;32mimport\u001b[0m \u001b[0mserialize\u001b[0m\u001b[0;34m\u001b[0m\u001b[0;34m\u001b[0m\u001b[0m\n\u001b[1;32m      3\u001b[0m \u001b[0;34m\u001b[0m\u001b[0m\n\u001b[0;32m----> 4\u001b[0;31m \u001b[0mpprint\u001b[0m\u001b[0;34m(\u001b[0m\u001b[0mserialize\u001b[0m\u001b[0;34m(\u001b[0m\u001b[0mexp\u001b[0m\u001b[0;34m)\u001b[0m\u001b[0;34m)\u001b[0m\u001b[0;34m\u001b[0m\u001b[0;34m\u001b[0m\u001b[0m\n\u001b[0m",
      "\u001b[0;31mNameError\u001b[0m: name 'exp' is not defined"
     ]
    }
   ],
   "source": [
    "from pprint import pprint\n",
    "from pyjackson import serialize\n",
    "\n",
    "pprint(serialize(exp))"
   ]
  },
  {
   "cell_type": "code",
   "execution_count": 2,
   "metadata": {},
   "outputs": [
    {
     "data": {
      "text/plain": [
       "2"
      ]
     },
     "execution_count": 2,
     "metadata": {},
     "output_type": "execute_result"
    }
   ],
   "source": [
    "from algolink.ext.sqlalchemy.repository import SQLAlchemyMetaRepository\n",
    " \n",
    "\n",
    "test = SQLAlchemyMetaRepository(db_uri=\"sqlite:///sql.db\")\n",
    "rr = test.get_experiment_sequence(2)\n",
    "rr\n",
    "#pprint(serialize(rr))"
   ]
  },
  {
   "cell_type": "code",
   "execution_count": 6,
   "metadata": {},
   "outputs": [
    {
     "name": "stdout",
     "output_type": "stream",
     "text": [
      "Writing sqlalchemy_paginator/__init__.py\n"
     ]
    }
   ],
   "source": [
    "%%file sqlalchemy_paginator/__init__.py\n",
    "__version__=\"0.7.1\""
   ]
  },
  {
   "cell_type": "code",
   "execution_count": 11,
   "metadata": {},
   "outputs": [
    {
     "name": "stdout",
     "output_type": "stream",
     "text": [
      "Looking in indexes: https://pypi.tuna.tsinghua.edu.cn/simple\n",
      "Collecting SQLAlchemy-Paginator\n",
      "  Downloading https://pypi.tuna.tsinghua.edu.cn/packages/d7/92/18aeeba448c13900caaabd229324d0e8ca0556177c669dc235c97e042cbd/SQLAlchemy-Paginator-0.2.tar.gz (4.6 kB)\n",
      "Building wheels for collected packages: SQLAlchemy-Paginator\n",
      "  Building wheel for SQLAlchemy-Paginator (setup.py) ... \u001b[?25ldone\n",
      "\u001b[?25h  Created wheel for SQLAlchemy-Paginator: filename=SQLAlchemy_Paginator-0.2-py3-none-any.whl size=5581 sha256=7a37ab8fc8e43ad726daf620a00455c99ffb37a36e0c865e3bedc33df048b900\n",
      "  Stored in directory: /Users/leepand/Library/Caches/pip/wheels/f5/d3/e4/af33067c4e33698213b744ae94c64e2be481588788b0fb3d60\n",
      "Successfully built SQLAlchemy-Paginator\n",
      "Installing collected packages: SQLAlchemy-Paginator\n",
      "Successfully installed SQLAlchemy-Paginator-0.2\n"
     ]
    }
   ],
   "source": [
    "!pip install SQLAlchemy-Paginator -i https://pypi.tuna.tsinghua.edu.cn/simple"
   ]
  },
  {
   "cell_type": "code",
   "execution_count": 12,
   "metadata": {},
   "outputs": [
    {
     "ename": "SyntaxError",
     "evalue": "invalid syntax (<ipython-input-12-df1229f776c3>, line 1)",
     "output_type": "error",
     "traceback": [
      "\u001b[0;36m  File \u001b[0;32m\"<ipython-input-12-df1229f776c3>\"\u001b[0;36m, line \u001b[0;32m1\u001b[0m\n\u001b[0;31m    :Example1:\u001b[0m\n\u001b[0m    ^\u001b[0m\n\u001b[0;31mSyntaxError\u001b[0m\u001b[0;31m:\u001b[0m invalid syntax\n"
     ]
    }
   ],
   "source": [
    "       :Example1:\n",
    "        >>> from sqlalchemy_paginator import Paginator\n",
    "        >>> query = session.query(MyModel)\n",
    "        >>> paginator = Paginator(query, 5)\n",
    "        >>> for page in paginator:\n",
    "        >>>     print page.number  # page number of current page in iterator\n",
    "        >>>     print page.object_list[0]  # this is a list that contains the records of current page\n",
    "        \n",
    "        :Example2:\n",
    "        >>> from sqlalchemy_paginator import Paginator\n",
    "        >>> query = session.query(MyModel)\n",
    "        >>> paginator = Paginator(query, 5)\n",
    "        >>> page = paginator.page(page_number)\n",
    "        >>> print page.paginator.count  # to get total number of records against given query\n",
    "        >>> print page.paginator.total_pages  # to get total number of pages\n",
    "        >>> print page.paginator.pages_range  # to get range of pages in list\n",
    "        >>> print page.start_index  # to get index of the first object on this page\n",
    "        >>> print page.end_index  # to get index of the last object on this page\n",
    "        >>> if page.has_previous():\n",
    "        >>>     print page.previous_page_number  # to get previous page number\n",
    "        >>> if page.has_next():\n",
    "        >>>     print page.next_page_number"
   ]
  },
  {
   "cell_type": "code",
   "execution_count": 45,
   "metadata": {},
   "outputs": [
    {
     "name": "stdout",
     "output_type": "stream",
     "text": [
      "2021-10-17 10:15:19.662195\n",
      "6\n",
      "[{'name': 'best_F1', 'best_epoch': 20, 'best_value': 0.8615, 'id': 11, 'experiment_id': 1, 'author': 'leepand', 'creation_date': '2021-10-17 10:15:19.662195 '}, {'name': 'best_step', 'best_epoch': 20, 'best_value': 20.0, 'id': 12, 'experiment_id': 1, 'author': 'leepand', 'creation_date': '2021-10-17 10:15:19.672819 '}, {'name': 'best_loss', 'best_epoch': 20, 'best_value': 2.34, 'id': 13, 'experiment_id': 3, 'author': 'leepand', 'creation_date': '2021-10-17 10:17:58.510728 '}, {'name': 'best_acc', 'best_epoch': 20, 'best_value': 0.99, 'id': 14, 'experiment_id': 3, 'author': 'leepand', 'creation_date': '2021-10-17 10:17:58.515548 '}, {'name': 'best_precision', 'best_epoch': 20, 'best_value': 0.8315, 'id': 15, 'experiment_id': 3, 'author': 'leepand', 'creation_date': '2021-10-17 10:17:58.519381 '}]\n"
     ]
    }
   ],
   "source": [
    "from algolink.ext.sqlalchemy.models import SProject,TBestresult\n",
    "from sqlalchemy_paginator import Paginator\n",
    "page_number = 1\n",
    "from pyjackson import deserialize, serialize\n",
    "\n",
    "with test._session() as s:\n",
    "    q = s.query(TBestresult)\n",
    "    paginator = Paginator(q, 5)\n",
    "    page = paginator.page(3)\n",
    "    print(page.object_list[0].creation_date)\n",
    "    print(page.paginator.total_pages)\n",
    "    ff = [serialize(o.to_obj()) for o in page.object_list]\n",
    "    print(ff)\n",
    "    #page = paginator.page(page_number)\n",
    "    #for page in paginator:\n",
    "    #    print(page.object_list)"
   ]
  },
  {
   "cell_type": "code",
   "execution_count": 12,
   "metadata": {},
   "outputs": [
    {
     "data": {
      "text/plain": [
       "Experiment(id=1,name=test_track5)"
      ]
     },
     "execution_count": 12,
     "metadata": {},
     "output_type": "execute_result"
    }
   ],
   "source": [
    "test.get_experiment_by_name(2,\"test_track5\")"
   ]
  },
  {
   "cell_type": "code",
   "execution_count": 5,
   "metadata": {},
   "outputs": [],
   "source": [
    "hh = test.get_metric_by_name_epoch(1,'train_loss',1)"
   ]
  },
  {
   "cell_type": "code",
   "execution_count": 6,
   "metadata": {},
   "outputs": [
    {
     "name": "stdout",
     "output_type": "stream",
     "text": [
      "{'author': 'leepand',\n",
      " 'creation_date': '2021-10-14 02:22:08.851883 ',\n",
      " 'epoch': 1,\n",
      " 'experiment_id': 1,\n",
      " 'id': 1,\n",
      " 'metric_type': 'metric_type',\n",
      " 'metric_value': 24.0,\n",
      " 'name': 'train_loss'}\n"
     ]
    }
   ],
   "source": [
    "pprint(serialize(hh))"
   ]
  },
  {
   "cell_type": "code",
   "execution_count": 13,
   "metadata": {},
   "outputs": [
    {
     "ename": "TypeError",
     "evalue": "_get_object_by_name() argument after ** must be a mapping, not set",
     "output_type": "error",
     "traceback": [
      "\u001b[0;31m--------------------------------------------------------------\u001b[0m",
      "\u001b[0;31mTypeError\u001b[0m                    Traceback (most recent call last)",
      "\u001b[0;32m<ipython-input-13-c60c1a4f8b6f>\u001b[0m in \u001b[0;36m<module>\u001b[0;34m\u001b[0m\n\u001b[1;32m      7\u001b[0m }\n\u001b[1;32m      8\u001b[0m \u001b[0;34m\u001b[0m\u001b[0m\n\u001b[0;32m----> 9\u001b[0;31m \u001b[0mf\u001b[0m\u001b[0;34m=\u001b[0m\u001b[0mtest\u001b[0m\u001b[0;34m.\u001b[0m\u001b[0m_get_object_by_name\u001b[0m\u001b[0;34m(\u001b[0m\u001b[0mTModelmetric\u001b[0m\u001b[0;34m,\u001b[0m \u001b[0;34m\"train_loss\"\u001b[0m\u001b[0;34m,\u001b[0m \u001b[0;34m**\u001b[0m\u001b[0mfilters\u001b[0m\u001b[0;34m)\u001b[0m\u001b[0;34m\u001b[0m\u001b[0;34m\u001b[0m\u001b[0m\n\u001b[0m\u001b[1;32m     10\u001b[0m \u001b[0;34m\u001b[0m\u001b[0m\n\u001b[1;32m     11\u001b[0m \u001b[0;34m\u001b[0m\u001b[0m\n",
      "\u001b[0;31mTypeError\u001b[0m: _get_object_by_name() argument after ** must be a mapping, not set"
     ]
    }
   ],
   "source": [
    "from algolink.ext.sqlalchemy.models import TModelmetric\n",
    "\n",
    "\n",
    "filters = {\n",
    "     TModelmetric.experiment_id == 1,\n",
    "     TModelmetric.epoch== 2\n",
    "}\n",
    "\n",
    "f=test._get_object_by_name(TModelmetric, \"train_loss\", **filters)\n",
    "\n",
    "\n",
    "pprint(serialize(f))"
   ]
  },
  {
   "cell_type": "code",
   "execution_count": 9,
   "metadata": {},
   "outputs": [
    {
     "data": {
      "text/plain": [
       "[Experiment(id=1,name=test_track5),\n",
       " Experiment(id=2,name=test_track6),\n",
       " Experiment(id=3,name=test_track7)]"
      ]
     },
     "execution_count": 9,
     "metadata": {},
     "output_type": "execute_result"
    }
   ],
   "source": [
    "from algolink.ext.sqlalchemy.models import Attaching,TExperiment,STask,ModelParam\n",
    "\n",
    "test._get_objects(TExperiment,TExperiment.id==2)\n"
   ]
  },
  {
   "cell_type": "code",
   "execution_count": null,
   "metadata": {},
   "outputs": [],
   "source": []
  }
 ],
 "metadata": {
  "kernelspec": {
   "display_name": "Python 3",
   "language": "python",
   "name": "python3"
  },
  "language_info": {
   "codemirror_mode": {
    "name": "ipython",
    "version": 3
   },
   "file_extension": ".py",
   "mimetype": "text/x-python",
   "name": "python",
   "nbconvert_exporter": "python",
   "pygments_lexer": "ipython3",
   "version": "3.7.7"
  }
 },
 "nbformat": 4,
 "nbformat_minor": 4
}
