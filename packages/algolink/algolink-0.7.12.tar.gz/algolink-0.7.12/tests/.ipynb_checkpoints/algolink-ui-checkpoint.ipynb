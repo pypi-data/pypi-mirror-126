{
 "cells": [
  {
   "cell_type": "code",
   "execution_count": null,
   "metadata": {},
   "outputs": [],
   "source": [
    "from sqlalchemy import create_engine\n",
    "from sqlalchemy.exc import IntegrityError\n",
    "from sqlalchemy.orm import Session, sessionmaker\n",
    "\n",
    "from algolink.exp.sqlalchemy.models import Base\n",
    "\n",
    "class SQLAlchemyMetaRepository(object):\n",
    "    \"\"\"\n",
    "    :class:`.MetadataRepository` implementation which stores metadata in SQL database via `sqlalchemy` library.\n",
    "\n",
    "    :param db_uri: URI of SQL database to connect to\n",
    "    \"\"\"\n",
    "\n",
    "    type = 'sqlalchemy'\n",
    "    def __init__(self, db_uri: str):\n",
    "        self.db_uri = db_uri\n",
    "        self._engine = create_engine(db_uri)\n",
    "        Base.metadata.create_all(self._engine)\n",
    "        self._Session = sessionmaker(bind=self._engine)\n",
    "        self._active_session = None\n",
    "\n",
    "    @contextlib.contextmanager\n",
    "    def _session(self) -> Session:\n",
    "        if self._active_session is None:\n",
    "            logger.debug('Creating session for %s', self.db_uri)\n",
    "            self._active_session = self._Session()\n",
    "            new_session = True\n",
    "        else:\n",
    "            new_session = False\n",
    "\n",
    "        try:\n",
    "            yield self._active_session\n",
    "\n",
    "            if new_session:\n",
    "                self._active_session.commit()\n",
    "        except:  # noqa\n",
    "            if new_session:\n",
    "                self._active_session.rollback()\n",
    "            raise\n",
    "        finally:\n",
    "            if new_session:\n",
    "                self._active_session.close()\n",
    "                self._active_session = None\n",
    "                \n",
    "    def _get_objects(self, object_type: Type[Attaching], add_filter=None) -> List:\n",
    "        with self._session() as s:\n",
    "            if add_filter is None:\n",
    "                logger.debug('Getting %ss', object_type.__name__)\n",
    "            else:\n",
    "                logger.debug('Getting %ss with filter %s', object_type.__name__, add_filter)\n",
    "            q = s.query(object_type)\n",
    "            if add_filter:\n",
    "                q = q.filter(add_filter)\n",
    "            return [o.to_obj() for o in q.all()]"
   ]
  },
  {
   "cell_type": "code",
   "execution_count": 3,
   "metadata": {},
   "outputs": [
    {
     "ename": "ValueError",
     "evalue": "Cant register <class '__main__.AlgoLinkUI'> as __main__.AlgoLinkUI. Subtype <class '__main__.AlgoLinkUI'> is already registered",
     "output_type": "error",
     "traceback": [
      "\u001b[0;31m--------------------------------------------------------------\u001b[0m",
      "\u001b[0;31mValueError\u001b[0m                   Traceback (most recent call last)",
      "\u001b[0;32m<ipython-input-3-685148ecb192>\u001b[0m in \u001b[0;36m<module>\u001b[0;34m\u001b[0m\n\u001b[1;32m      3\u001b[0m \u001b[0;32mfrom\u001b[0m \u001b[0malgolink\u001b[0m\u001b[0;34m.\u001b[0m\u001b[0mext\u001b[0m\u001b[0;34m.\u001b[0m\u001b[0msqlalchemy\u001b[0m\u001b[0;34m.\u001b[0m\u001b[0mmodels\u001b[0m \u001b[0;32mimport\u001b[0m \u001b[0mAttaching\u001b[0m\u001b[0;34m,\u001b[0m\u001b[0mTExperiment\u001b[0m\u001b[0;34m\u001b[0m\u001b[0;34m\u001b[0m\u001b[0m\n\u001b[1;32m      4\u001b[0m \u001b[0;34m\u001b[0m\u001b[0m\n\u001b[0;32m----> 5\u001b[0;31m \u001b[0;32mclass\u001b[0m \u001b[0mAlgoLinkUI\u001b[0m\u001b[0;34m(\u001b[0m\u001b[0mSQLAlchemyMetaRepository\u001b[0m\u001b[0;34m)\u001b[0m\u001b[0;34m:\u001b[0m\u001b[0;34m\u001b[0m\u001b[0;34m\u001b[0m\u001b[0m\n\u001b[0m\u001b[1;32m      6\u001b[0m     \u001b[0;32mdef\u001b[0m \u001b[0m__init__\u001b[0m\u001b[0;34m(\u001b[0m\u001b[0mself\u001b[0m\u001b[0;34m,\u001b[0m\u001b[0mdb_uri\u001b[0m\u001b[0;34m:\u001b[0m \u001b[0mstr\u001b[0m\u001b[0;34m)\u001b[0m\u001b[0;34m:\u001b[0m\u001b[0;34m\u001b[0m\u001b[0;34m\u001b[0m\u001b[0m\n\u001b[1;32m      7\u001b[0m         \u001b[0msuper\u001b[0m\u001b[0;34m(\u001b[0m\u001b[0;34m)\u001b[0m\u001b[0;34m.\u001b[0m\u001b[0m__init__\u001b[0m\u001b[0;34m(\u001b[0m\u001b[0mdb_uri\u001b[0m\u001b[0;34m)\u001b[0m\u001b[0;34m\u001b[0m\u001b[0;34m\u001b[0m\u001b[0m\n",
      "\u001b[0;32m~/miniconda3/lib/python3.7/site-packages/pyjackson/decorators.py\u001b[0m in \u001b[0;36m__init_subclass__\u001b[0;34m(cls, **kwargs)\u001b[0m\n\u001b[1;32m    106\u001b[0m                         \u001b[0;32mraise\u001b[0m \u001b[0mValueError\u001b[0m\u001b[0;34m(\u001b[0m\u001b[0mmsg\u001b[0m\u001b[0;34m)\u001b[0m\u001b[0;34m\u001b[0m\u001b[0;34m\u001b[0m\u001b[0m\n\u001b[1;32m    107\u001b[0m                 \u001b[0;32melif\u001b[0m \u001b[0mexisting\u001b[0m \u001b[0;34m!=\u001b[0m \u001b[0mcls\u001b[0m \u001b[0;32mand\u001b[0m \u001b[0;32mnot\u001b[0m \u001b[0mallow_reregistration\u001b[0m\u001b[0;34m:\u001b[0m  \u001b[0;31m# it's not serializer and different class\u001b[0m\u001b[0;34m\u001b[0m\u001b[0;34m\u001b[0m\u001b[0m\n\u001b[0;32m--> 108\u001b[0;31m                     \u001b[0;32mraise\u001b[0m \u001b[0mValueError\u001b[0m\u001b[0;34m(\u001b[0m\u001b[0mmsg\u001b[0m\u001b[0;34m)\u001b[0m\u001b[0;34m\u001b[0m\u001b[0;34m\u001b[0m\u001b[0m\n\u001b[0m\u001b[1;32m    109\u001b[0m             \u001b[0mSubtypeRegisterMixin\u001b[0m\u001b[0;34m.\u001b[0m\u001b[0m_subtypes\u001b[0m\u001b[0;34m[\u001b[0m\u001b[0msubtype_name\u001b[0m\u001b[0;34m]\u001b[0m \u001b[0;34m=\u001b[0m \u001b[0mcls\u001b[0m\u001b[0;34m\u001b[0m\u001b[0;34m\u001b[0m\u001b[0m\n\u001b[1;32m    110\u001b[0m \u001b[0;34m\u001b[0m\u001b[0m\n",
      "\u001b[0;31mValueError\u001b[0m: Cant register <class '__main__.AlgoLinkUI'> as __main__.AlgoLinkUI. Subtype <class '__main__.AlgoLinkUI'> is already registered"
     ]
    }
   ],
   "source": [
    "from algolink.ext.sqlalchemy.repository import SQLAlchemyMetaRepository\n",
    "from typing import List, Optional, Type, TypeVar, Union\n",
    "from algolink.ext.sqlalchemy.models import Attaching,TExperiment\n",
    "\n",
    "class AlgoLinkUI(SQLAlchemyMetaRepository):\n",
    "    def __init__(self,db_uri: str):\n",
    "        super().__init__(db_uri)\n",
    "\n",
    "    def _get_objects(self, object_type: Type[Attaching], add_filter=None) -> List:\n",
    "        with self._session() as s:\n",
    "            if add_filter is None:\n",
    "                logger.debug('Getting %ss', object_type.__name__)\n",
    "            else:\n",
    "                logger.debug('Getting %ss with filter %s', object_type.__name__, add_filter)\n",
    "            q = s.query(object_type)\n",
    "            if add_filter:\n",
    "                q = q.filter(add_filter)\n",
    "            return [o.to_obj() for o in q.all()]\n",
    "        \n",
    "        \n",
    "test = AlgoLinkUI(\"sqlite:///sql.db\")"
   ]
  },
  {
   "cell_type": "code",
   "execution_count": 13,
   "metadata": {},
   "outputs": [],
   "source": [
    "from algolink.ext.sqlalchemy.repository import SQLAlchemyMetaRepository\n",
    "from algolink.ext.sqlalchemy.models import Attaching,TExperiment,STask\n",
    "\n",
    "test = SQLAlchemyMetaRepository(\"sqlite:///sql.db\")\n",
    "\n"
   ]
  },
  {
   "cell_type": "code",
   "execution_count": 11,
   "metadata": {},
   "outputs": [],
   "source": [
    "exp=test._get_objects(TExperiment,TExperiment.id)"
   ]
  },
  {
   "cell_type": "code",
   "execution_count": 14,
   "metadata": {},
   "outputs": [
    {
     "name": "stdout",
     "output_type": "stream",
     "text": [
      "[{'author': 'leepand',\n",
      "  'creation_date': '2021-10-14 02:14:24.058297 ',\n",
      "  'experiment_remark': 'experiment_remark',\n",
      "  'experiment_sequence': 1,\n",
      "  'id': 1,\n",
      "  'name': 'test_track5',\n",
      "  'task_id': 2},\n",
      " {'author': 'leepand',\n",
      "  'creation_date': '2021-10-15 09:53:15.620394 ',\n",
      "  'experiment_remark': 'experiment_remark',\n",
      "  'experiment_sequence': 1,\n",
      "  'id': 2,\n",
      "  'name': 'test_track1',\n",
      "  'task_id': 5}]\n"
     ]
    }
   ],
   "source": [
    "from pprint import pprint\n",
    "from pyjackson import serialize\n",
    "\n",
    "pprint(serialize(exp))"
   ]
  },
  {
   "cell_type": "code",
   "execution_count": 30,
   "metadata": {},
   "outputs": [
    {
     "name": "stdout",
     "output_type": "stream",
     "text": [
      "{'author': 'leepand',\n",
      " 'creation_date': '2021-10-14 02:14:24.039844 ',\n",
      " 'datasets': {},\n",
      " 'evaluation_sets': {},\n",
      " 'id': 2,\n",
      " 'metrics': {},\n",
      " 'name': 'my_task_tracking',\n",
      " 'project_id': 1}\n",
      "{'author': 'leepand',\n",
      " 'creation_date': '2021-10-15 09:28:05.955313 ',\n",
      " 'datasets': {},\n",
      " 'evaluation_sets': {},\n",
      " 'id': 5,\n",
      " 'metrics': {},\n",
      " 'name': '机器学习任务',\n",
      " 'project_id': 2}\n"
     ]
    }
   ],
   "source": [
    "x = []\n",
    "for i in exp:\n",
    "    exp2=test._get_object_by_id(STask,i.task_id)\n",
    "    x.append(exp2)\n",
    "    #print(i.task_id)\n",
    "    pprint(serialize(exp2))"
   ]
  },
  {
   "cell_type": "code",
   "execution_count": 31,
   "metadata": {},
   "outputs": [
    {
     "data": {
      "text/plain": [
       "[Task(id=2,name=my_task_tracking), Task(id=5,name=机器学习任务)]"
      ]
     },
     "execution_count": 31,
     "metadata": {},
     "output_type": "execute_result"
    }
   ],
   "source": [
    "x"
   ]
  },
  {
   "cell_type": "code",
   "execution_count": 29,
   "metadata": {},
   "outputs": [
    {
     "data": {
      "text/plain": [
       "Task(id=5,name=机器学习任务)"
      ]
     },
     "execution_count": 29,
     "metadata": {},
     "output_type": "execute_result"
    }
   ],
   "source": [
    "test._get_object_by_id(STask,5)"
   ]
  },
  {
   "cell_type": "code",
   "execution_count": 32,
   "metadata": {},
   "outputs": [
    {
     "name": "stdout",
     "output_type": "stream",
     "text": [
      "/Users/leepand/Downloads/MLOps/AlgoLink/tests\n"
     ]
    }
   ],
   "source": [
    "!pwd"
   ]
  },
  {
   "cell_type": "code",
   "execution_count": null,
   "metadata": {},
   "outputs": [],
   "source": []
  },
  {
   "cell_type": "code",
   "execution_count": 62,
   "metadata": {},
   "outputs": [
    {
     "name": "stdout",
     "output_type": "stream",
     "text": [
      "\u001b[34m.\u001b[m\u001b[m                 methods.json      requirements.json\n",
      "\u001b[34m..\u001b[m\u001b[m                model.pkl\n"
     ]
    }
   ],
   "source": [
    "!ls -a .ebonite/artifacts/model/0"
   ]
  },
  {
   "cell_type": "code",
   "execution_count": 63,
   "metadata": {},
   "outputs": [],
   "source": [
    "import pandas as pd\n",
    "import sqlite3\n",
    "\n",
    "con = sqlite3.connect(\"sql.db\")\n",
    "\n",
    "# Load the data into a DataFrame\n",
    "surveys_df = pd.read_sql_query(\"SELECT * from experiments\", con)\n",
    "\n",
    "# Select only data for 2002\n",
    "#surveys2002 = surveys_df[surveys_df.year == 2002]\n",
    "\n",
    "# Write the new DataFrame to a new SQLite table\n",
    "#surveys2002.to_sql(\"surveys2002\", con, if_exists=\"replace\")\n",
    "\n",
    "con.close()"
   ]
  },
  {
   "cell_type": "code",
   "execution_count": 64,
   "metadata": {},
   "outputs": [
    {
     "data": {
      "text/html": [
       "<div>\n",
       "<style scoped>\n",
       "    .dataframe tbody tr th:only-of-type {\n",
       "        vertical-align: middle;\n",
       "    }\n",
       "\n",
       "    .dataframe tbody tr th {\n",
       "        vertical-align: top;\n",
       "    }\n",
       "\n",
       "    .dataframe thead th {\n",
       "        text-align: right;\n",
       "    }\n",
       "</style>\n",
       "<table border=\"1\" class=\"dataframe\">\n",
       "  <thead>\n",
       "    <tr style=\"text-align: right;\">\n",
       "      <th></th>\n",
       "      <th>id</th>\n",
       "      <th>name</th>\n",
       "      <th>author</th>\n",
       "      <th>experiment_remark</th>\n",
       "      <th>experiment_sequence</th>\n",
       "      <th>del_flag</th>\n",
       "      <th>creation_date</th>\n",
       "      <th>task_id</th>\n",
       "    </tr>\n",
       "  </thead>\n",
       "  <tbody>\n",
       "    <tr>\n",
       "      <th>0</th>\n",
       "      <td>1</td>\n",
       "      <td>test_track5</td>\n",
       "      <td>leepand</td>\n",
       "      <td>experiment_remark</td>\n",
       "      <td>1</td>\n",
       "      <td>0</td>\n",
       "      <td>2021-10-16 07:50:31.206202</td>\n",
       "      <td>1</td>\n",
       "    </tr>\n",
       "    <tr>\n",
       "      <th>1</th>\n",
       "      <td>2</td>\n",
       "      <td>test_track6</td>\n",
       "      <td>leepand</td>\n",
       "      <td>experiment_remark</td>\n",
       "      <td>1</td>\n",
       "      <td>0</td>\n",
       "      <td>2021-10-16 08:28:50.595045</td>\n",
       "      <td>2</td>\n",
       "    </tr>\n",
       "    <tr>\n",
       "      <th>2</th>\n",
       "      <td>3</td>\n",
       "      <td>test_track7</td>\n",
       "      <td>leepand</td>\n",
       "      <td>experiment_remark</td>\n",
       "      <td>2</td>\n",
       "      <td>0</td>\n",
       "      <td>2021-10-16 16:13:00.386830</td>\n",
       "      <td>2</td>\n",
       "    </tr>\n",
       "    <tr>\n",
       "      <th>3</th>\n",
       "      <td>4</td>\n",
       "      <td>test_track9</td>\n",
       "      <td>leepand</td>\n",
       "      <td>experiment_remark</td>\n",
       "      <td>2</td>\n",
       "      <td>0</td>\n",
       "      <td>2021-10-17 10:18:50.957025</td>\n",
       "      <td>1</td>\n",
       "    </tr>\n",
       "    <tr>\n",
       "      <th>4</th>\n",
       "      <td>5</td>\n",
       "      <td>test_track10</td>\n",
       "      <td>leepand</td>\n",
       "      <td>experiment_remark</td>\n",
       "      <td>3</td>\n",
       "      <td>0</td>\n",
       "      <td>2021-10-17 10:32:02.063523</td>\n",
       "      <td>1</td>\n",
       "    </tr>\n",
       "  </tbody>\n",
       "</table>\n",
       "</div>"
      ],
      "text/plain": [
       "   id          name   author  experiment_remark  experiment_sequence  \\\n",
       "0   1   test_track5  leepand  experiment_remark                    1   \n",
       "1   2   test_track6  leepand  experiment_remark                    1   \n",
       "2   3   test_track7  leepand  experiment_remark                    2   \n",
       "3   4   test_track9  leepand  experiment_remark                    2   \n",
       "4   5  test_track10  leepand  experiment_remark                    3   \n",
       "\n",
       "   del_flag               creation_date  task_id  \n",
       "0         0  2021-10-16 07:50:31.206202        1  \n",
       "1         0  2021-10-16 08:28:50.595045        2  \n",
       "2         0  2021-10-16 16:13:00.386830        2  \n",
       "3         0  2021-10-17 10:18:50.957025        1  \n",
       "4         0  2021-10-17 10:32:02.063523        1  "
      ]
     },
     "execution_count": 64,
     "metadata": {},
     "output_type": "execute_result"
    }
   ],
   "source": [
    "surveys_df"
   ]
  },
  {
   "cell_type": "code",
   "execution_count": 65,
   "metadata": {},
   "outputs": [
    {
     "data": {
      "text/html": [
       "<div>\n",
       "<style scoped>\n",
       "    .dataframe tbody tr th:only-of-type {\n",
       "        vertical-align: middle;\n",
       "    }\n",
       "\n",
       "    .dataframe tbody tr th {\n",
       "        vertical-align: top;\n",
       "    }\n",
       "\n",
       "    .dataframe thead th {\n",
       "        text-align: right;\n",
       "    }\n",
       "</style>\n",
       "<table border=\"1\" class=\"dataframe\">\n",
       "  <thead>\n",
       "    <tr style=\"text-align: right;\">\n",
       "      <th></th>\n",
       "      <th>id</th>\n",
       "      <th>name</th>\n",
       "      <th>author</th>\n",
       "      <th>experiment_remark</th>\n",
       "      <th>experiment_sequence</th>\n",
       "      <th>del_flag</th>\n",
       "      <th>creation_date</th>\n",
       "      <th>task_id</th>\n",
       "    </tr>\n",
       "  </thead>\n",
       "  <tbody>\n",
       "    <tr>\n",
       "      <th>0</th>\n",
       "      <td>1</td>\n",
       "      <td>test_track5</td>\n",
       "      <td>leepand</td>\n",
       "      <td>experiment_remark</td>\n",
       "      <td>1</td>\n",
       "      <td>0</td>\n",
       "      <td>2021-10-16 07:50:31.206202</td>\n",
       "      <td>1</td>\n",
       "    </tr>\n",
       "    <tr>\n",
       "      <th>1</th>\n",
       "      <td>2</td>\n",
       "      <td>test_track6</td>\n",
       "      <td>leepand</td>\n",
       "      <td>experiment_remark</td>\n",
       "      <td>1</td>\n",
       "      <td>0</td>\n",
       "      <td>2021-10-16 08:28:50.595045</td>\n",
       "      <td>2</td>\n",
       "    </tr>\n",
       "    <tr>\n",
       "      <th>2</th>\n",
       "      <td>3</td>\n",
       "      <td>test_track7</td>\n",
       "      <td>leepand</td>\n",
       "      <td>experiment_remark</td>\n",
       "      <td>2</td>\n",
       "      <td>0</td>\n",
       "      <td>2021-10-16 16:13:00.386830</td>\n",
       "      <td>2</td>\n",
       "    </tr>\n",
       "  </tbody>\n",
       "</table>\n",
       "</div>"
      ],
      "text/plain": [
       "   id         name   author  experiment_remark  experiment_sequence  del_flag  \\\n",
       "0   1  test_track5  leepand  experiment_remark                    1         0   \n",
       "1   2  test_track6  leepand  experiment_remark                    1         0   \n",
       "2   3  test_track7  leepand  experiment_remark                    2         0   \n",
       "\n",
       "                creation_date  task_id  \n",
       "0  2021-10-16 07:50:31.206202        1  \n",
       "1  2021-10-16 08:28:50.595045        2  \n",
       "2  2021-10-16 16:13:00.386830        2  "
      ]
     },
     "execution_count": 65,
     "metadata": {},
     "output_type": "execute_result"
    }
   ],
   "source": [
    "from sqlalchemy import create_engine\n",
    "\n",
    "disk_engine = create_engine('sqlite:///sql.db')\n",
    "#price.to_sql('stock_price', disk_engine, if_exists='append')\n",
    "df = pd.read_sql_query('SELECT * FROM experiments LIMIT 3',disk_engine)\n",
    "df.head()"
   ]
  },
  {
   "cell_type": "code",
   "execution_count": null,
   "metadata": {},
   "outputs": [],
   "source": []
  }
 ],
 "metadata": {
  "kernelspec": {
   "display_name": "Python 3",
   "language": "python",
   "name": "python3"
  },
  "language_info": {
   "codemirror_mode": {
    "name": "ipython",
    "version": 3
   },
   "file_extension": ".py",
   "mimetype": "text/x-python",
   "name": "python",
   "nbconvert_exporter": "python",
   "pygments_lexer": "ipython3",
   "version": "3.7.7"
  }
 },
 "nbformat": 4,
 "nbformat_minor": 4
}
