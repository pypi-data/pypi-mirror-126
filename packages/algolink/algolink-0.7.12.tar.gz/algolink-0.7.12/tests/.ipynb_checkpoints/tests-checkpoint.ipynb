{
 "cells": [
  {
   "cell_type": "code",
   "execution_count": 1,
   "metadata": {},
   "outputs": [
    {
     "name": "stderr",
     "output_type": "stream",
     "text": [
      "/Users/leepand/miniconda3/lib/python3.7/site-packages/sklearn/utils/validation.py:72: FutureWarning: Pass return_X_y=True as keyword args. From version 1.0 (renaming of 0.25) passing these as positional arguments will result in an error\n",
      "  \"will result in an error\", FutureWarning)\n"
     ]
    },
    {
     "data": {
      "text/plain": [
       "Model(id=None,name=diabetes_model_11)"
      ]
     },
     "execution_count": 1,
     "metadata": {},
     "output_type": "execute_result"
    }
   ],
   "source": [
    "#%%file test.py\n",
    "from sklearn.datasets import load_diabetes\n",
    "from sklearn.linear_model import LinearRegression\n",
    "\n",
    "X, y = load_diabetes(True)\n",
    "\n",
    "lr = LinearRegression()\n",
    "lr.fit(X, y)\n",
    "import algolink\n",
    "model = algolink.create_model(lr, X, model_name='diabetes_model_11')\n",
    "model"
   ]
  },
  {
   "cell_type": "code",
   "execution_count": 4,
   "metadata": {},
   "outputs": [
    {
     "name": "stdout",
     "output_type": "stream",
     "text": [
      "{'author': 'leepand',\n",
      " 'creation_date': '2021-09-24 00:24:09.880588 ',\n",
      " 'evaluations': {},\n",
      " 'name': 'diabetes_model_11',\n",
      " 'params': {'python_version': '3.7.7'},\n",
      " 'requirements': {'requirements': [{'module': 'sklearn',\n",
      "                                    'type': 'installable',\n",
      "                                    'version': '0.24.2'},\n",
      "                                   {'module': 'numpy',\n",
      "                                    'type': 'installable',\n",
      "                                    'version': '1.19.5'}]},\n",
      " 'wrapper_meta': {'type': 'algolink.ext.sklearn.model.SklearnModelWrapper'}}\n"
     ]
    }
   ],
   "source": [
    "from pprint import pprint\n",
    "from pyjackson import serialize\n",
    "\n",
    "pprint(serialize(model))"
   ]
  },
  {
   "cell_type": "code",
   "execution_count": 5,
   "metadata": {},
   "outputs": [
    {
     "data": {
      "text/plain": [
       "Model(id=0,name=diabetes_model_11)"
      ]
     },
     "execution_count": 5,
     "metadata": {},
     "output_type": "execute_result"
    }
   ],
   "source": [
    "alink = algolink.AlgoLink.local(clear=True)\n",
    "task = alink.get_or_create_task('my_prj', 'diabetes_task')\n",
    "task.push_model(model)"
   ]
  },
  {
   "cell_type": "code",
   "execution_count": 13,
   "metadata": {},
   "outputs": [
    {
     "data": {
      "text/plain": [
       "Model(id=0,name=diabetes_model_11)"
      ]
     },
     "execution_count": 13,
     "metadata": {},
     "output_type": "execute_result"
    }
   ],
   "source": [
    "model = alink.get_model('diabetes_model_11', task)\n",
    "model"
   ]
  },
  {
   "cell_type": "code",
   "execution_count": null,
   "metadata": {},
   "outputs": [
    {
     "name": "stdout",
     "output_type": "stream",
     "text": [
      "2021-09-24 08:41:06,279 [INFO] algolink_runtime: Starting AlgoLink runtime with loader DummyLoader and server FlaskServer ...\n",
      "2021-09-24 08:41:06,280 [INFO] algolink_runtime: Running server <algolink.ext.flask.server.FlaskServer object at 0x7fb2b3859110>\n"
     ]
    },
    {
     "name": "stderr",
     "output_type": "stream",
     "text": [
      "[2021-09-24 08:41:07 +0800] [3521] [INFO] Starting gunicorn 20.0.4\n",
      "[2021-09-24 08:41:07 +0800] [3521] [INFO] Listening at: http://0.0.0.0:9000 (3521)\n",
      "[2021-09-24 08:41:07 +0800] [3521] [INFO] Using worker: gevent\n",
      "[2021-09-24 08:41:07 +0800] [5550] [INFO] Booting worker with pid: 5550\n",
      "[2021-09-24 08:41:07 +0800] [5551] [INFO] Booting worker with pid: 5551\n",
      "/Users/leepand/miniconda3/lib/python3.7/site-packages/gunicorn/workers/ggevent.py:53: MonkeyPatchWarning: Monkey-patching ssl after ssl has already been imported may lead to errors, including RecursionError on Python 3.6. It may also silently lead to incorrect behaviour on Python 3.7. Please monkey-patch earlier. See https://github.com/gevent/gevent/issues/1016. Modules that had direct imports (NOT patched): ['urllib3.contrib.pyopenssl (/Users/leepand/miniconda3/lib/python3.7/site-packages/urllib3/contrib/pyopenssl.py)', 'botocore.httpsession (/Users/leepand/miniconda3/lib/python3.7/site-packages/botocore/httpsession.py)']. \n",
      "  monkey.patch_all()\n",
      "[2021-09-24 09:16:48 +0800] [3521] [CRITICAL] WORKER TIMEOUT (pid:5550)\n",
      "[2021-09-24 09:16:48 +0800] [3521] [CRITICAL] WORKER TIMEOUT (pid:5551)\n",
      "[2021-09-24 09:16:48 +0800] [5550] [INFO] Worker exiting (pid: 5550)\n",
      "[2021-09-24 09:16:48 +0800] [5551] [INFO] Worker exiting (pid: 5551)\n"
     ]
    },
    {
     "ename": "SystemExit",
     "evalue": "1",
     "output_type": "error",
     "traceback": [
      "An exception has occurred, use %tb to see the full traceback.\n",
      "\u001b[0;31mSystemExit\u001b[0m\u001b[0;31m:\u001b[0m 1\n"
     ]
    },
    {
     "ename": "SystemExit",
     "evalue": "1",
     "output_type": "error",
     "traceback": [
      "An exception has occurred, use %tb to see the full traceback.\n",
      "\u001b[0;31mSystemExit\u001b[0m\u001b[0;31m:\u001b[0m 1\n"
     ]
    },
    {
     "name": "stderr",
     "output_type": "stream",
     "text": [
      "/Users/leepand/miniconda3/lib/python3.7/site-packages/IPython/core/interactiveshell.py:3339: UserWarning: To exit: use 'exit', 'quit', or Ctrl-D.\n",
      "  warn(\"To exit: use 'exit', 'quit', or Ctrl-D.\", stacklevel=1)\n",
      "/Users/leepand/miniconda3/lib/python3.7/site-packages/IPython/core/interactiveshell.py:3339: UserWarning: To exit: use 'exit', 'quit', or Ctrl-D.\n",
      "  warn(\"To exit: use 'exit', 'quit', or Ctrl-D.\", stacklevel=1)\n",
      "[2021-09-24 09:16:49 +0800] [6038] [INFO] Booting worker with pid: 6038\n",
      "[2021-09-24 09:16:49 +0800] [6039] [INFO] Booting worker with pid: 6039\n",
      "/Users/leepand/miniconda3/lib/python3.7/site-packages/gunicorn/workers/ggevent.py:53: MonkeyPatchWarning: Monkey-patching ssl after ssl has already been imported may lead to errors, including RecursionError on Python 3.6. It may also silently lead to incorrect behaviour on Python 3.7. Please monkey-patch earlier. See https://github.com/gevent/gevent/issues/1016. Modules that had direct imports (NOT patched): ['urllib3.contrib.pyopenssl (/Users/leepand/miniconda3/lib/python3.7/site-packages/urllib3/contrib/pyopenssl.py)', 'botocore.httpsession (/Users/leepand/miniconda3/lib/python3.7/site-packages/botocore/httpsession.py)']. \n",
      "  monkey.patch_all()\n",
      "/Users/leepand/miniconda3/lib/python3.7/site-packages/gunicorn/workers/ggevent.py:53: MonkeyPatchWarning: Monkey-patching ssl after ssl has already been imported may lead to errors, including RecursionError on Python 3.6. It may also silently lead to incorrect behaviour on Python 3.7. Please monkey-patch earlier. See https://github.com/gevent/gevent/issues/1016. Modules that had direct imports (NOT patched): ['urllib3.contrib.pyopenssl (/Users/leepand/miniconda3/lib/python3.7/site-packages/urllib3/contrib/pyopenssl.py)', 'botocore.httpsession (/Users/leepand/miniconda3/lib/python3.7/site-packages/botocore/httpsession.py)']. \n",
      "  monkey.patch_all()\n",
      "[2021-09-24 10:18:19 +0800] [3521] [CRITICAL] WORKER TIMEOUT (pid:6038)\n",
      "[2021-09-24 10:18:19 +0800] [6038] [INFO] Worker exiting (pid: 6038)\n"
     ]
    },
    {
     "ename": "SystemExit",
     "evalue": "1",
     "output_type": "error",
     "traceback": [
      "An exception has occurred, use %tb to see the full traceback.\n",
      "\u001b[0;31mSystemExit\u001b[0m\u001b[0;31m:\u001b[0m 1\n"
     ]
    },
    {
     "name": "stderr",
     "output_type": "stream",
     "text": [
      "/Users/leepand/miniconda3/lib/python3.7/site-packages/IPython/core/interactiveshell.py:3339: UserWarning: To exit: use 'exit', 'quit', or Ctrl-D.\n",
      "  warn(\"To exit: use 'exit', 'quit', or Ctrl-D.\", stacklevel=1)\n",
      "[2021-09-24 10:18:49 +0800] [7607] [INFO] Booting worker with pid: 7607\n",
      "/Users/leepand/miniconda3/lib/python3.7/site-packages/gunicorn/workers/ggevent.py:53: MonkeyPatchWarning: Monkey-patching ssl after ssl has already been imported may lead to errors, including RecursionError on Python 3.6. It may also silently lead to incorrect behaviour on Python 3.7. Please monkey-patch earlier. See https://github.com/gevent/gevent/issues/1016. Modules that had direct imports (NOT patched): ['urllib3.contrib.pyopenssl (/Users/leepand/miniconda3/lib/python3.7/site-packages/urllib3/contrib/pyopenssl.py)', 'botocore.httpsession (/Users/leepand/miniconda3/lib/python3.7/site-packages/botocore/httpsession.py)']. \n",
      "  monkey.patch_all()\n",
      "[2021-09-24 10:50:09 +0800] [3521] [CRITICAL] WORKER TIMEOUT (pid:6039)\n",
      "[2021-09-24 10:50:09 +0800] [3521] [CRITICAL] WORKER TIMEOUT (pid:7607)\n",
      "[2021-09-24 10:50:09 +0800] [7607] [INFO] Worker exiting (pid: 7607)\n",
      "[2021-09-24 10:50:09 +0800] [6039] [INFO] Worker exiting (pid: 6039)\n"
     ]
    },
    {
     "ename": "SystemExit",
     "evalue": "1",
     "output_type": "error",
     "traceback": [
      "An exception has occurred, use %tb to see the full traceback.\n",
      "\u001b[0;31mSystemExit\u001b[0m\u001b[0;31m:\u001b[0m 1\n"
     ]
    },
    {
     "name": "stderr",
     "output_type": "stream",
     "text": [
      "/Users/leepand/miniconda3/lib/python3.7/site-packages/IPython/core/interactiveshell.py:3339: UserWarning: To exit: use 'exit', 'quit', or Ctrl-D.\n",
      "  warn(\"To exit: use 'exit', 'quit', or Ctrl-D.\", stacklevel=1)\n"
     ]
    },
    {
     "ename": "SystemExit",
     "evalue": "1",
     "output_type": "error",
     "traceback": [
      "An exception has occurred, use %tb to see the full traceback.\n",
      "\u001b[0;31mSystemExit\u001b[0m\u001b[0;31m:\u001b[0m 1\n"
     ]
    },
    {
     "name": "stderr",
     "output_type": "stream",
     "text": [
      "/Users/leepand/miniconda3/lib/python3.7/site-packages/IPython/core/interactiveshell.py:3339: UserWarning: To exit: use 'exit', 'quit', or Ctrl-D.\n",
      "  warn(\"To exit: use 'exit', 'quit', or Ctrl-D.\", stacklevel=1)\n",
      "[2021-09-24 10:50:10 +0800] [8133] [INFO] Booting worker with pid: 8133\n",
      "[2021-09-24 10:50:10 +0800] [8134] [INFO] Booting worker with pid: 8134\n",
      "/Users/leepand/miniconda3/lib/python3.7/site-packages/gunicorn/workers/ggevent.py:53: MonkeyPatchWarning: Monkey-patching ssl after ssl has already been imported may lead to errors, including RecursionError on Python 3.6. It may also silently lead to incorrect behaviour on Python 3.7. Please monkey-patch earlier. See https://github.com/gevent/gevent/issues/1016. Modules that had direct imports (NOT patched): ['urllib3.contrib.pyopenssl (/Users/leepand/miniconda3/lib/python3.7/site-packages/urllib3/contrib/pyopenssl.py)', 'botocore.httpsession (/Users/leepand/miniconda3/lib/python3.7/site-packages/botocore/httpsession.py)']. \n",
      "  monkey.patch_all()\n",
      "/Users/leepand/miniconda3/lib/python3.7/site-packages/gunicorn/workers/ggevent.py:53: MonkeyPatchWarning: Monkey-patching ssl after ssl has already been imported may lead to errors, including RecursionError on Python 3.6. It may also silently lead to incorrect behaviour on Python 3.7. Please monkey-patch earlier. See https://github.com/gevent/gevent/issues/1016. Modules that had direct imports (NOT patched): ['urllib3.contrib.pyopenssl (/Users/leepand/miniconda3/lib/python3.7/site-packages/urllib3/contrib/pyopenssl.py)', 'botocore.httpsession (/Users/leepand/miniconda3/lib/python3.7/site-packages/botocore/httpsession.py)']. \n",
      "  monkey.patch_all()\n",
      "[2021-09-24 13:01:25 +0800] [3521] [CRITICAL] WORKER TIMEOUT (pid:8133)\n",
      "[2021-09-24 13:01:25 +0800] [8133] [INFO] Worker exiting (pid: 8133)\n"
     ]
    },
    {
     "ename": "SystemExit",
     "evalue": "1",
     "output_type": "error",
     "traceback": [
      "An exception has occurred, use %tb to see the full traceback.\n",
      "\u001b[0;31mSystemExit\u001b[0m\u001b[0;31m:\u001b[0m 1\n"
     ]
    },
    {
     "name": "stderr",
     "output_type": "stream",
     "text": [
      "/Users/leepand/miniconda3/lib/python3.7/site-packages/IPython/core/interactiveshell.py:3339: UserWarning: To exit: use 'exit', 'quit', or Ctrl-D.\n",
      "  warn(\"To exit: use 'exit', 'quit', or Ctrl-D.\", stacklevel=1)\n",
      "[2021-09-24 13:01:55 +0800] [10743] [INFO] Booting worker with pid: 10743\n",
      "/Users/leepand/miniconda3/lib/python3.7/site-packages/gunicorn/workers/ggevent.py:53: MonkeyPatchWarning: Monkey-patching ssl after ssl has already been imported may lead to errors, including RecursionError on Python 3.6. It may also silently lead to incorrect behaviour on Python 3.7. Please monkey-patch earlier. See https://github.com/gevent/gevent/issues/1016. Modules that had direct imports (NOT patched): ['urllib3.contrib.pyopenssl (/Users/leepand/miniconda3/lib/python3.7/site-packages/urllib3/contrib/pyopenssl.py)', 'botocore.httpsession (/Users/leepand/miniconda3/lib/python3.7/site-packages/botocore/httpsession.py)']. \n",
      "  monkey.patch_all()\n",
      "[2021-09-24 13:39:29 +0800] [3521] [CRITICAL] WORKER TIMEOUT (pid:8134)\n",
      "[2021-09-24 13:39:29 +0800] [3521] [CRITICAL] WORKER TIMEOUT (pid:10743)\n",
      "[2021-09-24 13:39:29 +0800] [10743] [INFO] Worker exiting (pid: 10743)\n"
     ]
    },
    {
     "ename": "SystemExit",
     "evalue": "1",
     "output_type": "error",
     "traceback": [
      "An exception has occurred, use %tb to see the full traceback.\n",
      "\u001b[0;31mSystemExit\u001b[0m\u001b[0;31m:\u001b[0m 1\n"
     ]
    },
    {
     "name": "stderr",
     "output_type": "stream",
     "text": [
      "/Users/leepand/miniconda3/lib/python3.7/site-packages/IPython/core/interactiveshell.py:3339: UserWarning: To exit: use 'exit', 'quit', or Ctrl-D.\n",
      "  warn(\"To exit: use 'exit', 'quit', or Ctrl-D.\", stacklevel=1)\n",
      "[2021-09-24 13:39:29 +0800] [8134] [INFO] Worker exiting (pid: 8134)\n"
     ]
    },
    {
     "ename": "SystemExit",
     "evalue": "1",
     "output_type": "error",
     "traceback": [
      "An exception has occurred, use %tb to see the full traceback.\n",
      "\u001b[0;31mSystemExit\u001b[0m\u001b[0;31m:\u001b[0m 1\n"
     ]
    },
    {
     "name": "stderr",
     "output_type": "stream",
     "text": [
      "/Users/leepand/miniconda3/lib/python3.7/site-packages/IPython/core/interactiveshell.py:3339: UserWarning: To exit: use 'exit', 'quit', or Ctrl-D.\n",
      "  warn(\"To exit: use 'exit', 'quit', or Ctrl-D.\", stacklevel=1)\n",
      "[2021-09-24 13:39:30 +0800] [10810] [INFO] Booting worker with pid: 10810\n",
      "[2021-09-24 13:39:30 +0800] [10811] [INFO] Booting worker with pid: 10811\n",
      "/Users/leepand/miniconda3/lib/python3.7/site-packages/gunicorn/workers/ggevent.py:53: MonkeyPatchWarning: Monkey-patching ssl after ssl has already been imported may lead to errors, including RecursionError on Python 3.6. It may also silently lead to incorrect behaviour on Python 3.7. Please monkey-patch earlier. See https://github.com/gevent/gevent/issues/1016. Modules that had direct imports (NOT patched): ['urllib3.contrib.pyopenssl (/Users/leepand/miniconda3/lib/python3.7/site-packages/urllib3/contrib/pyopenssl.py)', 'botocore.httpsession (/Users/leepand/miniconda3/lib/python3.7/site-packages/botocore/httpsession.py)']. \n",
      "  monkey.patch_all()\n",
      "/Users/leepand/miniconda3/lib/python3.7/site-packages/gunicorn/workers/ggevent.py:53: MonkeyPatchWarning: Monkey-patching ssl after ssl has already been imported may lead to errors, including RecursionError on Python 3.6. It may also silently lead to incorrect behaviour on Python 3.7. Please monkey-patch earlier. See https://github.com/gevent/gevent/issues/1016. Modules that had direct imports (NOT patched): ['urllib3.contrib.pyopenssl (/Users/leepand/miniconda3/lib/python3.7/site-packages/urllib3/contrib/pyopenssl.py)', 'botocore.httpsession (/Users/leepand/miniconda3/lib/python3.7/site-packages/botocore/httpsession.py)']. \n",
      "  monkey.patch_all()\n",
      "[2021-09-24 14:29:31 +0800] [3521] [CRITICAL] WORKER TIMEOUT (pid:10810)\n",
      "[2021-09-24 14:29:31 +0800] [10810] [INFO] Worker exiting (pid: 10810)\n"
     ]
    },
    {
     "ename": "SystemExit",
     "evalue": "1",
     "output_type": "error",
     "traceback": [
      "An exception has occurred, use %tb to see the full traceback.\n",
      "\u001b[0;31mSystemExit\u001b[0m\u001b[0;31m:\u001b[0m 1\n"
     ]
    },
    {
     "name": "stderr",
     "output_type": "stream",
     "text": [
      "/Users/leepand/miniconda3/lib/python3.7/site-packages/IPython/core/interactiveshell.py:3339: UserWarning: To exit: use 'exit', 'quit', or Ctrl-D.\n",
      "  warn(\"To exit: use 'exit', 'quit', or Ctrl-D.\", stacklevel=1)\n",
      "[2021-09-24 14:30:01 +0800] [11387] [INFO] Booting worker with pid: 11387\n",
      "/Users/leepand/miniconda3/lib/python3.7/site-packages/gunicorn/workers/ggevent.py:53: MonkeyPatchWarning: Monkey-patching ssl after ssl has already been imported may lead to errors, including RecursionError on Python 3.6. It may also silently lead to incorrect behaviour on Python 3.7. Please monkey-patch earlier. See https://github.com/gevent/gevent/issues/1016. Modules that had direct imports (NOT patched): ['urllib3.contrib.pyopenssl (/Users/leepand/miniconda3/lib/python3.7/site-packages/urllib3/contrib/pyopenssl.py)', 'botocore.httpsession (/Users/leepand/miniconda3/lib/python3.7/site-packages/botocore/httpsession.py)']. \n",
      "  monkey.patch_all()\n",
      "[2021-09-24 15:18:52 +0800] [3521] [CRITICAL] WORKER TIMEOUT (pid:11387)\n",
      "[2021-09-24 15:18:52 +0800] [11387] [INFO] Worker exiting (pid: 11387)\n"
     ]
    },
    {
     "ename": "SystemExit",
     "evalue": "1",
     "output_type": "error",
     "traceback": [
      "An exception has occurred, use %tb to see the full traceback.\n",
      "\u001b[0;31mSystemExit\u001b[0m\u001b[0;31m:\u001b[0m 1\n"
     ]
    },
    {
     "name": "stderr",
     "output_type": "stream",
     "text": [
      "/Users/leepand/miniconda3/lib/python3.7/site-packages/IPython/core/interactiveshell.py:3339: UserWarning: To exit: use 'exit', 'quit', or Ctrl-D.\n",
      "  warn(\"To exit: use 'exit', 'quit', or Ctrl-D.\", stacklevel=1)\n",
      "[2021-09-24 15:18:53 +0800] [11406] [INFO] Booting worker with pid: 11406\n",
      "/Users/leepand/miniconda3/lib/python3.7/site-packages/gunicorn/workers/ggevent.py:53: MonkeyPatchWarning: Monkey-patching ssl after ssl has already been imported may lead to errors, including RecursionError on Python 3.6. It may also silently lead to incorrect behaviour on Python 3.7. Please monkey-patch earlier. See https://github.com/gevent/gevent/issues/1016. Modules that had direct imports (NOT patched): ['urllib3.contrib.pyopenssl (/Users/leepand/miniconda3/lib/python3.7/site-packages/urllib3/contrib/pyopenssl.py)', 'botocore.httpsession (/Users/leepand/miniconda3/lib/python3.7/site-packages/botocore/httpsession.py)']. \n",
      "  monkey.patch_all()\n",
      "[2021-09-24 16:51:41 +0800] [3521] [CRITICAL] WORKER TIMEOUT (pid:10811)\n",
      "[2021-09-24 16:51:41 +0800] [10811] [INFO] Worker exiting (pid: 10811)\n"
     ]
    },
    {
     "ename": "SystemExit",
     "evalue": "1",
     "output_type": "error",
     "traceback": [
      "An exception has occurred, use %tb to see the full traceback.\n",
      "\u001b[0;31mSystemExit\u001b[0m\u001b[0;31m:\u001b[0m 1\n"
     ]
    },
    {
     "name": "stderr",
     "output_type": "stream",
     "text": [
      "/Users/leepand/miniconda3/lib/python3.7/site-packages/IPython/core/interactiveshell.py:3339: UserWarning: To exit: use 'exit', 'quit', or Ctrl-D.\n",
      "  warn(\"To exit: use 'exit', 'quit', or Ctrl-D.\", stacklevel=1)\n",
      "[2021-09-24 16:51:42 +0800] [15181] [INFO] Booting worker with pid: 15181\n",
      "/Users/leepand/miniconda3/lib/python3.7/site-packages/gunicorn/workers/ggevent.py:53: MonkeyPatchWarning: Monkey-patching ssl after ssl has already been imported may lead to errors, including RecursionError on Python 3.6. It may also silently lead to incorrect behaviour on Python 3.7. Please monkey-patch earlier. See https://github.com/gevent/gevent/issues/1016. Modules that had direct imports (NOT patched): ['urllib3.contrib.pyopenssl (/Users/leepand/miniconda3/lib/python3.7/site-packages/urllib3/contrib/pyopenssl.py)', 'botocore.httpsession (/Users/leepand/miniconda3/lib/python3.7/site-packages/botocore/httpsession.py)']. \n",
      "  monkey.patch_all()\n",
      "[2021-09-24 17:53:34 +0800] [3521] [INFO] Handling signal: int\n",
      "[2021-09-24 17:53:34 +0800] [15181] [INFO] Worker exiting (pid: 15181)\n"
     ]
    },
    {
     "ename": "SystemExit",
     "evalue": "0",
     "output_type": "error",
     "traceback": [
      "An exception has occurred, use %tb to see the full traceback.\n",
      "\u001b[0;31mSystemExit\u001b[0m\u001b[0;31m:\u001b[0m 0\n"
     ]
    },
    {
     "name": "stderr",
     "output_type": "stream",
     "text": [
      "/Users/leepand/miniconda3/lib/python3.7/site-packages/IPython/core/interactiveshell.py:3339: UserWarning: To exit: use 'exit', 'quit', or Ctrl-D.\n",
      "  warn(\"To exit: use 'exit', 'quit', or Ctrl-D.\", stacklevel=1)\n",
      "[2021-09-24 17:53:34 +0800] [11406] [INFO] Worker exiting (pid: 11406)\n"
     ]
    },
    {
     "ename": "SystemExit",
     "evalue": "0",
     "output_type": "error",
     "traceback": [
      "An exception has occurred, use %tb to see the full traceback.\n",
      "\u001b[0;31mSystemExit\u001b[0m\u001b[0;31m:\u001b[0m 0\n"
     ]
    },
    {
     "name": "stderr",
     "output_type": "stream",
     "text": [
      "/Users/leepand/miniconda3/lib/python3.7/site-packages/IPython/core/interactiveshell.py:3339: UserWarning: To exit: use 'exit', 'quit', or Ctrl-D.\n",
      "  warn(\"To exit: use 'exit', 'quit', or Ctrl-D.\", stacklevel=1)\n"
     ]
    }
   ],
   "source": [
    "from algolink.runtime import run_model_server\n",
    "\n",
    "from algolink.ext.flask.server import FlaskServer\n",
    "run_model_server(model, FlaskServer())"
   ]
  },
  {
   "cell_type": "code",
   "execution_count": 2,
   "metadata": {},
   "outputs": [],
   "source": [
    "#from algolink import AlgoLink\n",
    "import algolink\n",
    "model = algolink.create_model(lr, X, model_name='diabetes_model_11')\n",
    "model"
   ]
  },
  {
   "cell_type": "code",
   "execution_count": 2,
   "metadata": {},
   "outputs": [
    {
     "data": {
      "text/plain": [
       "Model(id=None,name=diabetes_model_11)"
      ]
     },
     "execution_count": 2,
     "metadata": {},
     "output_type": "execute_result"
    }
   ],
   "source": [
    "model = algolink.create_model(lr, X, model_name='diabetes_model_11')\n",
    "model"
   ]
  },
  {
   "cell_type": "code",
   "execution_count": 4,
   "metadata": {},
   "outputs": [
    {
     "data": {
      "text/plain": [
       "Model(id=None,name=diabetes_model_1)"
      ]
     },
     "execution_count": 4,
     "metadata": {},
     "output_type": "execute_result"
    }
   ],
   "source": [
    "import ebonite\n",
    "model = ebonite.create_model(lr, X, model_name='diabetes_model_1')\n",
    "model\n"
   ]
  },
  {
   "cell_type": "code",
   "execution_count": 9,
   "metadata": {},
   "outputs": [
    {
     "name": "stdout",
     "output_type": "stream",
     "text": [
      "\u001b[34m.\u001b[m\u001b[m  \u001b[34m..\u001b[m\u001b[m \u001b[34m0\u001b[m\u001b[m\n"
     ]
    }
   ],
   "source": [
    "!ls -a .algolink/artifacts/model"
   ]
  },
  {
   "cell_type": "code",
   "execution_count": 3,
   "metadata": {},
   "outputs": [
    {
     "data": {
      "text/plain": [
       "Model(id=None,name=diabetes_model_11)"
      ]
     },
     "execution_count": 3,
     "metadata": {},
     "output_type": "execute_result"
    }
   ],
   "source": [
    "model"
   ]
  },
  {
   "cell_type": "code",
   "execution_count": null,
   "metadata": {},
   "outputs": [],
   "source": []
  }
 ],
 "metadata": {
  "kernelspec": {
   "display_name": "Python 3",
   "language": "python",
   "name": "python3"
  },
  "language_info": {
   "codemirror_mode": {
    "name": "ipython",
    "version": 3
   },
   "file_extension": ".py",
   "mimetype": "text/x-python",
   "name": "python",
   "nbconvert_exporter": "python",
   "pygments_lexer": "ipython3",
   "version": "3.7.7"
  }
 },
 "nbformat": 4,
 "nbformat_minor": 4
}
